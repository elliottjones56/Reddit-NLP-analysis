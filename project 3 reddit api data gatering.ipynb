{
 "cells": [
  {
   "cell_type": "code",
   "execution_count": 1,
   "metadata": {},
   "outputs": [],
   "source": [
    "#api key  X09IPNR8Z6T87AAL\n",
    "import praw\n",
    "import requests"
   ]
  },
  {
   "cell_type": "code",
   "execution_count": 2,
   "metadata": {},
   "outputs": [],
   "source": [
    "reddit = praw.Reddit(\n",
    "    site_name = 'DEFAULT',\n",
    "    user_agent = 'ejones'\n",
    ")"
   ]
  },
  {
   "cell_type": "code",
   "execution_count": null,
   "metadata": {},
   "outputs": [],
   "source": []
  },
  {
   "cell_type": "code",
   "execution_count": 3,
   "metadata": {},
   "outputs": [
    {
     "name": "stdout",
     "output_type": "stream",
     "text": [
      "mtgtader56\n"
     ]
    }
   ],
   "source": [
    "print(reddit.user.me()) "
   ]
  },
  {
   "cell_type": "markdown",
   "metadata": {},
   "source": [
    "Got my 6 subreddits, had to get a 6th downbelow to have enough data"
   ]
  },
  {
   "cell_type": "code",
   "execution_count": 5,
   "metadata": {},
   "outputs": [],
   "source": [
    "subreddit = reddit.subreddit(\"NoStupidQuestions\")\n",
    "sub1 = reddit.subreddit(\"AskReddit\")\n",
    "sub2 = reddit.subreddit(\"askscience\")\n",
    "sub3 = reddit.subreddit(\"AskWomen\")\n",
    "sub4 = reddit.subreddit(\"AskMen\")\n",
    "sub5 = reddit.subreddit(\"AskComputerScience\")\n"
   ]
  },
  {
   "cell_type": "code",
   "execution_count": null,
   "metadata": {},
   "outputs": [],
   "source": []
  },
  {
   "cell_type": "code",
   "execution_count": 4,
   "metadata": {},
   "outputs": [],
   "source": [
    "sub6 = reddit.subreddit(\"Ask_Politics\") # adding 1 more to hit 5000 this is a hottopic by definition soit should get me enough"
   ]
  },
  {
   "cell_type": "code",
   "execution_count": 7,
   "metadata": {},
   "outputs": [],
   "source": [
    "subredditlist = [subreddit,sub1,sub2,sub3,sub4,sub5, sub6]"
   ]
  },
  {
   "cell_type": "markdown",
   "metadata": {},
   "source": []
  },
  {
   "cell_type": "code",
   "execution_count": 6,
   "metadata": {},
   "outputs": [
    {
     "data": {
      "text/plain": [
       "[Submission(id='16mrb0b'),\n",
       " Submission(id='16mp0ic'),\n",
       " Submission(id='16mj2b4'),\n",
       " Submission(id='16mtr8p'),\n",
       " Submission(id='16muhr1'),\n",
       " Submission(id='16mxww3'),\n",
       " Submission(id='16mfosw'),\n",
       " Submission(id='16mppz1'),\n",
       " Submission(id='16mtz2b'),\n",
       " Submission(id='16mhgne')]"
      ]
     },
     "execution_count": 6,
     "metadata": {},
     "output_type": "execute_result"
    }
   ],
   "source": [
    "#standard code i use throughout to get top 1000 submissions in the subreddit \n",
    "submissionlist = []\n",
    "for submission in subreddit.hot(limit=1000):\n",
    "    submissionlist.append(submission)\n",
    "    #submissionlist and urls if I need them\n",
    "submissionlist[:10]"
   ]
  },
  {
   "cell_type": "code",
   "execution_count": 12,
   "metadata": {},
   "outputs": [
    {
     "data": {
      "text/plain": [
       "968"
      ]
     },
     "execution_count": 12,
     "metadata": {},
     "output_type": "execute_result"
    }
   ],
   "source": [
    "len(submissionlist)"
   ]
  },
  {
   "cell_type": "code",
   "execution_count": 10,
   "metadata": {},
   "outputs": [
    {
     "ename": "NameError",
     "evalue": "name 'submissionlist' is not defined",
     "output_type": "error",
     "traceback": [
      "\u001b[1;31m---------------------------------------------------------------------------\u001b[0m",
      "\u001b[1;31mNameError\u001b[0m                                 Traceback (most recent call last)",
      "\u001b[1;32mc:\\Users\\ellio\\Downloads\\gastuff\\projects\\project_3\\project 3 reddit api data gatering.ipynb Cell 12\u001b[0m line \u001b[0;36m1\n\u001b[1;32m----> <a href='vscode-notebook-cell:/c%3A/Users/ellio/Downloads/gastuff/projects/project_3/project%203%20reddit%20api%20data%20gatering.ipynb#X12sZmlsZQ%3D%3D?line=0'>1</a>\u001b[0m submissionlist\n",
      "\u001b[1;31mNameError\u001b[0m: name 'submissionlist' is not defined"
     ]
    }
   ],
   "source": [
    "submissionlist"
   ]
  },
  {
   "cell_type": "code",
   "execution_count": 22,
   "metadata": {},
   "outputs": [
    {
     "data": {
      "text/plain": [
       "'Whilst I admire your perseverance silent treatment is one of the worst coping mechanisms - it manipulates the ignored into buckling, and allows the ignorer to deny any responsibility.\\n\\nI would just keep speaking to him even if he ignores you, he may pretend he’s not listening but the words will go in.\\n\\nDon’t give up and succumb as he wants you to, for what you say here seems reasonable.\\n\\nYou have nothing to apologise for based on your OP and your husbands anger is misdirected, he’s annoyed he can’t see his sister. But realistically he will see her soon anyway.\\n\\nEverytime you give in to his childishness, it only gives more reason for him to do this again, he knows it works. Even if inside he’s beating himself up about it and knows it’s unhealthy and stupid\\n\\nTry to remain calm and your points intentful and informed. It may be exhausting and break you down, but your neutrality here is your strength.\\n\\nHe does need to know however that his frustrations with money are not your doing. They’re a collective matter that needs to be addressed as a family unit.\\n\\nNot discussing this isn’t going to make any money appear, nor is it going to resolve the symptoms of not having the money you want. It also looks ridiculous in front of your kids and is damaging.'"
      ]
     },
     "execution_count": 22,
     "metadata": {},
     "output_type": "execute_result"
    }
   ],
   "source": [
    "top_level_comments = list(submissionlist[0].comments)\n",
    "top_level_comments[0].body\n"
   ]
  },
  {
   "cell_type": "markdown",
   "metadata": {},
   "source": [
    "Gathering titles and responses to use as prompts and answers"
   ]
  },
  {
   "cell_type": "code",
   "execution_count": 42,
   "metadata": {},
   "outputs": [
    {
     "data": {
      "text/plain": [
       "[{\"If Germany calls itself Deutschland, why don't we call it that? Same for all other countries, why not pronounce their native names?\": 'It’s called “*exonyms*”.\\n\\nGermany is a tricky one, because it was the name that the Roman Empire gave to that area. But the very people didn’t call themselves that.\\n\\nHowever, remote places kept the reference to the Roman name. And adding that until 250 years ago the fastest way you could travel was on a horse, people stuck with a lot of exonyms, letting them be cemented into language long before we had more direct communication.'},\n",
       " {'Why do all girls seem to find other girls attractive, even though they’re not bi/lesbian?': 'noticing beauty is different than having sexual attraction'},\n",
       " {'Is it reasonable to not want to marry someone who can’t provide?': \"Hi /u/throwaway29383p,\\n\\nWe noticed you are a pretty new Reddit account, so we just wanted to let you know to check out the subreddit rules [here](https://www.reddit.com/r/NoStupidQuestions/wiki/rules) and maybe have a read through our [Frequently Asked Questions](https://www.reddit.com/r/NoStupidQuestions/wiki/index/faq) - they make for fascinating reading!\\n\\nWe're called No Stupid Questions because we believe nobody needs to be attacked for asking a question, but *that doesn't mean there are no rules!* This sub is meant for users like you to ask genuine questions. Please don't ask jokes or rants disguised as questions - that's not in the spirit of this sub. While you *can* ask almost anything here, please keep illegal and offensive questions elsewhere to give people a good experience here - and if you have a medical question, please ask your doctor, not us. \\n    \\nOtherwise, welcome!\\n\\n*I am a bot, and this action was performed automatically. Please [contact the moderators of this subreddit](/message/compose/?to=/r/NoStupidQuestions) if you have any questions or concerns.*\"},\n",
       " {'what’s the most offensive thing you’ve ever seen sold and were there any repercussions?': 'This isn\\'t super offensive like some suggestions I\\'ve seen, but shortly after Star Wars Episode 1 came out is saw some disturbing merch: a JarJar Binks candy sucker. It had a plastic JarJar head and you would push a plunger to make the head split open wide at the mouth and, apparently, suck on the tongue-shaped candy.\\n\\n6th grade me thought: \"What the *actual* fuck?\"\\n\\nThere was indeed some outrage, that item wasn\\'t sold long but it wasn\\'t a newsworthy scandal.'},\n",
       " {'If WWIII kicks off would nuclear missiles be shot down over water (given enough time) and/or would nukes be dropped as bombs like WWII?': 'ICBMs fly into space.  No pilot is going to shoot them down.'},\n",
       " {'Explain like I’m 5… how do I shower correctly': \"You may need some clinical antiperspirant.  That isn't unusual.\\n\\nSpeak to your Dr.\"},\n",
       " {'My orthodontist always calls me a good girl is this weird?': \"Orthodontist? Is this while getting braces tightened? He may just be used to younger kids moaning bc it hurts \\n\\nI am a very hard needle stick, the number of times I've been told 'good girl' and been patted throughout my life after an especially hard time I can't count. \\n\\n\\nSometimes it's someone trying to show empathy or encouragement.\\n\\nJust speak to him about it. If it continues beyond that,  file a complaint.\"},\n",
       " {'What exactly am I supposed to be looking at when watching women belly dancing or other forms of erotic dances?': \"Look at everything at once or any specific thing. Whatever you like. You're supposed to be staring.\"},\n",
       " {'What happens to the foreskin during sex?': \">does the foreskin go in or bunch up at the base\\n\\nAs a man, reading this was very painful.\\n\\nno, the foreskin retracts to show the glans, but it doesn't go any further, so it remains around the neck of the glans, and yes it does go in.\"},\n",
       " {'Why is it close to impossible for a new Reddit account to participate on this platform?': 'Just browse a while. I have a month and have 7oo points. Just installed for a legal  question but there are some interesting subs. By the way is there an index or something with a description of the subreddits? Each day I learn about an interesting sub but I would like to have an index or something.'}]"
      ]
     },
     "execution_count": 42,
     "metadata": {},
     "output_type": "execute_result"
    }
   ],
   "source": [
    "tes = []\n",
    "from praw.models import MoreComments\n",
    "for submission in submissionlist: # playing with praw documentation\n",
    "    if list(submission.comments) != []:\n",
    "        tes.append({submission.title : list(submission.comments)[0].body})\n",
    "tes[:10]"
   ]
  },
  {
   "cell_type": "code",
   "execution_count": 30,
   "metadata": {},
   "outputs": [
    {
     "data": {
      "text/plain": [
       "903"
      ]
     },
     "execution_count": 30,
     "metadata": {},
     "output_type": "execute_result"
    }
   ],
   "source": [
    "len(tes)"
   ]
  },
  {
   "cell_type": "code",
   "execution_count": 51,
   "metadata": {},
   "outputs": [],
   "source": [
    "for x in tes:\n",
    "    for k in x.keys():\n",
    "        titles.append(k)"
   ]
  },
  {
   "cell_type": "code",
   "execution_count": 53,
   "metadata": {},
   "outputs": [],
   "source": [
    "titles;"
   ]
  },
  {
   "cell_type": "code",
   "execution_count": 56,
   "metadata": {},
   "outputs": [],
   "source": [
    "answers = [] # could i list comp this probablly but my listcomp didn't work answers = [v for v in x.values() for x in tes]\n",
    "for x in tes:\n",
    "    for v in x.values():\n",
    "        answers.append(v)\n"
   ]
  },
  {
   "cell_type": "code",
   "execution_count": 58,
   "metadata": {},
   "outputs": [],
   "source": [
    "answers;"
   ]
  },
  {
   "cell_type": "code",
   "execution_count": 41,
   "metadata": {},
   "outputs": [
    {
     "data": {
      "text/plain": [
       "{Submission(id='16ksjhr'): 'It’s called “*exonyms*”.\\n\\nGermany is a tricky one, because it was the name that the Roman Empire gave to that area. But the very people didn’t call themselves that.\\n\\nHowever, remote places kept the reference to the Roman name. And adding that until 250 years ago the fastest way you could travel was on a horse, people stuck with a lot of exonyms, letting them be cemented into language long before we had more direct communication.'}"
      ]
     },
     "execution_count": 41,
     "metadata": {},
     "output_type": "execute_result"
    }
   ],
   "source": [
    "tes[0]"
   ]
  },
  {
   "cell_type": "code",
   "execution_count": 31,
   "metadata": {},
   "outputs": [
    {
     "data": {
      "text/plain": [
       "906"
      ]
     },
     "execution_count": 31,
     "metadata": {},
     "output_type": "execute_result"
    }
   ],
   "source": [
    "len(submissionlist)"
   ]
  },
  {
   "cell_type": "markdown",
   "metadata": {},
   "source": [
    "1st df export"
   ]
  },
  {
   "cell_type": "code",
   "execution_count": 65,
   "metadata": {},
   "outputs": [],
   "source": [
    "import pandas as pd\n",
    "nostupid = pd.DataFrame({'titles': titles , 'answers' : answers})"
   ]
  },
  {
   "cell_type": "code",
   "execution_count": 66,
   "metadata": {},
   "outputs": [
    {
     "data": {
      "text/html": [
       "<div>\n",
       "<style scoped>\n",
       "    .dataframe tbody tr th:only-of-type {\n",
       "        vertical-align: middle;\n",
       "    }\n",
       "\n",
       "    .dataframe tbody tr th {\n",
       "        vertical-align: top;\n",
       "    }\n",
       "\n",
       "    .dataframe thead th {\n",
       "        text-align: right;\n",
       "    }\n",
       "</style>\n",
       "<table border=\"1\" class=\"dataframe\">\n",
       "  <thead>\n",
       "    <tr style=\"text-align: right;\">\n",
       "      <th></th>\n",
       "      <th>titles</th>\n",
       "      <th>answers</th>\n",
       "    </tr>\n",
       "  </thead>\n",
       "  <tbody>\n",
       "    <tr>\n",
       "      <th>0</th>\n",
       "      <td>If Germany calls itself Deutschland, why don't...</td>\n",
       "      <td>It’s called “*exonyms*”.\\n\\nGermany is a trick...</td>\n",
       "    </tr>\n",
       "    <tr>\n",
       "      <th>1</th>\n",
       "      <td>Why do all girls seem to find other girls attr...</td>\n",
       "      <td>noticing beauty is different than having sexua...</td>\n",
       "    </tr>\n",
       "    <tr>\n",
       "      <th>2</th>\n",
       "      <td>Is it reasonable to not want to marry someone ...</td>\n",
       "      <td>Hi /u/throwaway29383p,\\n\\nWe noticed you are a...</td>\n",
       "    </tr>\n",
       "    <tr>\n",
       "      <th>3</th>\n",
       "      <td>what’s the most offensive thing you’ve ever se...</td>\n",
       "      <td>This isn't super offensive like some suggestio...</td>\n",
       "    </tr>\n",
       "    <tr>\n",
       "      <th>4</th>\n",
       "      <td>If WWIII kicks off would nuclear missiles be s...</td>\n",
       "      <td>ICBMs fly into space.  No pilot is going to sh...</td>\n",
       "    </tr>\n",
       "  </tbody>\n",
       "</table>\n",
       "</div>"
      ],
      "text/plain": [
       "                                              titles  \\\n",
       "0  If Germany calls itself Deutschland, why don't...   \n",
       "1  Why do all girls seem to find other girls attr...   \n",
       "2  Is it reasonable to not want to marry someone ...   \n",
       "3  what’s the most offensive thing you’ve ever se...   \n",
       "4  If WWIII kicks off would nuclear missiles be s...   \n",
       "\n",
       "                                             answers  \n",
       "0  It’s called “*exonyms*”.\\n\\nGermany is a trick...  \n",
       "1  noticing beauty is different than having sexua...  \n",
       "2  Hi /u/throwaway29383p,\\n\\nWe noticed you are a...  \n",
       "3  This isn't super offensive like some suggestio...  \n",
       "4  ICBMs fly into space.  No pilot is going to sh...  "
      ]
     },
     "execution_count": 66,
     "metadata": {},
     "output_type": "execute_result"
    }
   ],
   "source": [
    "nostupid.head()"
   ]
  },
  {
   "cell_type": "code",
   "execution_count": 67,
   "metadata": {},
   "outputs": [],
   "source": [
    "#export no stupid questions\n",
    "nostupid.to_csv(\"data/Nostupidquestions.csv\")"
   ]
  },
  {
   "cell_type": "markdown",
   "metadata": {},
   "source": [
    "Next I repeat the process for the next 5 dataframes"
   ]
  },
  {
   "cell_type": "code",
   "execution_count": 69,
   "metadata": {},
   "outputs": [
    {
     "data": {
      "text/plain": [
       "[Submission(id='16kxri5'),\n",
       " Submission(id='16l15lh'),\n",
       " Submission(id='16l0ebf'),\n",
       " Submission(id='16kzbxr'),\n",
       " Submission(id='16kxxh7'),\n",
       " Submission(id='16kirqn'),\n",
       " Submission(id='16kqyuk'),\n",
       " Submission(id='16kdqgp'),\n",
       " Submission(id='16kqubh'),\n",
       " Submission(id='16kw9kz')]"
      ]
     },
     "execution_count": 69,
     "metadata": {},
     "output_type": "execute_result"
    }
   ],
   "source": [
    "#next subreddit Askreddit\n",
    "submissionlist1 = []\n",
    "for submission in sub1.hot(limit=1000):\n",
    "    submissionlist1.append(submission)\n",
    "    #getting the submissionlist\n",
    "submissionlist1[:10]"
   ]
  },
  {
   "cell_type": "code",
   "execution_count": 70,
   "metadata": {},
   "outputs": [
    {
     "data": {
      "text/plain": [
       "774"
      ]
     },
     "execution_count": 70,
     "metadata": {},
     "output_type": "execute_result"
    }
   ],
   "source": [
    "len(submissionlist1)"
   ]
  },
  {
   "cell_type": "code",
   "execution_count": 74,
   "metadata": {},
   "outputs": [
    {
     "data": {
      "text/plain": [
       "praw.models.comment_forest.CommentForest"
      ]
     },
     "execution_count": 74,
     "metadata": {},
     "output_type": "execute_result"
    }
   ],
   "source": [
    "type(submissionlist1[0].comments)"
   ]
  },
  {
   "cell_type": "code",
   "execution_count": 72,
   "metadata": {},
   "outputs": [
    {
     "data": {
      "text/plain": [
       "[{'Are there women out there that genuinely love their husband yet have zero desire for sex? How do you maintain your relationship?': \"Sounds like my mom who was pumped full of every psychotropic drug known to man in order to stay sane but entirely killed her sex drive. The last ten years my dad was alive he had girlfriends on the side. It was my mom's idea and the three of them would hang out and go to dinner together and shit.  My sisters thought it was weird and fucked up but it wasn't my life or relationship so I didn't care.\"},\n",
       " {'What is an easy way to non-sexually pleasure a man?': 'Feed him'},\n",
       " {\"What's the worst example of cognitive dissonance you've seen in real life?\": 'People complaining about other peoples driving while comitting the same errors but its ok because \"they are in a hurry\"'},\n",
       " {'What are the best examples of “Create the problem, sell the solution”?': 'Tax filing software companies lobbying against the government prepping your taxes for you.\\n\\nMaybe not \"create\", but certainly perpetuating.'},\n",
       " {'What is something you like that sounds like a kink when you describe it, but is really 100% non-sexual?': 'I’m a behavioral therapist and my job consists of terms like positive reinforcement, punishment, and scenario based role play, so… there’s that.'},\n",
       " {'If someone gave you $1000 a day to never drink alcohol again/ever, what would you do?': 'Speaking as a heavy drinker, I’m taking the money. It’s not even close. I’ll figure out how to quit. My job is most of why I drink anyway.'},\n",
       " {'you’ve been told you look like someone, who is it?': \"Jessica Alba\\n\\nThe only problem is that I'm a man!! 😨\"},\n",
       " {'What do women want during oral sex but will never say?': 'When I say lighter I fucking mean it stop trying to push my clit inside my body pls 😭'},\n",
       " {'What has gone downhill since 2020?': 'Affordablity'},\n",
       " {\"What's an introvert supposed to say when someone says 'you're so quiet'?\": \"Nod with a little grin and just go 'mhm!'\"}]"
      ]
     },
     "execution_count": 72,
     "metadata": {},
     "output_type": "execute_result"
    }
   ],
   "source": [
    "askredditcom = []\n",
    "for submission in submissionlist1: # playing with praw documentation\n",
    "    if list(submission.comments) != []:\n",
    "        askredditcom.append({submission.title : list(submission.comments)[0].body})\n",
    "askredditcom[:10]"
   ]
  },
  {
   "cell_type": "code",
   "execution_count": 76,
   "metadata": {},
   "outputs": [],
   "source": [
    "askreddittitles = []\n",
    "askredditanswers = []\n",
    "for x in askredditcom:\n",
    "    for k in x.keys():\n",
    "        askreddittitles.append(k)\n",
    "    for v in x.values():\n",
    "        askredditanswers.append(v)"
   ]
  },
  {
   "cell_type": "code",
   "execution_count": 78,
   "metadata": {},
   "outputs": [],
   "source": [
    "askreddittitles;"
   ]
  },
  {
   "cell_type": "code",
   "execution_count": 86,
   "metadata": {},
   "outputs": [],
   "source": [
    "askreddit = pd.DataFrame({'askreddittitles': askreddittitles , 'askredditanswers' : askredditanswers})\n",
    "askreddit.to_csv(\"data/askreddit.csv\")"
   ]
  },
  {
   "cell_type": "code",
   "execution_count": 87,
   "metadata": {},
   "outputs": [
    {
     "data": {
      "text/html": [
       "<div>\n",
       "<style scoped>\n",
       "    .dataframe tbody tr th:only-of-type {\n",
       "        vertical-align: middle;\n",
       "    }\n",
       "\n",
       "    .dataframe tbody tr th {\n",
       "        vertical-align: top;\n",
       "    }\n",
       "\n",
       "    .dataframe thead th {\n",
       "        text-align: right;\n",
       "    }\n",
       "</style>\n",
       "<table border=\"1\" class=\"dataframe\">\n",
       "  <thead>\n",
       "    <tr style=\"text-align: right;\">\n",
       "      <th></th>\n",
       "      <th>askreddittitles</th>\n",
       "      <th>askredditanswers</th>\n",
       "    </tr>\n",
       "  </thead>\n",
       "  <tbody>\n",
       "    <tr>\n",
       "      <th>0</th>\n",
       "      <td>Are there women out there that genuinely love ...</td>\n",
       "      <td>Sounds like my mom who was pumped full of ever...</td>\n",
       "    </tr>\n",
       "    <tr>\n",
       "      <th>1</th>\n",
       "      <td>What is an easy way to non-sexually pleasure a...</td>\n",
       "      <td>Feed him</td>\n",
       "    </tr>\n",
       "    <tr>\n",
       "      <th>2</th>\n",
       "      <td>What's the worst example of cognitive dissonan...</td>\n",
       "      <td>People complaining about other peoples driving...</td>\n",
       "    </tr>\n",
       "    <tr>\n",
       "      <th>3</th>\n",
       "      <td>What are the best examples of “Create the prob...</td>\n",
       "      <td>Tax filing software companies lobbying against...</td>\n",
       "    </tr>\n",
       "    <tr>\n",
       "      <th>4</th>\n",
       "      <td>What is something you like that sounds like a ...</td>\n",
       "      <td>I’m a behavioral therapist and my job consists...</td>\n",
       "    </tr>\n",
       "  </tbody>\n",
       "</table>\n",
       "</div>"
      ],
      "text/plain": [
       "                                     askreddittitles  \\\n",
       "0  Are there women out there that genuinely love ...   \n",
       "1  What is an easy way to non-sexually pleasure a...   \n",
       "2  What's the worst example of cognitive dissonan...   \n",
       "3  What are the best examples of “Create the prob...   \n",
       "4  What is something you like that sounds like a ...   \n",
       "\n",
       "                                    askredditanswers  \n",
       "0  Sounds like my mom who was pumped full of ever...  \n",
       "1                                           Feed him  \n",
       "2  People complaining about other peoples driving...  \n",
       "3  Tax filing software companies lobbying against...  \n",
       "4  I’m a behavioral therapist and my job consists...  "
      ]
     },
     "execution_count": 87,
     "metadata": {},
     "output_type": "execute_result"
    }
   ],
   "source": [
    "askreddit.head()"
   ]
  },
  {
   "cell_type": "code",
   "execution_count": 82,
   "metadata": {},
   "outputs": [
    {
     "data": {
      "text/plain": [
       "[Submission(id='15186wx'),\n",
       " Submission(id='167zo82'),\n",
       " Submission(id='16kqnou'),\n",
       " Submission(id='16jxnx5'),\n",
       " Submission(id='16jj7zl'),\n",
       " Submission(id='16kghp5'),\n",
       " Submission(id='16j949k'),\n",
       " Submission(id='16jbs8f'),\n",
       " Submission(id='16jdplm'),\n",
       " Submission(id='16ip43x')]"
      ]
     },
     "execution_count": 82,
     "metadata": {},
     "output_type": "execute_result"
    }
   ],
   "source": [
    "#next subreddit askscience\n",
    "submissionlist2 = []\n",
    "for submission in sub2.hot(limit=1000):\n",
    "    submissionlist2.append(submission)\n",
    "    #getting the submissionlist\n",
    "submissionlist2[:10]"
   ]
  },
  {
   "cell_type": "code",
   "execution_count": 83,
   "metadata": {},
   "outputs": [
    {
     "data": {
      "text/plain": [
       "993"
      ]
     },
     "execution_count": 83,
     "metadata": {},
     "output_type": "execute_result"
    }
   ],
   "source": [
    "len(submissionlist2)"
   ]
  },
  {
   "cell_type": "code",
   "execution_count": 84,
   "metadata": {},
   "outputs": [
    {
     "data": {
      "text/plain": [
       "[{'AskScience Panel of Scientists XXIV': 'Username: /u/galacticbyte\\n\\nGeneral field: particle physics\\n\\nSpecific field: theoretical particle physics\\n\\nSpecific research (in the past): phenomenology, collider physics, dark matter physics\\n\\nEducation: PhD in theoretical particle physics, 3 year post-doc researcher\\n\\nComments: published a handful of papers in related categories.'},\n",
       " {'Askscience is featured in: PARKS! Part 4: Would flooding Death Valley offset sea level rise?': \"Dean: Basically, he's saying that Death Valley isn't a rectangular box. But if it was, it would only be 355 square miles that are 70 feet deep, not 200-plus feet deep.\\n\\nBen: It's still pretty deep. But how much water would that hold?\\n\\nChris: About 4.5 cubic miles of water.\\n\\nAmory: Not the amount of water that we probably needed to hold.\\n\\nChris: This would counter about a week of sea level rise.\"},\n",
       " {'Where does energy go after it is used?': '[removed]'},\n",
       " {\"Why are there volcanoes on Hawaii? It's nowhere near any fault lines.\": \"My comment may get removed since I don't know what I'm talking about, but my Google-fu brought up this:\\n\\nHot-spot volcanism - Volcanoes can also form above a column of superheated magma called a mantle plume. This may happen in areas that are distant from plate boundaries. It is also referred to as hot spot or intraplate volcanism.\\n\\nSource: https://www.bgs.ac.uk/discovering-geology/earth-hazards/volcanoes/how-volcanoes-form-2/#:~:text=Hot%2Dspot%20volcanism,hot%20spot%20or%20intraplate%20volcanism.\"},\n",
       " {'Why is the suction limit 32 ft. And is it related to the 32 ft/s² ?': \"Because you're not really sucking anything up anything. The outside pressure is *pushing* it from the outside. \\n\\nAt sea level, 32/33 feet is as high as the atmosphere can push water up into a vacuum. Doesn't matter how thin or thick the space is, either.\"},\n",
       " {'How is location/orientation specified in space?': \"You will often see a reference to 'sidereal' in astronomy. This means by reference to the 'fixed stars', the stars that are apparently stationary from our position. \\n\\nThis can be used to orient yourself on a scale large enough to determine orbital angles for planets. \\n\\nUltimately all reference systems are arbitrary and are going to be based on what you're measuring.\\n\\nhttps://en.wikipedia.org/wiki/Astronomical_coordinate_systems\"},\n",
       " {'Why do bugs bite us?': 'By \"bugs,\" I\\'ll assume you mean any creepy  crawley and not just the group of insect called \"bugs\"\\n\\nOne of 3 reasons.\\n1) Nutritional. They survive off blood. Bed Bugs, fleas, horse flies etc all live off blood so they\\'re biting you is a form of predation/parisitism.\\n2) They are scared and perceive you as a threat needing to defend themselves from. Black Widows are highly skittish and will only bite if cornered or pressed on. And this applies to a great many bugs.\\n3) Aggressively protecting their territory, nest or personal space. Ants and Bees will suicidally protect their nest if disturbed. Centipedes will act like the local tough guy screaming, \"You wanna piece of me!?\" if threatened.'},\n",
       " {\"Feynman's Explanation of Light Travelling in a Straight line in QED: The Strange Theory of Light and Matter doesn't seem to make sense to me?\": \"One issue here is that experimentally we can't actually tell the path that a light particle travels, only where the particle starts and where it ends. Logically speaking though, for a light particle to travel the direct path, it must travel the same minimum distance as all other particles to reach the other side. This means that there's no room for the particle to travel more and become out of phase, so all the particles that follow the direct path must be constructively interfering with each other. As we consider particles that deviate more and more from this path, the more opportunities that the particles destructively interfere and hit the other side out of phase, though these non-direct particles can still arrive in phase with the direct route particles.\\n\\nFor your last question, I think you're partially dancing around the idea of light diffraction. There are other points that result in constructive interference that aren't the direct path of light. You can see this in single slit diffraction experiments.\"},\n",
       " {'Why did all the other hominids die out, while Homosapiens are so successful? What explains this stark contrast?': 'In the big picture, I\\'d put this down to something called the [competitive exclusion principle](https://en.wikipedia.org/wiki/Competitive_exclusion_principle).  Basically, it\\'s difficult to for species to coexist in the same niche in the same place.  If one species is a better competitor than the other, it will tend to push the other out.  There are exceptions to this rule, for a variety of reasons, but none seem to particularly apply to humans.  \\n\\nHominids have broad, overlapping niches, so it makes sense they would compete.  Often, species will divide up based on terrain.  You\\'ll have related species that live in different parts of the world. But modern humans are extremely good at dispersing and moved into all the areas that other hominid species occupied, getting rid of this location-based partition of species.\\n\\nI think this explains why it\\'s not surprising that you would have one surviving species of hominid.  Given a bunch of related, directly competing species that all have overlapping ranges, it\\'s reasonable that only one should come out on top.  And that could happen even if that one species were only slightly better at competing than the others.  Small advantages add up over time.  \\n\\nNow the exact details of why humans specifically won out and exactly how they won out are murky  (despite being a very interesting question).  We don\\'t have as much detail as we\\'d like about the behavior of various other hominid species.  There\\'s a ton of speculation but I wouldn\\'t say any of it is conclusive.  Also, when I talk about modern humans \"outcompeting\" other species, that\\'s a very broad term.  It could mean anything from direct physical hostility to simply getting at the food more efficiently.  \\n\\nWe can, however, say that while there _was_ some level of interbreeding between different species, humans don\\'t seem to have simply crossbred with other species until they disappeared.  The amount of nonhuman DNA in modern humans is low enough that it suggests that successful crosses were fairly rare.'},\n",
       " {'Why do many orthopaedic surgeons discourage weightlifting when research encourages it?': 'A reminder: anecdotes and speculation are not acceptable as an answer. Thank you.'}]"
      ]
     },
     "execution_count": 84,
     "metadata": {},
     "output_type": "execute_result"
    }
   ],
   "source": [
    "asksciencecom = []\n",
    "for submission in submissionlist2: \n",
    "    top_level_comments = list(submission.comments)\n",
    "    if top_level_comments != []:\n",
    "        asksciencecom.append({submission.title : list(submission.comments)[0].body})\n",
    "asksciencecom[:10]"
   ]
  },
  {
   "cell_type": "code",
   "execution_count": 85,
   "metadata": {},
   "outputs": [],
   "source": [
    "asksciencetitles = []\n",
    "askscienceanswers = []\n",
    "for x in asksciencecom:\n",
    "    for k in x.keys():\n",
    "        asksciencetitles.append(k)\n",
    "    for v in x.values():\n",
    "        askscienceanswers.append(v)"
   ]
  },
  {
   "cell_type": "code",
   "execution_count": 89,
   "metadata": {},
   "outputs": [],
   "source": [
    "askscience = pd.DataFrame({'asksciencetitles': asksciencetitles , 'askredditanswers' : askscienceanswers})\n",
    "askscience.to_csv(\"data/askscience.csv\")"
   ]
  },
  {
   "cell_type": "code",
   "execution_count": 90,
   "metadata": {},
   "outputs": [
    {
     "data": {
      "text/html": [
       "<div>\n",
       "<style scoped>\n",
       "    .dataframe tbody tr th:only-of-type {\n",
       "        vertical-align: middle;\n",
       "    }\n",
       "\n",
       "    .dataframe tbody tr th {\n",
       "        vertical-align: top;\n",
       "    }\n",
       "\n",
       "    .dataframe thead th {\n",
       "        text-align: right;\n",
       "    }\n",
       "</style>\n",
       "<table border=\"1\" class=\"dataframe\">\n",
       "  <thead>\n",
       "    <tr style=\"text-align: right;\">\n",
       "      <th></th>\n",
       "      <th>asksciencetitles</th>\n",
       "      <th>askredditanswers</th>\n",
       "    </tr>\n",
       "  </thead>\n",
       "  <tbody>\n",
       "    <tr>\n",
       "      <th>0</th>\n",
       "      <td>AskScience Panel of Scientists XXIV</td>\n",
       "      <td>Username: /u/galacticbyte\\n\\nGeneral field: pa...</td>\n",
       "    </tr>\n",
       "    <tr>\n",
       "      <th>1</th>\n",
       "      <td>Askscience is featured in: PARKS! Part 4: Woul...</td>\n",
       "      <td>Dean: Basically, he's saying that Death Valley...</td>\n",
       "    </tr>\n",
       "    <tr>\n",
       "      <th>2</th>\n",
       "      <td>Where does energy go after it is used?</td>\n",
       "      <td>[removed]</td>\n",
       "    </tr>\n",
       "    <tr>\n",
       "      <th>3</th>\n",
       "      <td>Why are there volcanoes on Hawaii? It's nowher...</td>\n",
       "      <td>My comment may get removed since I don't know ...</td>\n",
       "    </tr>\n",
       "    <tr>\n",
       "      <th>4</th>\n",
       "      <td>Why is the suction limit 32 ft. And is it rela...</td>\n",
       "      <td>Because you're not really sucking anything up ...</td>\n",
       "    </tr>\n",
       "  </tbody>\n",
       "</table>\n",
       "</div>"
      ],
      "text/plain": [
       "                                    asksciencetitles  \\\n",
       "0                AskScience Panel of Scientists XXIV   \n",
       "1  Askscience is featured in: PARKS! Part 4: Woul...   \n",
       "2             Where does energy go after it is used?   \n",
       "3  Why are there volcanoes on Hawaii? It's nowher...   \n",
       "4  Why is the suction limit 32 ft. And is it rela...   \n",
       "\n",
       "                                    askredditanswers  \n",
       "0  Username: /u/galacticbyte\\n\\nGeneral field: pa...  \n",
       "1  Dean: Basically, he's saying that Death Valley...  \n",
       "2                                          [removed]  \n",
       "3  My comment may get removed since I don't know ...  \n",
       "4  Because you're not really sucking anything up ...  "
      ]
     },
     "execution_count": 90,
     "metadata": {},
     "output_type": "execute_result"
    }
   ],
   "source": [
    "askscience.head()"
   ]
  },
  {
   "cell_type": "code",
   "execution_count": 91,
   "metadata": {},
   "outputs": [
    {
     "data": {
      "text/plain": [
       "[Submission(id='14d42mm'),\n",
       " Submission(id='16kuptb'),\n",
       " Submission(id='16knlp3'),\n",
       " Submission(id='16krase'),\n",
       " Submission(id='16kvwke'),\n",
       " Submission(id='16ko2s7'),\n",
       " Submission(id='16kvedy'),\n",
       " Submission(id='16krly4'),\n",
       " Submission(id='16l93py'),\n",
       " Submission(id='16kjwda')]"
      ]
     },
     "execution_count": 91,
     "metadata": {},
     "output_type": "execute_result"
    }
   ],
   "source": [
    "#next subreddit askWomen\n",
    "submissionlist3 = []\n",
    "for submission in sub3.hot(limit=1000):\n",
    "    submissionlist3.append(submission)\n",
    "    #getting the submissionlist\n",
    "submissionlist3[:10]"
   ]
  },
  {
   "cell_type": "code",
   "execution_count": null,
   "metadata": {},
   "outputs": [],
   "source": []
  },
  {
   "cell_type": "code",
   "execution_count": 98,
   "metadata": {},
   "outputs": [
    {
     "data": {
      "text/plain": [
       "125"
      ]
     },
     "execution_count": 98,
     "metadata": {},
     "output_type": "execute_result"
    }
   ],
   "source": [
    "len(submissionlist3) # not enough submissions let's try the next one"
   ]
  },
  {
   "cell_type": "code",
   "execution_count": 92,
   "metadata": {},
   "outputs": [
    {
     "data": {
      "text/plain": [
       "197"
      ]
     },
     "execution_count": 92,
     "metadata": {},
     "output_type": "execute_result"
    }
   ],
   "source": [
    "submissionlist4 = []\n",
    "for submission in sub4.hot(limit=1000):\n",
    "    submissionlist4.append(submission)\n",
    "    #getting the submissionlist\n",
    "len(submissionlist4) #"
   ]
  },
  {
   "cell_type": "code",
   "execution_count": 93,
   "metadata": {},
   "outputs": [
    {
     "data": {
      "text/plain": [
       "992"
      ]
     },
     "execution_count": 93,
     "metadata": {},
     "output_type": "execute_result"
    }
   ],
   "source": [
    "submissionlist5 = []\n",
    "for submission in sub5.hot(limit=1000):\n",
    "    submissionlist5.append(submission)\n",
    "    #getting the submissionlist\n",
    "len(submissionlist5) #"
   ]
  },
  {
   "cell_type": "code",
   "execution_count": 94,
   "metadata": {},
   "outputs": [
    {
     "data": {
      "text/plain": [
       "3978"
      ]
     },
     "execution_count": 94,
     "metadata": {},
     "output_type": "execute_result"
    }
   ],
   "source": [
    "len(submissionlist)+len(submissionlist1)+len(submissionlist2)+len(submissionlist3)+len(submissionlist4)+len(submissionlist5) # that's not quite enough submissions let's add 1more "
   ]
  },
  {
   "cell_type": "code",
   "execution_count": 95,
   "metadata": {},
   "outputs": [
    {
     "data": {
      "text/plain": [
       "998"
      ]
     },
     "execution_count": 95,
     "metadata": {},
     "output_type": "execute_result"
    }
   ],
   "source": [
    "submissionlist6 = []\n",
    "for submission in sub6.hot(limit=1000):\n",
    "    submissionlist6.append(submission)\n",
    "    #getting the submissionlist\n",
    "len(submissionlist6) #there we go we have enough let's get those comments"
   ]
  },
  {
   "cell_type": "code",
   "execution_count": 96,
   "metadata": {},
   "outputs": [
    {
     "data": {
      "text/plain": [
       "[{\"What's something that happened to you that changed you as a woman?\": \"I guess it's turning 40 for me.\\n\\nI'm spending time on myself, after a long time raising children.\\n\\nI'm working out, eating better, taking time for myself and socialising more.\\n\\nI feel utterly fantastic and wishes I'd done it years ago!\"},\n",
       " {'Women who are now single after being in a loving relationship, how do you go to sleep every night with no one next to you for warmth?': \"This is why we have pets and stuffies.\\n\\nReal answer. I'm leaving a relationship where we did love each other once. And I'm fucking looking forward to having the space to myself. \\n\\nI also have a rabbit, and like to hug an extra pillow if I need to hold onto something.\"},\n",
       " {'Women who had to make the decision between keeping the baby and getting an abortion, what was it that solidify your choice?': 'I wasn\\'t in a place to be having a baby at the time, mental health wasn\\'t good, was in a toxic relationship and was on birth control to prevent pregnancy, it failed and as soon as the second line came up I was googling to see where my local clinic was. My decision was solidified when I recalled a previous conversation with my then boyfriend saying that he\\'d love to \"own\" me by getting me pregnant.'},\n",
       " {'Women who have battled self doubt, imposter syndrome and self esteem issues,how did you get over it?': 'I had so many. COMPLETELY incompetent managers at work that at some point I took that as a sign that you don’t need to excel at everything to succeed in life'},\n",
       " {'What are your Starbucks orders?': 'Nitro cold brew. Give me that rocket fuel'},\n",
       " {'What are some healthy ways you cope with the feeling of wanting to self destruct/self sabotage/turn anger inwards?': 'It may sound stupid but just doing nothing for a while helps. I distract myself with something until I calm down and reconsider again. Or talk with my friends.'},\n",
       " {'Where do you direct your eyes when checking someone out?': 'Direct eye contact, works every time.'},\n",
       " {'Women who decided to have a « non traditional » career or occupation for your gender, what was your biggest motivation to pursue it ?': 'Opportunities, money, and the never ending learning of new technologies!'},\n",
       " {'Women of Reddit, do you have a tattoo that you deeply regret and what and where is it?': \"I have a large set of Chinese characters on my forearm, thick black ink. (It says Courage. And yes, I've confirmed that it really says that and not 'Pork Bao' or whatever as the cliché goes.) Not the worst, but extremely Basic White Girl.\"},\n",
       " {'Women who just \"let life happen\" what happened?': 'Somehow I ended up in uni for physical therapy and have successfull photography side business'}]"
      ]
     },
     "execution_count": 96,
     "metadata": {},
     "output_type": "execute_result"
    }
   ],
   "source": [
    "askwomencom = []\n",
    "for submission in submissionlist3:\n",
    "    top_level_comments = list(submission.comments)\n",
    "    if len(top_level_comments) != 0 and len(top_level_comments) != 1:\n",
    "        askwomencom.append({submission.title :top_level_comments[1].body})\n",
    "askwomencom[:10] #ah this one is runed by a bot OK \n",
    "# i came back and fixed the bot problem when i encountered it again on ask_poltiics"
   ]
  },
  {
   "cell_type": "code",
   "execution_count": 97,
   "metadata": {},
   "outputs": [],
   "source": [
    "askwomentitles = []\n",
    "askswomenanswers = []\n",
    "for x in askwomencom:\n",
    "    for k in x.keys():\n",
    "        askwomentitles.append(k)\n",
    "    for v in x.values():\n",
    "        askswomenanswers.append(v)"
   ]
  },
  {
   "cell_type": "code",
   "execution_count": 98,
   "metadata": {},
   "outputs": [],
   "source": [
    "askwomen = pd.DataFrame({'askwomentitles': askwomentitles, 'askswomenanswers' :askswomenanswers})\n",
    "askwomen.to_csv(\"data/askwomen.csv\")"
   ]
  },
  {
   "cell_type": "code",
   "execution_count": 99,
   "metadata": {},
   "outputs": [
    {
     "data": {
      "text/html": [
       "<div>\n",
       "<style scoped>\n",
       "    .dataframe tbody tr th:only-of-type {\n",
       "        vertical-align: middle;\n",
       "    }\n",
       "\n",
       "    .dataframe tbody tr th {\n",
       "        vertical-align: top;\n",
       "    }\n",
       "\n",
       "    .dataframe thead th {\n",
       "        text-align: right;\n",
       "    }\n",
       "</style>\n",
       "<table border=\"1\" class=\"dataframe\">\n",
       "  <thead>\n",
       "    <tr style=\"text-align: right;\">\n",
       "      <th></th>\n",
       "      <th>askwomentitles</th>\n",
       "      <th>askswomenanswers</th>\n",
       "    </tr>\n",
       "  </thead>\n",
       "  <tbody>\n",
       "    <tr>\n",
       "      <th>0</th>\n",
       "      <td>What's something that happened to you that cha...</td>\n",
       "      <td>I guess it's turning 40 for me.\\n\\nI'm spendin...</td>\n",
       "    </tr>\n",
       "    <tr>\n",
       "      <th>1</th>\n",
       "      <td>Women who are now single after being in a lovi...</td>\n",
       "      <td>This is why we have pets and stuffies.\\n\\nReal...</td>\n",
       "    </tr>\n",
       "    <tr>\n",
       "      <th>2</th>\n",
       "      <td>Women who had to make the decision between kee...</td>\n",
       "      <td>I wasn't in a place to be having a baby at the...</td>\n",
       "    </tr>\n",
       "    <tr>\n",
       "      <th>3</th>\n",
       "      <td>Women who have battled self doubt, imposter sy...</td>\n",
       "      <td>I had so many. COMPLETELY incompetent managers...</td>\n",
       "    </tr>\n",
       "    <tr>\n",
       "      <th>4</th>\n",
       "      <td>What are your Starbucks orders?</td>\n",
       "      <td>Nitro cold brew. Give me that rocket fuel</td>\n",
       "    </tr>\n",
       "  </tbody>\n",
       "</table>\n",
       "</div>"
      ],
      "text/plain": [
       "                                      askwomentitles  \\\n",
       "0  What's something that happened to you that cha...   \n",
       "1  Women who are now single after being in a lovi...   \n",
       "2  Women who had to make the decision between kee...   \n",
       "3  Women who have battled self doubt, imposter sy...   \n",
       "4                    What are your Starbucks orders?   \n",
       "\n",
       "                                    askswomenanswers  \n",
       "0  I guess it's turning 40 for me.\\n\\nI'm spendin...  \n",
       "1  This is why we have pets and stuffies.\\n\\nReal...  \n",
       "2  I wasn't in a place to be having a baby at the...  \n",
       "3  I had so many. COMPLETELY incompetent managers...  \n",
       "4          Nitro cold brew. Give me that rocket fuel  "
      ]
     },
     "execution_count": 99,
     "metadata": {},
     "output_type": "execute_result"
    }
   ],
   "source": [
    "askwomen.head()"
   ]
  },
  {
   "cell_type": "code",
   "execution_count": 100,
   "metadata": {},
   "outputs": [
    {
     "data": {
      "text/plain": [
       "[{'Announcing the 2023 Official /r/AskMen Demographics Survey!': 'Removed google account requirement. Captcha question is at end of survey.'},\n",
       " {'THERE WILL BE NO MORE ROMAN EMPIRE QUESTIONS. POST ONE AND YOU WILL GET BANNED.': 'What the hell is a roman empire question?\\n\\nI\\'m out of the loop on this.\\n\\nI\\'m guessing it\\'s not literally about the roman empire because I don\\'t see many history based questions on here. Especially about the roman empire. \\n\\nMost questions I see are either  \"Men, what attracts you to a woman\" or stuff like that or questions that literally murder Rule # 4 and treat this sub as VentToMen\\n\\nI don\\'t use and never used TikTok so that is why I\\'m probably have no idea what this is about.'},\n",
       " {'How much money should one spend on an engagement ring realistically?': 'I would just look for a nice quality ring that you can actually afford'},\n",
       " {'Men of reddit, at what age did you have your first girlfriend?': \"Didn't have my first kiss until I was 22. Didn't lose my virginity until I was 23, and didn't have my first serious relationship until 25. I'm now 27 and on the verge of being engaged. I was behind all of my buddies when it came to this stuff, and now I'm in a very happy relationship. Everyone moves at their own pace. It really doesn't matter when you reach these milestones, just as long as you make sure to take care of your body and mind!\"},\n",
       " {'Men of Reddit, what’s your opinion on the “you’ll find a relationship when you aren’t looking” technique?': \"The advice is loaded with the assumption that the person being advised has an active social life where they meet new people regularly.\\n\\nSo it is useless when the advisee's default state is one of going to work, going home, doing socially isolated activities, and repeat week by week. Changing or adding on to those routines to create a life where they can meet new people is where advice should be targeted.\\n\\nSaying this to someone without considering their current behaviors is just a shot in the dark; ignorance at best and dismissive at worst.\"},\n",
       " {'People talk about the death of \"third spaces\", what third spaces still exist?': \"3rd space as in other than home and work. Well, there is the gym. The girlfriends place if she doesn't live with you.\\n\\nBut for me, I have a buddy who is divorced. He has made his new home into a gathering place for his buddies to watch sports, play games like dungeons and dragons which he is now running, drink, relax, BBQs, a jumping off point for some golf, nights out, special events like ComicCon or Truck shows, etc. Better than a dive bar.\"},\n",
       " {'As a man, at what point do you say this relationship with this woman is not working for me?': \"When communication doesn't work anymore. This is the point of no return.\"},\n",
       " {'Former skinny guys, what did you do to gain weight?': 'I started eating more calories and protein.\\n\\nDoing sports helped too.'},\n",
       " {'Men of Reddit, what quote resonates with you the most?': '*“Maybe that’s enlightenment enough: to know that there is no final resting place of the mind; no moment of smug clarity. Perhaps wisdom...is realizing how small I am, and unwise, and how far I have yet to go.”*\\n\\n-Anthony Bourdain'},\n",
       " {'Men who have only had one partner because they found their SO early in life, why or why not do you regret not having been with more women?': 'No regret. She was the first person I wanted to be with, and the only ever since.'}]"
      ]
     },
     "execution_count": 100,
     "metadata": {},
     "output_type": "execute_result"
    }
   ],
   "source": [
    "askmencom = []\n",
    "for submission in submissionlist4:\n",
    "    top_level_comments = list(submission.comments)\n",
    "    if top_level_comments != []:\n",
    "        askmencom.append({submission.title :top_level_comments[0].body})\n",
    "askmencom[:10] "
   ]
  },
  {
   "cell_type": "code",
   "execution_count": 101,
   "metadata": {},
   "outputs": [],
   "source": [
    "askmentitles = []\n",
    "asksmenanswers = []\n",
    "for x in askmencom:\n",
    "    for k in x.keys():\n",
    "        askmentitles.append(k)\n",
    "    for v in x.values():\n",
    "        asksmenanswers.append(v)"
   ]
  },
  {
   "cell_type": "code",
   "execution_count": 104,
   "metadata": {},
   "outputs": [],
   "source": [
    "askmen = pd.DataFrame({'askmentitles' : askmentitles, 'asksmenanswers' : asksmenanswers})\n",
    "askmen.to_csv(\"data/askmen.csv\")"
   ]
  },
  {
   "cell_type": "code",
   "execution_count": 105,
   "metadata": {},
   "outputs": [
    {
     "data": {
      "text/html": [
       "<div>\n",
       "<style scoped>\n",
       "    .dataframe tbody tr th:only-of-type {\n",
       "        vertical-align: middle;\n",
       "    }\n",
       "\n",
       "    .dataframe tbody tr th {\n",
       "        vertical-align: top;\n",
       "    }\n",
       "\n",
       "    .dataframe thead th {\n",
       "        text-align: right;\n",
       "    }\n",
       "</style>\n",
       "<table border=\"1\" class=\"dataframe\">\n",
       "  <thead>\n",
       "    <tr style=\"text-align: right;\">\n",
       "      <th></th>\n",
       "      <th>askmentitles</th>\n",
       "      <th>asksmenanswers</th>\n",
       "    </tr>\n",
       "  </thead>\n",
       "  <tbody>\n",
       "    <tr>\n",
       "      <th>0</th>\n",
       "      <td>Announcing the 2023 Official /r/AskMen Demogra...</td>\n",
       "      <td>Removed google account requirement. Captcha qu...</td>\n",
       "    </tr>\n",
       "    <tr>\n",
       "      <th>1</th>\n",
       "      <td>THERE WILL BE NO MORE ROMAN EMPIRE QUESTIONS. ...</td>\n",
       "      <td>What the hell is a roman empire question?\\n\\nI...</td>\n",
       "    </tr>\n",
       "    <tr>\n",
       "      <th>2</th>\n",
       "      <td>How much money should one spend on an engageme...</td>\n",
       "      <td>I would just look for a nice quality ring that...</td>\n",
       "    </tr>\n",
       "    <tr>\n",
       "      <th>3</th>\n",
       "      <td>Men of reddit, at what age did you have your f...</td>\n",
       "      <td>Didn't have my first kiss until I was 22. Didn...</td>\n",
       "    </tr>\n",
       "    <tr>\n",
       "      <th>4</th>\n",
       "      <td>Men of Reddit, what’s your opinion on the “you...</td>\n",
       "      <td>The advice is loaded with the assumption that ...</td>\n",
       "    </tr>\n",
       "  </tbody>\n",
       "</table>\n",
       "</div>"
      ],
      "text/plain": [
       "                                        askmentitles  \\\n",
       "0  Announcing the 2023 Official /r/AskMen Demogra...   \n",
       "1  THERE WILL BE NO MORE ROMAN EMPIRE QUESTIONS. ...   \n",
       "2  How much money should one spend on an engageme...   \n",
       "3  Men of reddit, at what age did you have your f...   \n",
       "4  Men of Reddit, what’s your opinion on the “you...   \n",
       "\n",
       "                                      asksmenanswers  \n",
       "0  Removed google account requirement. Captcha qu...  \n",
       "1  What the hell is a roman empire question?\\n\\nI...  \n",
       "2  I would just look for a nice quality ring that...  \n",
       "3  Didn't have my first kiss until I was 22. Didn...  \n",
       "4  The advice is loaded with the assumption that ...  "
      ]
     },
     "execution_count": 105,
     "metadata": {},
     "output_type": "execute_result"
    }
   ],
   "source": [
    "askmen.head()"
   ]
  },
  {
   "cell_type": "code",
   "execution_count": 107,
   "metadata": {},
   "outputs": [
    {
     "data": {
      "text/plain": [
       "[{'English Dictionary as a Directed Graph': \"You may want to search for the isolated subgraphs (https://en.wikipedia.org/wiki/Component_(graph_theory) ) and choose some criteria for eliminating smaller subgraphs. I'm not sure what a reasonable elimination criteria would be, it's interesting.\"},\n",
       " {'Help needed for Max Flow Ford Fulkerson problem': 'I think you mean > α not > 1\\n\\nThe idea is basically to have one nasty augmenting path that’s a really bad one (and in normal FF would have been cancelled by reverse flows) to block out many many different augmenting paths.\\n\\nhttps://imgur.com/a/dGRcGZ9\\n\\nIn the image link I’ve attached, you can convince yourself that the max flow is 6, but if you take the augmenting path s-a-b-c-d-e-f-g-h-i-j-k-l-t then you’ll have blocked every other path that would have allowed the max flow and you’d only have a flow of 1. Now you can just add more vertices to get an even bigger α'},\n",
       " {'Order of learning Java Collection Framework?': 'Read the documentation for the collection class itself first. That’s the list of buttons you can press on any collection. Order does not matter. Find out what Iterable means in this context, and learn about cursors. \\n\\nDon’t waste your time doing self directed study for internships. Nobody in the hiring office gives an F about your true understanding of concepts, they want you to be quick with canned answers. Go to leetcode and solve problems there. If you can solve 5 medium problems completely on your own, you’re good to go. Learn your data structures from an interview prep book not your college textbook. \\n\\nLet me also mention that Python is the lingua franca of programming interviews. It’s a lot less cumbersome to work with compared to java and a lot easier to learn.'},\n",
       " {'Help two rats in maze problem': 'Seems like you could do A* search of the joint state space, with the heuristic being the sum of the two Manhattan distances.'},\n",
       " {'How to start from scratch.. legit base zero': \"> build computers, create systems, programmes, softwares, codes etc all by myself\\n\\nIt's worth noting that building computers has little to do with computer science (confusing, I know), but there are plenty of video guides on YouTube [like this one](https://www.youtube.com/watch?v=BL4DCEp7blY).\\n\\nAs far as the fundamentals of CS, you can learn a lot from online resources. I'm partial to [freeCodeCamp](https://www.freecodecamp.org/). You can start at the top of their curriculum with web design, or you can jump ahead to the Python courses for something closer to the subjects typically covered in university.\\n\\nI've also been through the [nand2tetris](https://www.nand2tetris.org/) course as well with the accompanying textbook, and it will make you learn how a computer works from the ground up. You will need to learn some programming language before completing the second half of the course, though.\"},\n",
       " {'Help in Automata Question': 'One approach is to show that in general for any language L, we have L* = L+ ⋃ {ε} so if L contains ε then L* = L+\\n\\nNow on the RHS, since L* contains epsilon, L\\\\*+ = L\\\\**\\n\\nClearly L** contains L+* (Because L* contains L+). Just remains to show that any string in L\\\\** is in L+\\\\*. Let w be a string in L\\\\*\\\\*. Since ε is in both sides we can assume w is not empty string. That means that w = s1s2…sn where si ∈ L*, si are not ε and n >= 1\\n\\nBut if si are not ε, then si ∈ L+ so w ∈ L+* which completes the proof'},\n",
       " {'Intersection of two regular expressions.': 'In what model of Computation? As a DFA you just do a cross product construction, same with NFA but the epsilon transitions are a little tricky.'},\n",
       " {'Intersecting regular expressions - stuck.': \"> I tried to solve the question with this approach - the NFAs have 8 and 11 states respectively, and their cross product is too much to handle on paper. Is there a better way to do this?\\n\\nI think you must be overcomplicating this from the beginning somehow, because when I draw out the NFAs for the two input regexes, I get 3 and 2 states, respectively.\\n\\nSo the cross product has 6 states. But of those 6, one is unreachable, and another one is a dead-end non-accepting state which can be discarded. Of the remaining 4 states, two are an equivalent pair and can be collapsed together. So you really only have to worry about 3 states.\\n\\n(Or, if you prefer, you can solve this in a less formal way without explicitly constructing the NFAs. Hint: your second regex matches a string iff that string ends in 0. If a string matches the first regex and also ends in a 0, what can you say about it?)\\n\\nIf you'd like to check your answer, you can use http://phylactery.org/antimirov/ which will compute regex intersections for you. The answer it computes is much more complex than the one I derived by hand, but when I plug in its answer and my own, it confirms that they're equivalent.\"},\n",
       " {'Formal Automata and Theory (Need Study Guide)': '[This](https://www.youtube.com/watch?v=14RLvkzbHFc) course is by Jeffrey Ullman , author of the famed Hopcroft- Ullman book. \\n\\n[This](https://www.youtube.com/playlist?list=PLUl4u3cNGP60_JNv2MmK3wkOt9syvfQWY) course is by Michael Sipser, author of yet another famed text.'},\n",
       " {'Information systems textbooks for bachelors': '\"Information Systems\" is a very general term. Are you interested in that very general topic, or something more specific?\\n\\nLike, if you want to know about databases, that\\'s one thing. Or computer networking is another.\\n\\nOr, there are large sub-categories of Information Systems, such as \"[Management Information Systems](https://en.wikipedia.org/wiki/Management_information_system)\".\\n\\nCould you elaborate on what you  mean?'}]"
      ]
     },
     "execution_count": 107,
     "metadata": {},
     "output_type": "execute_result"
    }
   ],
   "source": [
    "askcompscicom = []\n",
    "for submission in submissionlist5:\n",
    "    top_level_comments = list(submission.comments)\n",
    "    if top_level_comments != []:\n",
    "        askcompscicom.append({submission.title : top_level_comments[0].body})\n",
    "askcompscicom[:10] "
   ]
  },
  {
   "cell_type": "code",
   "execution_count": 110,
   "metadata": {},
   "outputs": [],
   "source": [
    "askcompscititles = []\n",
    "askcompscianswers = []\n",
    "for x in askcompscicom:\n",
    "    for k in x.keys():\n",
    "        askcompscititles.append(k)\n",
    "    for v in x.values():\n",
    "        askcompscianswers.append(v)"
   ]
  },
  {
   "cell_type": "code",
   "execution_count": 111,
   "metadata": {},
   "outputs": [],
   "source": [
    "askcompsci = pd.DataFrame({'compscititles' : askcompscititles, 'askcompscianswers' : askcompscianswers})\n",
    "askcompsci.to_csv(\"data/askcompsci.csv\")"
   ]
  },
  {
   "cell_type": "code",
   "execution_count": 112,
   "metadata": {},
   "outputs": [
    {
     "data": {
      "text/html": [
       "<div>\n",
       "<style scoped>\n",
       "    .dataframe tbody tr th:only-of-type {\n",
       "        vertical-align: middle;\n",
       "    }\n",
       "\n",
       "    .dataframe tbody tr th {\n",
       "        vertical-align: top;\n",
       "    }\n",
       "\n",
       "    .dataframe thead th {\n",
       "        text-align: right;\n",
       "    }\n",
       "</style>\n",
       "<table border=\"1\" class=\"dataframe\">\n",
       "  <thead>\n",
       "    <tr style=\"text-align: right;\">\n",
       "      <th></th>\n",
       "      <th>compscititles</th>\n",
       "      <th>askcompscianswers</th>\n",
       "    </tr>\n",
       "  </thead>\n",
       "  <tbody>\n",
       "    <tr>\n",
       "      <th>0</th>\n",
       "      <td>English Dictionary as a Directed Graph</td>\n",
       "      <td>You may want to search for the isolated subgra...</td>\n",
       "    </tr>\n",
       "    <tr>\n",
       "      <th>1</th>\n",
       "      <td>Help needed for Max Flow Ford Fulkerson problem</td>\n",
       "      <td>I think you mean &gt; α not &gt; 1\\n\\nThe idea is ba...</td>\n",
       "    </tr>\n",
       "    <tr>\n",
       "      <th>2</th>\n",
       "      <td>Order of learning Java Collection Framework?</td>\n",
       "      <td>Read the documentation for the collection clas...</td>\n",
       "    </tr>\n",
       "    <tr>\n",
       "      <th>3</th>\n",
       "      <td>Help two rats in maze problem</td>\n",
       "      <td>Seems like you could do A* search of the joint...</td>\n",
       "    </tr>\n",
       "    <tr>\n",
       "      <th>4</th>\n",
       "      <td>How to start from scratch.. legit base zero</td>\n",
       "      <td>&gt; build computers, create systems, programmes,...</td>\n",
       "    </tr>\n",
       "  </tbody>\n",
       "</table>\n",
       "</div>"
      ],
      "text/plain": [
       "                                     compscititles  \\\n",
       "0           English Dictionary as a Directed Graph   \n",
       "1  Help needed for Max Flow Ford Fulkerson problem   \n",
       "2     Order of learning Java Collection Framework?   \n",
       "3                    Help two rats in maze problem   \n",
       "4      How to start from scratch.. legit base zero   \n",
       "\n",
       "                                   askcompscianswers  \n",
       "0  You may want to search for the isolated subgra...  \n",
       "1  I think you mean > α not > 1\\n\\nThe idea is ba...  \n",
       "2  Read the documentation for the collection clas...  \n",
       "3  Seems like you could do A* search of the joint...  \n",
       "4  > build computers, create systems, programmes,...  "
      ]
     },
     "execution_count": 112,
     "metadata": {},
     "output_type": "execute_result"
    }
   ],
   "source": [
    "askcompsci.head()"
   ]
  },
  {
   "cell_type": "code",
   "execution_count": 118,
   "metadata": {},
   "outputs": [
    {
     "data": {
      "text/plain": [
       "'My wife and all my ex girlfriends say they are straight and yet they all say they find some girls very attractive and seem to enjoy looking at them just as much as I do. \\n\\nWe were at a beach yesterday and we both couldn’t keep our eyes off three girls lying close to us. The same would never happen with three attractive guys.'"
      ]
     },
     "execution_count": 118,
     "metadata": {},
     "output_type": "execute_result"
    }
   ],
   "source": [
    "submissionlist[1].selftext"
   ]
  },
  {
   "cell_type": "code",
   "execution_count": 120,
   "metadata": {},
   "outputs": [
    {
     "data": {
      "text/plain": [
       "[{\"With Friday 6/30 likely being the Court's final day of the term, I figured we'd open a megathread to discuss all decisions of the October 2022 term ranging from the FELA case from earlier this week to affirmative action today to the expected student loan decision tomorrow.\\n\\n&#x200B;\\n\\nRules are relaxed.\": 'I’m still baffled by many of the court’s decisions. Most recently I can’t seem to logically reconcile the following: 1. We learned that businesses are allowed to discriminate, picking and choosing their customers as they wish (under the guise of freedom of religion/speech). And then 2. Universities cannot use race as a factor for admission. Well… it seems to me that at least Harvard, being a private college and thus a corporation (sorry UNC), is allowed to discriminate per number 1 above.. so they can use race, or nepotism, or net worth, or anything they want as admission standards, right? Putting aside my own beliefs and trying to put myself into the minds of conservatives, this just doesn’t seem consistent. Am I looking at it wrong or missing something?'},\n",
       " {\"I don't care what team they're on, I'm just curious if this is a topic any of the candidates have been talking about. I feel like a candidate with a good plan to fix housing affordability could win a lot of votes. \": 'Since Biden has been addressed, I decided to check the top 5 Republican candidates-\\n\\nTrump- No mention on the issues page on his website. In his first term, his budget proposals cut spending on affordable housing programs, so not a great reputation. His current discussion of it pretty much only concerns ‘fixing the economy’ first and then I guess housing will sort itself out or he hasn’t come up with anything past that.\\n\\nDeSantis- No mention on his website. Did pass a $711 million plan aimed at making housing more affordable that included some positive provisions for affordable-housing projects. Not sure if it has actually translated to better outcomes quite yet.\\n\\nVivek- No mention on website and no mention that I can find elsewhere. Not surprising given he is running as the Trump substitute/VP pick.\\n\\nHaley- No mention on website or elsewhere that I can find.\\n\\nPence- No mention on website. When asked about solving housing, he took the same stance as Trump in that fixing the economy- more jobs, lower interest rates, etc.- is the first step in getting there. No current plan on what comes after that though.\\n\\nBased on none of them referencing housing affordability or availability on their websites, it sounds like it isn’t much of a priority at all for any of these candidates'},\n",
       " {\"I've been wanting to ask this for a long time, but a news publication made me finally do it. Sorry if it's obvious, but I don't know the answer.\\n\\nRussia and North Korea are negotiating guns and ammo, which could substantially help Russia in the Ukraine War. \\n\\nWhy make it public though? If Russia just did it in silence and maybe next month just surprised the whole world with a succession of well-succeeded offensives in the Ukraine War, that should be a smarter move, right?\\n\\nIs there any sort of global agreement to make such meetings public to the world? I know it's not all of the meetings and negotiations, but I can't help but think how (in my fantasy world at least) that's not a good strategy.\": \"Countries often do keep key meetings secrets, so the premise of the question is simply incorrect.  As to why any particular meeting was not kept secret, that's a bit more complicated, and I don't know in that case.\\n\\nIf negotiations are done in person, it's much harder to keep secret, as the location of key diplomatic personnel and especially heads of state tend to be either public or at least well known (ie heads of state often have so much security and apparatus with them that it's hard to keep it secret if they're in another country).\\n\\nNK really doesn't have the kind of supplies or industrial capacity that would make much of a difference to the Ukraine war.  So most likely publicization is to raise morale or talk up an ally.\"},\n",
       " {\"In my home country Finland there's parties such as, The Coalition party, Social Democrats, The Center, Basic Finns, The Leftside, Pirate party, Liberal party, Christian democrats and then some 1-man spinoffs that gather 1 seat in the parliament every term or so.\\n\\nIt's like there is a clear distinction. Is there a historical reason why (in my eyes) everybody in US belongs to a democratic republic but has to vote either the Democrats or the Republicans?\": \"The Democratic and Republican political parties are some of the oldest on earth still in operation. (Last time I looked into this, it actually appeared that the Democrats are the oldest political party on earth, beating out the UK's conservative party by just a smidge.) \\n\\nAs a result of this, their names don't really follow modern political party naming trends of including your ideology in the name. They pre-date the tradition.\\n\\nThe Democratic Party is, simply, named in honor of democracy. The party had a few different names thrown around when it was being founded, but the Democratic Party pretty quickly won out and was finalized as the name.\\n\\nThe Republicans are named after the Democratic-Republican Party. This was the dominant political party in the US from roughly ish 1800 to the 1820s. They competed against the Federalist Party... until they completely and utterly destroyed the Federalist around the back half of the 1810s. The Democratic-Republicans are named that by historians to differentiate them from our modern parties, but when that party actually existed they referred to themselves as the Republicans.\\n\\nSo when our current day Republicans were getting started, they took the name of the old party that used to dominate the country.\"},\n",
       " {'The US gets a lot of flak for its high healthcare costs in comparison to the rest of the world. Yet, America spends [more money per capita than any other country in the world on healthcare](https://www.theglobaleconomy.com/rankings/health_spending_per_capita/). In 2020, the US government spent over $11,000 on healthcare for each person on average. And yet, the US has the lowest life expectancy by far in the OECD. For Japan, the nation with the highest life expectancy in the world, the healthcare expenditure figure is just over $4,000. Why do we have such a low life expectancy for the amount we spend on healthcare?': '1. Exorbitant healthcare costs, caused by technological and pharmaceutical patents, that make the best treatments only available to the rich.\\n\\n2. A shortage of nurses, rural doctors and medical specialists, driven by medical associations and the high cost/long duration of medical school.\\n\\n3. A lack of access to affordable healthy foods (food deserts).\\n\\n4. Inactivity.\\n\\n5. Stress.'},\n",
       " {\"I've always been curious why so many countries use the English reference name? Espana, Deutschland, Nippon to name a few. When Turkiye changed it's UN name in 2021, it made me think about it more often. \\n\\nDoesn't it seem strange that so many countries use the label that was improperly put upon them hundreds of years ago?\": \"So the UN has 6 official languages. English, French, Spanish, Russian, Arabic, and Chinese.\\n\\nA nation's formal name is translated at the UN into all 6 of those languages. \\n\\nSo. For example, Germany is officially Germany in the English language, Allemagne in French, Германия in Russian, Alemania in Spanish, and 会员国 in Chinese. (The UN's website isn't translated to Arabic. But Germany has an Arabic translation too.) \\n\\nAll versions of this name are equally correct. None of the languages have formal priority over the other. So it's actually not correct to say that the UN uses Germany. At least, not exclusively.\\n\\nAs to why Germany is called Germany and not Deutschland? Because German is not a UN language. And in English, which is a UN language, the nation is known as Germany. That is the correct translation. And these translations can be decided by the country in question. Germany could request to the UN that its English translation be Deutschland. In fact, it could request that all 6 of the UN languages translate to Deutschland. But the German government has chosen not to do this as of now.\\n\\nSo. Basically. Germany is called Germany in the English translation of its name because the Germans are cool with that. Meanwhile, calling the country by its 5 other translated names is also entirely correct.\"},\n",
       " {\"Google tells me that a president can only pardon federal crimes & governors have the power to pardon state crimes, but I'm also reading some previous presidential pardons that seem to fall on the state crime level, so now I'm super confused.  Thanks in advance.\": \"Presidents only have the power to pardon federal crimes. Governors generally have the power to pardon state crimes. Trump is facing two federal indictments, and likely two state indictments.\\n\\nLet's take the federal indictments first. If Trump is convicted of these crimes, a future Republican president can pardon him. In fact, it is extremely likely, if not inevitable a Trump pardon will happen the next time a Republican controls the White House. Ironically, a pardon would be iron clad if it came from a Republican president other than Trump. It's still an unresolved question whether a president can pardon himself. So if Trump is re-elected, he can try to pardon himself, but it may not stick. The sure fire bet is for another Republican to pardon him. That would be impossible to challenge.\\n\\nTrump is also facing an indictment in New York state. Winning the presidency would not help Trump resolve this matter, because pardon power rests with the Governor of New York, currently a Democrat. It's conceivable a Republican could win the governorship in 2026 (they came within 5 points in 22, I think). But unlikely. So a New York conviction is the most likely to stick. However, the jailtime would be minimal - possibly even non-existent. The whole thing could get bumped down to a misdemeanor.\\n\\nLastly, Trump is likely to be indicted under Georgia state law. The Governor of Georgia does not have pardon power. Rather, the power is vested in a panel appointed by the governor. This provides some degree of insulation. But Georgia is a red state, and I imagine eventually enough pressure will result in a pardon there.\\n\\nSo there's your tally. A New York conviction will likely stick, but it won't be for much jail time. Federal convictions will last as long as there is a Democrat in the White House. And a Georgia conviction will probably be pardoned.\"},\n",
       " {'As a POC who loves European culture, I feel bad when people view assimilation in a negative light. I genuinely have a passion for European culture, and my home-culture Is bland and bleak.\\n\\nIs there anything wrong with willing assimilation?': 'I think people have a negative perception of assimilation because historically it refers to forced assimilation; I don’t think there’s anything wrong with voluntary or willful assimilation.'},\n",
       " {'How does this work? Just like corporations and  lobbyists wrote bills, can a nonprofit do that?\\n\\nLmk if there’s a better sub to post this in! Thanks in advance.': 'Yes, but I think by the way you wrote this you may be confused about what \"writing legislation\" entails.  They can\\'t submit any legislation they wrote to congress to try and get it voted on.  The context in which they write legislation is through members of congress, who either solicit help from someone they feel knows the industry or it will happen from the other direction, a lobbying firm will want something achieved and then convince a congressperson that they have written a bill and the congressperson would gain something by sponsoring it.\\n\\nAnyone can write a bill, the tricky part is convincing a congressperson to actually sponsor it.  Unless you have a lot of power and influence, they don\\'t exactly take random unsolicited submissions for what should be obvious reasons.  A nonprofit would maybe have more success, especially if the issue they care about and the bill they write aligns with the issues that the congress member in question supports.  But there are a lot of barriers even then, since most congresspeople don\\'t want their professional reputation tied to something someone else wrote (At least a \"someone else\" that isn\\'t on their staff or doing it as directed by them).'},\n",
       " {'Just got through the newest trump indictment. Damn wild. I noticed a lot of quotes from various conversations that took place (between trump, pence, co-conspirators, counsels, etc). How were these obtained? Do all parties testify thoroughly prior?\\n\\n&#x200B;\\n\\n&#x200B;': 'So obviously some of them were public, so things like Trump tweets, DoJ statements, and things in public are lifted from the publicly available sources.\\n\\nSome quotes are from written media that Jack Smith obtained through his investigation. Things like text messages, emails, meeting notes, and other written communication are quoted word for word from the text source.\\n\\nSome quotes are videos and recorded calls (like the Trump-Kemp call about Georgia). These are obviously direct quotes as well.\\n\\nSome quotes come from witness interviews (which is what I think you\\'re referring to). For example, page 11 has quotes related to a conversation between \"Co-Conspirator 2\" and \"Arizona House Speaker\". The Arizona House Speaker was interviewed by the FBI prior to this indictement, so the quotes related to this event are likely quoted from his interview, which is his best recollection of what was said.\\n\\nhttps://talkingpointsmemo.com/news/during-live-cnn-interview-ex-arizona-house-speaker-reveals-he-spoke-to-the-fbi-in-smiths-probe#:~:text=Former%20Arizona%20House%20Speaker%20Rusty,to%20overturn%20the%202020%20election.\\n\\nJack Smith and his team have a lot of interviews as well (that they did themselves and that they\\'ve obtained from others like the January 6th committee interviews), so a lot of the quotes and paraphrases come from those interviews.'}]"
      ]
     },
     "execution_count": 120,
     "metadata": {},
     "output_type": "execute_result"
    }
   ],
   "source": [
    "askpoliticscom = []\n",
    "for submission in submissionlist6:\n",
    "    top_level_comments = list(submission.comments)\n",
    "    if len(top_level_comments) != 0 and len(top_level_comments) != 1: #bypassing an auto topcomment bot\n",
    "        askpoliticscom.append({submission.selftext : top_level_comments[1].body})\n",
    "askpoliticscom[:10] "
   ]
  },
  {
   "cell_type": "code",
   "execution_count": 121,
   "metadata": {},
   "outputs": [],
   "source": [
    "askpoliticstitles = [] # used body this time in case i want different data\n",
    "askpoliticsanswers = []\n",
    "for x in askpoliticscom:\n",
    "    for k in x.keys():\n",
    "        askpoliticstitles.append(k)\n",
    "    for v in x.values():\n",
    "        askpoliticsanswers.append(v)"
   ]
  },
  {
   "cell_type": "code",
   "execution_count": 122,
   "metadata": {},
   "outputs": [],
   "source": [
    "askpolitics = pd.DataFrame({'askpoliticstitles' : askpoliticstitles, 'askpoliticsanswers' : askpoliticsanswers})\n",
    "askpolitics.to_csv(\"data/ask_politics.csv\")"
   ]
  },
  {
   "cell_type": "code",
   "execution_count": 123,
   "metadata": {},
   "outputs": [
    {
     "data": {
      "text/html": [
       "<div>\n",
       "<style scoped>\n",
       "    .dataframe tbody tr th:only-of-type {\n",
       "        vertical-align: middle;\n",
       "    }\n",
       "\n",
       "    .dataframe tbody tr th {\n",
       "        vertical-align: top;\n",
       "    }\n",
       "\n",
       "    .dataframe thead th {\n",
       "        text-align: right;\n",
       "    }\n",
       "</style>\n",
       "<table border=\"1\" class=\"dataframe\">\n",
       "  <thead>\n",
       "    <tr style=\"text-align: right;\">\n",
       "      <th></th>\n",
       "      <th>askpoliticstitles</th>\n",
       "      <th>askpoliticsanswers</th>\n",
       "    </tr>\n",
       "  </thead>\n",
       "  <tbody>\n",
       "    <tr>\n",
       "      <th>0</th>\n",
       "      <td>With Friday 6/30 likely being the Court's fina...</td>\n",
       "      <td>I’m still baffled by many of the court’s decis...</td>\n",
       "    </tr>\n",
       "    <tr>\n",
       "      <th>1</th>\n",
       "      <td>I don't care what team they're on, I'm just cu...</td>\n",
       "      <td>Since Biden has been addressed, I decided to c...</td>\n",
       "    </tr>\n",
       "    <tr>\n",
       "      <th>2</th>\n",
       "      <td>I've been wanting to ask this for a long time,...</td>\n",
       "      <td>Countries often do keep key meetings secrets, ...</td>\n",
       "    </tr>\n",
       "    <tr>\n",
       "      <th>3</th>\n",
       "      <td>In my home country Finland there's parties suc...</td>\n",
       "      <td>The Democratic and Republican political partie...</td>\n",
       "    </tr>\n",
       "    <tr>\n",
       "      <th>4</th>\n",
       "      <td>The US gets a lot of flak for its high healthc...</td>\n",
       "      <td>1. Exorbitant healthcare costs, caused by tech...</td>\n",
       "    </tr>\n",
       "  </tbody>\n",
       "</table>\n",
       "</div>"
      ],
      "text/plain": [
       "                                   askpoliticstitles  \\\n",
       "0  With Friday 6/30 likely being the Court's fina...   \n",
       "1  I don't care what team they're on, I'm just cu...   \n",
       "2  I've been wanting to ask this for a long time,...   \n",
       "3  In my home country Finland there's parties suc...   \n",
       "4  The US gets a lot of flak for its high healthc...   \n",
       "\n",
       "                                  askpoliticsanswers  \n",
       "0  I’m still baffled by many of the court’s decis...  \n",
       "1  Since Biden has been addressed, I decided to c...  \n",
       "2  Countries often do keep key meetings secrets, ...  \n",
       "3  The Democratic and Republican political partie...  \n",
       "4  1. Exorbitant healthcare costs, caused by tech...  "
      ]
     },
     "execution_count": 123,
     "metadata": {},
     "output_type": "execute_result"
    }
   ],
   "source": [
    "askpolitics.head()"
   ]
  },
  {
   "cell_type": "code",
   "execution_count": null,
   "metadata": {},
   "outputs": [],
   "source": []
  },
  {
   "cell_type": "code",
   "execution_count": 29,
   "metadata": {},
   "outputs": [
    {
     "name": "stdout",
     "output_type": "stream",
     "text": [
      "Whilst I admire your perseverance silent treatment is one of the worst coping mechanisms - it manipulates the ignored into buckling, and allows the ignorer to deny any responsibility.\n",
      "\n",
      "I would just keep speaking to him even if he ignores you, he may pretend he’s not listening but the words will go in.\n",
      "\n",
      "Don’t give up and succumb as he wants you to, for what you say here seems reasonable.\n",
      "\n",
      "You have nothing to apologise for based on your OP and your husbands anger is misdirected, he’s annoyed he can’t see his sister. But realistically he will see her soon anyway.\n",
      "\n",
      "Everytime you give in to his childishness, it only gives more reason for him to do this again, he knows it works. Even if inside he’s beating himself up about it and knows it’s unhealthy and stupid\n",
      "\n",
      "Try to remain calm and your points intentful and informed. It may be exhausting and break you down, but your neutrality here is your strength.\n",
      "\n",
      "He does need to know however that his frustrations with money are not your doing. They’re a collective matter that needs to be addressed as a family unit.\n",
      "\n",
      "Not discussing this isn’t going to make any money appear, nor is it going to resolve the symptoms of not having the money you want. It also looks ridiculous in front of your kids and is damaging.\n"
     ]
    }
   ],
   "source": [
    "print(submissionlist[0].comments[0].body) #testing body\n"
   ]
  },
  {
   "cell_type": "code",
   "execution_count": 136,
   "metadata": {},
   "outputs": [
    {
     "data": {
      "text/plain": [
       "[{'[MEGATHREAD] Supreme Court October 2022 Term': 'I’m still baffled by many of the court’s decisions. Most recently I can’t seem to logically reconcile the following: 1. We learned that businesses are allowed to discriminate, picking and choosing their customers as they wish (under the guise of freedom of religion/speech). And then 2. Universities cannot use race as a factor for admission. Well… it seems to me that at least Harvard, being a private college and thus a corporation (sorry UNC), is allowed to discriminate per number 1 above.. so they can use race, or nepotism, or net worth, or anything they want as admission standards, right? Putting aside my own beliefs and trying to put myself into the minds of conservatives, this just doesn’t seem consistent. Am I looking at it wrong or missing something?'},\n",
       " {'Do any US 2024 presidential candidates have a plan to fix housing affordability?': 'Since Biden has been addressed, I decided to check the top 5 Republican candidates-\\n\\nTrump- No mention on the issues page on his website. In his first term, his budget proposals cut spending on affordable housing programs, so not a great reputation. His current discussion of it pretty much only concerns ‘fixing the economy’ first and then I guess housing will sort itself out or he hasn’t come up with anything past that.\\n\\nDeSantis- No mention on his website. Did pass a $711 million plan aimed at making housing more affordable that included some positive provisions for affordable-housing projects. Not sure if it has actually translated to better outcomes quite yet.\\n\\nVivek- No mention on website and no mention that I can find elsewhere. Not surprising given he is running as the Trump substitute/VP pick.\\n\\nHaley- No mention on website or elsewhere that I can find.\\n\\nPence- No mention on website. When asked about solving housing, he took the same stance as Trump in that fixing the economy- more jobs, lower interest rates, etc.- is the first step in getting there. No current plan on what comes after that though.\\n\\nBased on none of them referencing housing affordability or availability on their websites, it sounds like it isn’t much of a priority at all for any of these candidates'},\n",
       " {'Why does a country publicize key meetings with other countries when secretly doing it would be more advantageous?': \"Countries often do keep key meetings secrets, so the premise of the question is simply incorrect.  As to why any particular meeting was not kept secret, that's a bit more complicated, and I don't know in that case.\\n\\nIf negotiations are done in person, it's much harder to keep secret, as the location of key diplomatic personnel and especially heads of state tend to be either public or at least well known (ie heads of state often have so much security and apparatus with them that it's hard to keep it secret if they're in another country).\\n\\nNK really doesn't have the kind of supplies or industrial capacity that would make much of a difference to the Ukraine war.  So most likely publicization is to raise morale or talk up an ally.\"},\n",
       " {\"How come 2 of US' biggest, most prominent parties are called the Democrats and the Republicans? Are everybody not part of a democratic republic?\": \"The Democratic and Republican political parties are some of the oldest on earth still in operation. (Last time I looked into this, it actually appeared that the Democrats are the oldest political party on earth, beating out the UK's conservative party by just a smidge.) \\n\\nAs a result of this, their names don't really follow modern political party naming trends of including your ideology in the name. They pre-date the tradition.\\n\\nThe Democratic Party is, simply, named in honor of democracy. The party had a few different names thrown around when it was being founded, but the Democratic Party pretty quickly won out and was finalized as the name.\\n\\nThe Republicans are named after the Democratic-Republican Party. This was the dominant political party in the US from roughly ish 1800 to the 1820s. They competed against the Federalist Party... until they completely and utterly destroyed the Federalist around the back half of the 1810s. The Democratic-Republicans are named that by historians to differentiate them from our modern parties, but when that party actually existed they referred to themselves as the Republicans.\\n\\nSo when our current day Republicans were getting started, they took the name of the old party that used to dominate the country.\"},\n",
       " {'Why does the US have a lower life expectancy than every developed country even though we spend the most in the world on healthcare?': '1. Exorbitant healthcare costs, caused by technological and pharmaceutical patents, that make the best treatments only available to the rich.\\n\\n2. A shortage of nurses, rural doctors and medical specialists, driven by medical associations and the high cost/long duration of medical school.\\n\\n3. A lack of access to affordable healthy foods (food deserts).\\n\\n4. Inactivity.\\n\\n5. Stress.'},\n",
       " {'Why does the UN use the English Exonym as the official nation names for so many countries?': \"So the UN has 6 official languages. English, French, Spanish, Russian, Arabic, and Chinese.\\n\\nA nation's formal name is translated at the UN into all 6 of those languages. \\n\\nSo. For example, Germany is officially Germany in the English language, Allemagne in French, Германия in Russian, Alemania in Spanish, and 会员国 in Chinese. (The UN's website isn't translated to Arabic. But Germany has an Arabic translation too.) \\n\\nAll versions of this name are equally correct. None of the languages have formal priority over the other. So it's actually not correct to say that the UN uses Germany. At least, not exclusively.\\n\\nAs to why Germany is called Germany and not Deutschland? Because German is not a UN language. And in English, which is a UN language, the nation is known as Germany. That is the correct translation. And these translations can be decided by the country in question. Germany could request to the UN that its English translation be Deutschland. In fact, it could request that all 6 of the UN languages translate to Deutschland. But the German government has chosen not to do this as of now.\\n\\nSo. Basically. Germany is called Germany in the English translation of its name because the Germans are cool with that. Meanwhile, calling the country by its 5 other translated names is also entirely correct.\"},\n",
       " {\"Even if convicted, how vulnerable is Trump's sentencing to pardons and commutations by Republican governors (and future presidents)?\": \"Presidents only have the power to pardon federal crimes. Governors generally have the power to pardon state crimes. Trump is facing two federal indictments, and likely two state indictments.\\n\\nLet's take the federal indictments first. If Trump is convicted of these crimes, a future Republican president can pardon him. In fact, it is extremely likely, if not inevitable a Trump pardon will happen the next time a Republican controls the White House. Ironically, a pardon would be iron clad if it came from a Republican president other than Trump. It's still an unresolved question whether a president can pardon himself. So if Trump is re-elected, he can try to pardon himself, but it may not stick. The sure fire bet is for another Republican to pardon him. That would be impossible to challenge.\\n\\nTrump is also facing an indictment in New York state. Winning the presidency would not help Trump resolve this matter, because pardon power rests with the Governor of New York, currently a Democrat. It's conceivable a Republican could win the governorship in 2026 (they came within 5 points in 22, I think). But unlikely. So a New York conviction is the most likely to stick. However, the jailtime would be minimal - possibly even non-existent. The whole thing could get bumped down to a misdemeanor.\\n\\nLastly, Trump is likely to be indicted under Georgia state law. The Governor of Georgia does not have pardon power. Rather, the power is vested in a panel appointed by the governor. This provides some degree of insulation. But Georgia is a red state, and I imagine eventually enough pressure will result in a pardon there.\\n\\nSo there's your tally. A New York conviction will likely stick, but it won't be for much jail time. Federal convictions will last as long as there is a Democrat in the White House. And a Georgia conviction will probably be pardoned.\"},\n",
       " {\"What's wrong with assimilation?\": 'I think people have a negative perception of assimilation because historically it refers to forced assimilation; I don’t think there’s anything wrong with voluntary or willful assimilation.'},\n",
       " {'Can 501c4 advocacy groups wrote legislation?': 'Yes, but I think by the way you wrote this you may be confused about what \"writing legislation\" entails.  They can\\'t submit any legislation they wrote to congress to try and get it voted on.  The context in which they write legislation is through members of congress, who either solicit help from someone they feel knows the industry or it will happen from the other direction, a lobbying firm will want something achieved and then convince a congressperson that they have written a bill and the congressperson would gain something by sponsoring it.\\n\\nAnyone can write a bill, the tricky part is convincing a congressperson to actually sponsor it.  Unless you have a lot of power and influence, they don\\'t exactly take random unsolicited submissions for what should be obvious reasons.  A nonprofit would maybe have more success, especially if the issue they care about and the bill they write aligns with the issues that the congress member in question supports.  But there are a lot of barriers even then, since most congresspeople don\\'t want their professional reputation tied to something someone else wrote (At least a \"someone else\" that isn\\'t on their staff or doing it as directed by them).'},\n",
       " {'TRUMP indictment: All the quoted conversations within - how are these quotes obtained?': 'So obviously some of them were public, so things like Trump tweets, DoJ statements, and things in public are lifted from the publicly available sources.\\n\\nSome quotes are from written media that Jack Smith obtained through his investigation. Things like text messages, emails, meeting notes, and other written communication are quoted word for word from the text source.\\n\\nSome quotes are videos and recorded calls (like the Trump-Kemp call about Georgia). These are obviously direct quotes as well.\\n\\nSome quotes come from witness interviews (which is what I think you\\'re referring to). For example, page 11 has quotes related to a conversation between \"Co-Conspirator 2\" and \"Arizona House Speaker\". The Arizona House Speaker was interviewed by the FBI prior to this indictement, so the quotes related to this event are likely quoted from his interview, which is his best recollection of what was said.\\n\\nhttps://talkingpointsmemo.com/news/during-live-cnn-interview-ex-arizona-house-speaker-reveals-he-spoke-to-the-fbi-in-smiths-probe#:~:text=Former%20Arizona%20House%20Speaker%20Rusty,to%20overturn%20the%202020%20election.\\n\\nJack Smith and his team have a lot of interviews as well (that they did themselves and that they\\'ve obtained from others like the January 6th committee interviews), so a lot of the quotes and paraphrases come from those interviews.'}]"
      ]
     },
     "execution_count": 136,
     "metadata": {},
     "output_type": "execute_result"
    }
   ],
   "source": [
    "askpoliticscom1 = []\n",
    "for submission in submissionlist6:\n",
    "    top_level_comments = list(submission.comments)\n",
    "    if len(top_level_comments) != 0 and len(top_level_comments) != 1: #bypassing an auto topcomment bot\n",
    "        askpoliticscom1.append({submission.title : top_level_comments[1].body})\n",
    "askpoliticscom1[:10] "
   ]
  },
  {
   "cell_type": "code",
   "execution_count": 137,
   "metadata": {},
   "outputs": [],
   "source": [
    "askpoliticstitles1 = [] # getting titles back\n",
    "askpoliticsanswers1 = []\n",
    "for x in askpoliticscom1:\n",
    "    for k in x.keys():\n",
    "        askpoliticstitles1.append(k)\n",
    "    for v in x.values():\n",
    "        askpoliticsanswers1.append(v)"
   ]
  },
  {
   "cell_type": "code",
   "execution_count": 138,
   "metadata": {},
   "outputs": [],
   "source": [
    "askpolitics1 = pd.DataFrame({'askpoliticstitles' : askpoliticstitles1, 'askpoliticsanswers' : askpoliticsanswers1})\n",
    "askpolitics1.to_csv(\"data/ask_politics_titles.csv\")"
   ]
  },
  {
   "cell_type": "code",
   "execution_count": null,
   "metadata": {},
   "outputs": [],
   "source": [
    "# all attributes of a post from eric's breakfast\n",
    "\n",
    "#post_list.append(\n",
    " #   'title' : post.title\n",
    "#  'selftext' : post.selftext\n",
    "#'subreddit' : post.subreddit\n",
    "#'post_created_utc': post.created_utc\n",
    "\n",
    ")"
   ]
  },
  {
   "cell_type": "markdown",
   "metadata": {},
   "source": [
    "Next we use OPEN API to loop through out titles from earlier and get the API responses, I only collected from 1 subreddit because of the cost but I would do the same for the rest."
   ]
  },
  {
   "cell_type": "code",
   "execution_count": 2,
   "metadata": {},
   "outputs": [],
   "source": [
    "import os\n",
    "import openai"
   ]
  },
  {
   "cell_type": "code",
   "execution_count": 3,
   "metadata": {},
   "outputs": [],
   "source": [
    "openai.api_key = os.environ.get(\"OPENAI_API_KEY\")"
   ]
  },
  {
   "cell_type": "code",
   "execution_count": 149,
   "metadata": {},
   "outputs": [],
   "source": [
    "davinci_prompts = [x.title for x in submissionlist]\n",
    "prompt_test = davinci_prompts[:20]\n"
   ]
  },
  {
   "cell_type": "code",
   "execution_count": 162,
   "metadata": {},
   "outputs": [
    {
     "data": {
      "text/plain": [
       "906"
      ]
     },
     "execution_count": 162,
     "metadata": {},
     "output_type": "execute_result"
    }
   ],
   "source": [
    "len(davinci_prompts)"
   ]
  },
  {
   "cell_type": "code",
   "execution_count": 164,
   "metadata": {},
   "outputs": [],
   "source": [
    "davinci_prompts;"
   ]
  },
  {
   "cell_type": "code",
   "execution_count": 203,
   "metadata": {},
   "outputs": [],
   "source": [
    "testbackofflist = []"
   ]
  },
  {
   "cell_type": "code",
   "execution_count": 204,
   "metadata": {},
   "outputs": [],
   "source": [
    "for i in range(0,len(davinci_prompts), 20): # got the backoff \n",
    "    prompt_test = davinci_prompts[i:i+20]\n",
    "    testbackofflist.append(completions_with_backoff(model=\"text-davinci-003\", prompt=prompt_test, max_tokens = 500))\n"
   ]
  },
  {
   "cell_type": "code",
   "execution_count": 213,
   "metadata": {},
   "outputs": [
    {
     "data": {
      "text/plain": [
       "[<OpenAIObject text_completion id=cmpl-7ztyytYYfyoxKRUEDpn1loE9qmmUd at 0x1d703585670> JSON: {\n",
       "   \"warning\": \"This model version is deprecated. Migrate before January 4, 2024 to avoid disruption of service. Learn more https://platform.openai.com/docs/deprecations\",\n",
       "   \"id\": \"cmpl-7ztyytYYfyoxKRUEDpn1loE9qmmUd\",\n",
       "   \"object\": \"text_completion\",\n",
       "   \"created\": 1694987560,\n",
       "   \"model\": \"text-davinci-003\",\n",
       "   \"choices\": [\n",
       "     {\n",
       "       \"text\": \"\\n\\nIt is a matter of familiarity. For most people living outside of Germany, it is easier and more comfortable to use the English equivalent of the country's name, rather than its native name. Furthermore, cultural and language barriers can make it more difficult to accurately pronounce a name in its native language. Many people could also feel uncomfortable using a foreign language for something as simple as naming a country. It is simply a matter of ease and preference.\",\n",
       "       \"index\": 0,\n",
       "       \"logprobs\": null,\n",
       "       \"finish_reason\": \"stop\"\n",
       "     },\n",
       "     {\n",
       "       \"text\": \"\\n\\nThis is likely because people are generally drawn to people who are similar to them in some way, and as such, they often find traits in other people similar to the traits they possess themselves attractive. Additionally, humans have an innate appreciation of beauty, regardless of whether they are attracted to the same gender, which can explain why even those who are not bi/lesbian can find other girls attractive.\",\n",
       "       \"index\": 1,\n",
       "       \"logprobs\": null,\n",
       "       \"finish_reason\": \"stop\"\n",
       "     },\n",
       "     {\n",
       "       \"text\": \"\\n\\nYes, it is reasonable to not want to marry someone who cannot provide. People usually marry for a variety of reasons including financial stability and security. As such, not wanting to marry someone who cannot provide is a valid and understandable decision.\",\n",
       "       \"index\": 2,\n",
       "       \"logprobs\": null,\n",
       "       \"finish_reason\": \"stop\"\n",
       "     },\n",
       "     {\n",
       "       \"text\": \"\\n\\nThe most offensive thing I have ever seen sold was a T-shirt that had a racial slur on it. The repercussions were that the store immediately removed the shirt from their shelves and apologized for having it in the first place.\",\n",
       "       \"index\": 3,\n",
       "       \"logprobs\": null,\n",
       "       \"finish_reason\": \"stop\"\n",
       "     },\n",
       "     {\n",
       "       \"text\": \"\\n\\nIt is possible that, given enough time, nuclear missiles could be shot down before they reach their intended targets. This is because, as with other types of missiles, they can be detected and intercepted, either by enemy air defenses or by anti-missile defense systems. If such an interception should occur, then the warhead could be destroyed without detonating or a dud might result, depending on the type of missile used. \\n\\nJust like during WWII, it is also possible that nukes could be dropped as bombs. In a nuclear war, an aggressor might want to engage in nuclear bombing or, at the very least, threaten to do so. This could be done with precision aircraft, cruise missiles, bombers, or manually delivered weapons, some of which are air-street, or air-to-surface.\",\n",
       "       \"index\": 4,\n",
       "       \"logprobs\": null,\n",
       "       \"finish_reason\": \"stop\"\n",
       "     },\n",
       "     {\n",
       "       \"text\": \"\\n\\nShowering correctly is pretty easy! First, you should start by turning on your water. You want the water to be warm when you step in, so you'll want to adjust the temperature and make sure it's a comfortable temperature. Next, you'll want to use soap, shampoo, and any other body wash products you like to use. Work them into a lather and then apply them to your body, making sure to wash your hair, face, and body. Be sure to rinse your body off really well after you've applied the products and scrubbed your body. Finally, turn off the water when you're done and pat your body dry with a towel. That's it - now you've showered correctly!\",\n",
       "       \"index\": 5,\n",
       "       \"logprobs\": null,\n",
       "       \"finish_reason\": \"stop\"\n",
       "     },\n",
       "     {\n",
       "       \"text\": \"\\n\\nNo, it is not weird for an orthodontist to call you a good girl. It could be a sign of appreciation or simply a gesture of kindness. However, if it makes you uncomfortable, then you should talk to your orthodontist about it.\",\n",
       "       \"index\": 6,\n",
       "       \"logprobs\": null,\n",
       "       \"finish_reason\": \"stop\"\n",
       "     },\n",
       "     {\n",
       "       \"text\": \"\\n\\nWhen watching an erotic dance, you should observe the performer's body movements, facial expressions, and gestures as they interact with their environment and the audience. Pay attention to how the dancer uses the different parts of the body to create seductive and suggestive motions. Additionally, look for the dancer's confidence in the movement, the manner in which they command the space around them, and the energy emanating from the performance as a composition.\",\n",
       "       \"index\": 7,\n",
       "       \"logprobs\": null,\n",
       "       \"finish_reason\": \"stop\"\n",
       "     },\n",
       "     {\n",
       "       \"text\": \"\\n\\nDuring sex, the foreskin may be pulled back and the head of the penis may be exposed. Depending on the couple, the foreskin may remain pulled back throughout the duration of sexual intercourse, or the foreskin may slide over the head of the penis during thrusts. Every couple can decide how they would like to incorporate the foreskin into sex. \",\n",
       "       \"index\": 8,\n",
       "       \"logprobs\": null,\n",
       "       \"finish_reason\": \"stop\"\n",
       "     },\n",
       "     {\n",
       "       \"text\": \"\\n\\nNew Reddit accounts have restrictions in place to prevent spam. These restrictions include a minimum number of comment karma points and a minimum account age before a new account can participate in certain activities. As such, it is close to impossible for a new Reddit account to participate on this platform without putting in a lot of work to build up their karma points and wait for their account to become old enough to participate.\",\n",
       "       \"index\": 9,\n",
       "       \"logprobs\": null,\n",
       "       \"finish_reason\": \"stop\"\n",
       "     },\n",
       "     {\n",
       "       \"text\": \"\\n\\nCling wrap is a thin and lightweight material that is designed to be used in food containers and to cover items for storage. The size of a standard dinner plate is usually much larger than the size of the cling wrap when it is given in its standard packaging size because the wrap needs to be large enough to be used to cover different shapes and sizes of items.\",\n",
       "       \"index\": 10,\n",
       "       \"logprobs\": null,\n",
       "       \"finish_reason\": \"stop\"\n",
       "     },\n",
       "     {\n",
       "       \"text\": \"\\n\\nIt depends on how you fantasize about them. Fantasizing can be a way to cope with the break up or to reminisce about the good parts of your relationship. However, if the fantasizing becomes obsessive or damaging in any way, it may be a sign you should seek help.\",\n",
       "       \"index\": 11,\n",
       "       \"logprobs\": null,\n",
       "       \"finish_reason\": \"stop\"\n",
       "     },\n",
       "     {\n",
       "       \"text\": \"\\n\\nThe best way to make sure the restroom is empty before entering is to knock on the door, wait for an answer, and then announce that you are the custodian there to clean the restroom and ask if anyone is inside. If no one answers, it is likely the restroom is empty.\",\n",
       "       \"index\": 12,\n",
       "       \"logprobs\": null,\n",
       "       \"finish_reason\": \"stop\"\n",
       "     },\n",
       "     {\n",
       "       \"text\": \"\\n\\nIt depends. If the bartender is comfortable having conversations with guests, then it's probably not weird. If the bartender is obviously too busy or isn't interested, then it would be inappropriate and weird.\",\n",
       "       \"index\": 13,\n",
       "       \"logprobs\": null,\n",
       "       \"finish_reason\": \"stop\"\n",
       "     },\n",
       "     {\n",
       "       \"text\": \"\\n\\n1. Put a few drops of essential oil in a bowl of water and microwave it for several minutes on high.\\n\\n2. Use a natural enzymatic cleaner like Bio-Kleen to break down the odor.\\n\\n3. Place a bowl of white vinegar in the bathroom and let it sit overnight.\\n\\n4. Sprinkle baking soda in the toilet bowl, scrub, and flush.\\n\\n5. Soak cotton balls in rubbing alcohol and set around the bathroom.\\n\\n6. Place a few bowls of activated charcoal around the bathroom.\\n\\n7. Take the fan off the wall and clean it with a mixture of vinegar and water.\",\n",
       "       \"index\": 14,\n",
       "       \"logprobs\": null,\n",
       "       \"finish_reason\": \"stop\"\n",
       "     },\n",
       "     {\n",
       "       \"text\": \"\\n\\nPeople love to visit Florida due to its year-round warm weather, beautiful beaches, and various attractions like Disney World and Universal Studios. Additionally, it has a large selection of restaurants, shopping, and cultural activities. People easily can access it too by air or car and its numerous airports and ports make transportation convenient. Finally, it is within a reasonable driving distance for many in the East Coast and Midwest of the United States.\",\n",
       "       \"index\": 15,\n",
       "       \"logprobs\": null,\n",
       "       \"finish_reason\": \"stop\"\n",
       "     },\n",
       "     {\n",
       "       \"text\": \"\\n\\nIt's not necessarily embarrassing to order one meal for two people in a restaurant, though it may depend on the context. For instance, if it's a romantic dinner, it may be a bit unusual to share one meal. However, some restaurants and cuisines (like tapas) actively promote sharing of dishes. Therefore, it is best to consider the restaurant and the food being ordered before making a decision.\",\n",
       "       \"index\": 16,\n",
       "       \"logprobs\": null,\n",
       "       \"finish_reason\": \"stop\"\n",
       "     },\n",
       "     {\n",
       "       \"text\": \"\\n\\nMost Hindus are vegetarian and consider a cow to be a sacred animal, so it is highly unlikely that they would eat beef out of desperation. It is considered forbidden to eat beef, and those who do are considered to have broken a sacred oath.\",\n",
       "       \"index\": 17,\n",
       "       \"logprobs\": null,\n",
       "       \"finish_reason\": \"stop\"\n",
       "     },\n",
       "     {\n",
       "       \"text\": \"\\n\\nYes, humans are animals and primates specifically.\",\n",
       "       \"index\": 18,\n",
       "       \"logprobs\": null,\n",
       "       \"finish_reason\": \"stop\"\n",
       "     },\n",
       "     {\n",
       "       \"text\": \"\\n\\nThere is no single answer to this question as everyone has different desires and preferences. Ultimately, it is up to both partners to decide what works best for them. Some people may make an effort to make a woman cum first, while others may focus more on making sure that both parties have an enjoyable experience that leads to mutual satisfaction.\",\n",
       "       \"index\": 19,\n",
       "       \"logprobs\": null,\n",
       "       \"finish_reason\": \"stop\"\n",
       "     }\n",
       "   ],\n",
       "   \"usage\": {\n",
       "     \"prompt_tokens\": 357,\n",
       "     \"completion_tokens\": 1555,\n",
       "     \"total_tokens\": 1912\n",
       "   }\n",
       " },\n",
       " <OpenAIObject text_completion id=cmpl-7ztz3DVOQqxHPuyJSoBVnfyb5JalO at 0x1d703874410> JSON: {\n",
       "   \"warning\": \"This model version is deprecated. Migrate before January 4, 2024 to avoid disruption of service. Learn more https://platform.openai.com/docs/deprecations\",\n",
       "   \"id\": \"cmpl-7ztz3DVOQqxHPuyJSoBVnfyb5JalO\",\n",
       "   \"object\": \"text_completion\",\n",
       "   \"created\": 1694987565,\n",
       "   \"model\": \"text-davinci-003\",\n",
       "   \"choices\": [\n",
       "     {\n",
       "       \"text\": \"\\n\\n1. Focus on being yourself and embracing who you are! People are often drawn to those who are confident in their own skin.\\n\\n2. Push yourself out of your comfort zone. Try new things and meet new people.\\n\\n3. Don't be afraid to be direct and honest about your intentions in relationships, whether they are platonic friendships or romantic ones.\\n\\n4. Listen to your intuition and trust your gut.\\n\\n5. Take time for self-care and self-love. Appreciate yourself and prioritize yourself.\\n\\n6. Ask questions, be curious and open to learning about someone new.\\n\\n7. Have an open mind and be willing to be surprised.\\n\\n8. Be respectful of different types of relationships and boundaries.\\n\\n9. Take your time to get to know someone before jumping into a relationship.\\n\\n10. Take risks, be brave and be bold!\",\n",
       "       \"index\": 0,\n",
       "       \"logprobs\": null,\n",
       "       \"finish_reason\": \"stop\"\n",
       "     },\n",
       "     {\n",
       "       \"text\": \"\\n\\nThere is no scientific evidence to suggest that pitbulls (or any breed of dog for that matter) are inherently evil. Breeds of dogs, like breed prejudice that can exist in humans, is often a result of a society\\u2019s tendency to choose a victim, and prejudices and associated features are assigned to them.\\n\\nIn the case of pitbulls, this began in the 1980s when the media sensationalized and demonized the breed after a string of attacks and news articles depicting pitbulls as vicious and wild animals. This led to a strong public opinion that pitbulls were dangerous animals and created the idea in people\\u2019s minds that all members of this breed are wild and dangerous.\\n\\nAlthough pitbulls were not always demonized, fear and stigma associated with many breeds of dog have been around for a long time. Rottweilers are a prime example of this with incidents of aggression that eventually seen the breed deemed dangerous.\\n\\nThe takeaway is that the backgrounds and experiences of individual dogs, not their breed, should determine their character and behavior. All dogs can be dangerous and aggressive if improperly trained and socialized. Responsible owners should always prioritize training, socialization, proper health and nutrition, and exercise for their dogs regardless of breed.\",\n",
       "       \"index\": 1,\n",
       "       \"logprobs\": null,\n",
       "       \"finish_reason\": \"stop\"\n",
       "     },\n",
       "     {\n",
       "       \"text\": \"\\n\\nA soy boy is a slang term used to describe a male who is seen as weak or lacking in traditionally masculine qualities such as physical strength, emotional fortitude, financial responsibility, and independence. The implication is that these people are overly sensitive and have been 'feminized' by their diet of soy products.\",\n",
       "       \"index\": 2,\n",
       "       \"logprobs\": null,\n",
       "       \"finish_reason\": \"stop\"\n",
       "     },\n",
       "     {\n",
       "       \"text\": \"\\n\\nAmericans typically pay for Uber rides using debit or credit cards. Users can link a debit or credit card to their account, or pay with cash in select cities. Additionally, some employers may choose to reimburse employees for Uber rides and other business-related expenses.\",\n",
       "       \"index\": 3,\n",
       "       \"logprobs\": null,\n",
       "       \"finish_reason\": \"stop\"\n",
       "     },\n",
       "     {\n",
       "       \"text\": \"\\n\\nSociety is designed for morning people because the default schedule for businesses, jobs, school and other activities typically revolves around a 9 to 5 model which is traditionally designed to accommodate the majority of the population who are morning people. This is primarily a consequence of traditional labor practices rather than any inherent bias against night owls.\\n\\nThat said, night owls face unique challenges that many employers may not be aware of. Being a productive night owl in a morning-focused world often involves managing both discrimination and exhaustion. Even though there is increasing awareness and understanding of the benefits that different sleeping patterns can bring to productivity and wellbeing, there is still a significant amount of stigma attached to being a night owl, and that can make it difficult for employers to provide flexi-time or other arrangements to accommodate these alternative sleeping patterns.\",\n",
       "       \"index\": 4,\n",
       "       \"logprobs\": null,\n",
       "       \"finish_reason\": \"stop\"\n",
       "     },\n",
       "     {\n",
       "       \"text\": \"\\n\\nJustin Bieber has said that he's grown to appreciate the fame over time, and that although he might find it overwhelming at times, it's something he loves because it has helped him achieve a lot of his dreams. He likely keeps performing because he still enjoys creating and performing music and it gives him a way to connect with his fanbase.\",\n",
       "       \"index\": 5,\n",
       "       \"logprobs\": null,\n",
       "       \"finish_reason\": \"stop\"\n",
       "     },\n",
       "     {\n",
       "       \"text\": \"\\n\\nYes, many people have accepted that retirement is not a possibility. Many people are unable to save enough money or have inadequate pension plans, leaving them no choice but to work for the rest of their lives. That's why it is so important to ensure that you have the financial means to retire and not have to rely solely on Social Security.\",\n",
       "       \"index\": 6,\n",
       "       \"logprobs\": null,\n",
       "       \"finish_reason\": \"stop\"\n",
       "     },\n",
       "     {\n",
       "       \"text\": \"\\n\\nPeople might put an \\\"In Memory Of\\\" sticker on their car if they have experienced the loss of a loved one. The sticker can be a way for them to remember and honor the person who passed away. It can also serve as a way to remind them of how precious life is and to be present in the moment.\",\n",
       "       \"index\": 7,\n",
       "       \"logprobs\": null,\n",
       "       \"finish_reason\": \"stop\"\n",
       "     },\n",
       "     {\n",
       "       \"text\": \"\\n\\nThat depends on the bar, as each bar has its own menu, but generally a non-alcoholic beverage such as a soda, juice, iced tea, or water is a safe choice.\",\n",
       "       \"index\": 8,\n",
       "       \"logprobs\": null,\n",
       "       \"finish_reason\": \"stop\"\n",
       "     },\n",
       "     {\n",
       "       \"text\": \"?\\n\\n1. Seek treatment from a mental health professional. Cognitive Behavioral Therapy (CBT) with a licensed therapist can help you understand your thoughts and behaviors and how they relate to your penis anxiety. \\n\\n2. Engage in self-care. Make sure you are taking time for yourself to do activities that bring you joy and build your self-confidence. This could include physical activity, spending time with friends, journaling, or reading. \\n\\n3. Challenge negative thoughts. It is important to remember that everyone is different and that there is no one \\u201cright\\u201d size for a penis. When you find yourself engaging in negative self-talk, try replacing it with positive affirmations or realistic statements. \\n\\n4. Spend time with trusted people. Spend time with people who make you feel accepted and seen for who you are, not just your body. \\n\\n5. Educate yourself. There is a lot of inaccurate and even false information out there about penis sizes. Learn the facts so that you can better understand yourself and the diversity of bodies.\",\n",
       "       \"index\": 9,\n",
       "       \"logprobs\": null,\n",
       "       \"finish_reason\": \"stop\"\n",
       "     },\n",
       "     {\n",
       "       \"text\": \"\\n\\nThe 99% of shared DNA between humans and chimpanzees is an estimate based on research of the overall genetic similarity between the two species. On the other hand, the 50% of shared DNA between two human siblings comes from the way that parental chromosomes recombine to form the full set of chromosomes for an offspring. For example, out of the two chromosomes from a parent, the new offspring might get one full chromosome of each type, and those two chromosomes will be different from the original two sets of chromosomes from the parents. Therefore, two siblings will never share the exact same set of chromosomes, only about 50% of the genes.\",\n",
       "       \"index\": 10,\n",
       "       \"logprobs\": null,\n",
       "       \"finish_reason\": \"stop\"\n",
       "     },\n",
       "     {\n",
       "       \"text\": \"\\n\\nThe phrase \\\"quote unquote\\\" is used to indicate that the speaker is quoting someone else or another source for emphasis. It is also used when quoting a phrase that may be considered clich\\u00e9d or overused. By saying \\\"quote unquote\\\" before the quoted phrase, the speaker is distancing themselves from it and indicating that they do not necessarily endorse it.\",\n",
       "       \"index\": 11,\n",
       "       \"logprobs\": null,\n",
       "       \"finish_reason\": \"stop\"\n",
       "     },\n",
       "     {\n",
       "       \"text\": \"\\n\\nThe majority of households today have access to running water, making the installation of a water fountain unnecessary. Additionally, water fountains typically require regular maintenance which is also impractical in a home setting. Furthermore, water fountains could be large, obtrusive, and require additional plumbing.\",\n",
       "       \"index\": 12,\n",
       "       \"logprobs\": null,\n",
       "       \"finish_reason\": \"stop\"\n",
       "     },\n",
       "     {\n",
       "       \"text\": \"\\n\\n1. Ask the person to pay the debt or set up a repayment plan.\\n2. Send a demand letter.\\n3. Take them to small claims court.\\n4. Hire a collection agency.\\n5. File a lien against their property.\\n6. Report them to the credit bureaus.\\n7. Seek legal advice or explore alternative methods of dispute resolution such as arbitration or mediation.\",\n",
       "       \"index\": 13,\n",
       "       \"logprobs\": null,\n",
       "       \"finish_reason\": \"stop\"\n",
       "     },\n",
       "     {\n",
       "       \"text\": \"\\n\\nYou can say something like \\\"I don't think I'm ready for this right now\\\" or \\\"I'm not comfortable with taking this any further right now.\\\"\",\n",
       "       \"index\": 14,\n",
       "       \"logprobs\": null,\n",
       "       \"finish_reason\": \"stop\"\n",
       "     },\n",
       "     {\n",
       "       \"text\": \"\\n\\nThe song \\\"Makeba\\\" by Jain became Instafamous when it was featured on the soundtrack for a Joyner Lucas and Will Smith music video entitled \\\"Ain't No Ryme\\\". The video was posted on YouTube and featured the song in three different scenes, garnering millions of views in its first week of release. Jain's song received coverage on various entertainment and music websites, as well as socials, which helped to spread the word about the single. Additionally, the video was shared on multiple prominent international music blogs and streaming playlists, which also helped to boost its popularity. Finally, online radio and radio stations worldwide also played the song, ultimately leading to it becoming Instafamous.\",\n",
       "       \"index\": 15,\n",
       "       \"logprobs\": null,\n",
       "       \"finish_reason\": \"stop\"\n",
       "     },\n",
       "     {\n",
       "       \"text\": \"\\n\\nNo, not everyone is getting spammed with DM's from OnlyFans chicks. Thankfully, there are many ways to stop such contacts, such as blocking them or changing your settings.\",\n",
       "       \"index\": 16,\n",
       "       \"logprobs\": null,\n",
       "       \"finish_reason\": \"stop\"\n",
       "     },\n",
       "     {\n",
       "       \"text\": \"\\n\\nYes, there are several ways to masturbate without stroking your penis. Many men enjoy stimulating the head of their penis with their other hand, or using a vibrator placed against the head of the penis. Some men also enjoy the sensation of grinding against a pillow or other flat surface. Finally, indirect stimulation (stimulating in and around the genitals without touching the penis directly) can be pleasurable and lead to climax.\",\n",
       "       \"index\": 17,\n",
       "       \"logprobs\": null,\n",
       "       \"finish_reason\": \"stop\"\n",
       "     },\n",
       "     {\n",
       "       \"text\": \"\\n\\nGirls comment on other girls\\u2019 posts for a variety of reasons. It could be to show support, give advice, or just to connect and stay in touch. Social media gives girls the ability to bond and share experiences with one another, which can be helpful when it comes to dealing with emotional difficulties or social issues. Girls may also use social media as a form of expression, and commenting on posts can be an outlet for that.\",\n",
       "       \"index\": 18,\n",
       "       \"logprobs\": null,\n",
       "       \"finish_reason\": \"stop\"\n",
       "     },\n",
       "     {\n",
       "       \"text\": \"\\n\\nYes, I have done that at times. The longest time I have gone without verbally talking was around 5 days. I would say it can be a bad thing if it is done often, because it can be a sign of depression and it can make it harder to communicate with others.\",\n",
       "       \"index\": 19,\n",
       "       \"logprobs\": null,\n",
       "       \"finish_reason\": \"stop\"\n",
       "     }\n",
       "   ],\n",
       "   \"usage\": {\n",
       "     \"prompt_tokens\": 324,\n",
       "     \"completion_tokens\": 2000,\n",
       "     \"total_tokens\": 2324\n",
       "   }\n",
       " },\n",
       " <OpenAIObject text_completion id=cmpl-7ztz7XLOJKxGx6Jp4SVnuYUT9EONs at 0x1d703874d70> JSON: {\n",
       "   \"warning\": \"This model version is deprecated. Migrate before January 4, 2024 to avoid disruption of service. Learn more https://platform.openai.com/docs/deprecations\",\n",
       "   \"id\": \"cmpl-7ztz7XLOJKxGx6Jp4SVnuYUT9EONs\",\n",
       "   \"object\": \"text_completion\",\n",
       "   \"created\": 1694987569,\n",
       "   \"model\": \"text-davinci-003\",\n",
       "   \"choices\": [\n",
       "     {\n",
       "       \"text\": \"\\n\\nReddit has a culture that has become increasingly tolerant of trolling, and while it strives to be an open and inclusive community, it can often be a hotbed for trolling. Many trolls feel emboldened by the anonymity afforded to them on Reddit, as it provides a means of expression behind an assumed identity, and many have found ways to exploit its platform for their own personal gain. Additionally, some users may be unaware of the long-term consequences of their actions on Reddit, as the site is not heavily policed or moderated, allowing trolls to propagate their insensitive or otherwise offensive content without fear of retribution.\",\n",
       "       \"index\": 0,\n",
       "       \"logprobs\": null,\n",
       "       \"finish_reason\": \"stop\"\n",
       "     },\n",
       "     {\n",
       "       \"text\": \"\\n\\nPeople on the internet may say that people with large age gaps have nothing in common because, typically, couples who have large age gaps have different backgrounds, interests, goals, and life experiences. Generally, couples with smaller age gaps may have more in common since they may have grown up in a similar environment and have more similar life experiences and interests.\",\n",
       "       \"index\": 1,\n",
       "       \"logprobs\": null,\n",
       "       \"finish_reason\": \"stop\"\n",
       "     },\n",
       "     {\n",
       "       \"text\": \"\\n\\nNo, you are not crazy, and everyone experiences times of low self-esteem. Having feelings of low self-respect can be normal. What matters is how you respond to those feelings. It is important to practice self-care andSelf Compassion as an important part of building up your self-esteem. Find something that recharges you, like reading, art, or music, and practice self-compassion with yourself. Don\\u2019t forget to be gentle with yourself and surround yourself with positive people.\",\n",
       "       \"index\": 2,\n",
       "       \"logprobs\": null,\n",
       "       \"finish_reason\": \"stop\"\n",
       "     },\n",
       "     {\n",
       "       \"text\": \"\\n\\nNo, it is not weird. Although it would be strange if you had never been exposed to your culture, many people feel disconnected from their culture or the culture they were raised in for various reasons and that is perfectly normal. You may not identify with the culture's traditions or language, or maybe you don't feel like your experiences line up with what is deemed 'normal' in the culture. Whatever the reason, it's perfectly natural to want something more or something different than what you've been exposed to.\",\n",
       "       \"index\": 3,\n",
       "       \"logprobs\": null,\n",
       "       \"finish_reason\": \"stop\"\n",
       "     },\n",
       "     {\n",
       "       \"text\": \"\\n\\nThe phrase \\\"you're born alone and you die alone\\\" is often used to emphasize the idea that a person can only rely on themselves for strength and comfort throughout life. It conveys the idea that no matter how much loved ones may offer their support and assistance, ultimately an individual must face life's challenges and struggles alone.\",\n",
       "       \"index\": 4,\n",
       "       \"logprobs\": null,\n",
       "       \"finish_reason\": \"stop\"\n",
       "     },\n",
       "     {\n",
       "       \"text\": \"\\n\\nNo. Gen Z has many opportunities to be successful. With increasing access to technology, a growing number of career options, and an understanding of the importance of being well-rounded, Gen Z can fulfill their potential.\",\n",
       "       \"index\": 5,\n",
       "       \"logprobs\": null,\n",
       "       \"finish_reason\": \"stop\"\n",
       "     },\n",
       "     {\n",
       "       \"text\": \"\\n\\nYes, chocolates made by a professional confectioner are generally of a higher quality than mass-produced chocolates like Snickers. Professional confectioners use fresher and higher quality ingredients that are combined in a way to enhance the flavors and textures of their chocolates. Additionally, chocolates made by confectioners are often handcrafted to feature intricate decorations that mass-produced chocolates cannot match.\",\n",
       "       \"index\": 6,\n",
       "       \"logprobs\": null,\n",
       "       \"finish_reason\": \"stop\"\n",
       "     },\n",
       "     {\n",
       "       \"text\": \"\\n\\nYes, it is possible for an extrovert to become an introvert. This typically happens when an individual has experienced a traumatic event or long-term stress, which significantly changes the way they interact with others. It is important to note that it is not a simple process and, in some cases, can take a long time to achieve.\",\n",
       "       \"index\": 7,\n",
       "       \"logprobs\": null,\n",
       "       \"finish_reason\": \"stop\"\n",
       "     },\n",
       "     {\n",
       "       \"text\": \"\\n\\nYes, I do see myself getting old, just like everyone else. Although it is hard to picture it sometimes, I know that it will eventually come to pass.\",\n",
       "       \"index\": 8,\n",
       "       \"logprobs\": null,\n",
       "       \"finish_reason\": \"stop\"\n",
       "     },\n",
       "     {\n",
       "       \"text\": \"\\n\\nNo, I am not directly inconvenienced by the actor/writer strike.\",\n",
       "       \"index\": 9,\n",
       "       \"logprobs\": null,\n",
       "       \"finish_reason\": \"stop\"\n",
       "     },\n",
       "     {\n",
       "       \"text\": \"\\n\\nEating ass can be a pleasurable experience due to the sensitivity of the area, which can be activated with the help of tongue and lips. It is also an intimate act, which can be enjoyable for partners to explore.\",\n",
       "       \"index\": 10,\n",
       "       \"logprobs\": null,\n",
       "       \"finish_reason\": \"stop\"\n",
       "     },\n",
       "     {\n",
       "       \"text\": \"\\n\\nMen's fashion can seem boring because men's styles often stay within a certain traditional range and don't change drastically from season to season. Additionally, the fashion industry overall has experienced a more saturated market, so not as much experimentation is happening or as many distinct trends are emerging as in previous years.\",\n",
       "       \"index\": 11,\n",
       "       \"logprobs\": null,\n",
       "       \"finish_reason\": \"stop\"\n",
       "     },\n",
       "     {\n",
       "       \"text\": \"\\n\\nIt depends on the profile you are messaging. Some accounts are managed by multiple people, including men, and some accounts are managed solely by the individual performing. Ultimately, the best way to find out is by messaging the person directly and asking them.\",\n",
       "       \"index\": 12,\n",
       "       \"logprobs\": null,\n",
       "       \"finish_reason\": \"stop\"\n",
       "     },\n",
       "     {\n",
       "       \"text\": \"\\n\\nTwitter's URL has always been twitter.com to maintain brand recognition and to remain consistent. Additionally, it can be much more expensive to purchase a custom domain such as x.com. Twitter's consistent URL has helped it become one of the most recognizable brands on the internet.\",\n",
       "       \"index\": 13,\n",
       "       \"logprobs\": null,\n",
       "       \"finish_reason\": \"stop\"\n",
       "     },\n",
       "     {\n",
       "       \"text\": \"\\n\\nI'm religious because believing in something bigger than myself brings me joy and fulfillment. It gives me an orientation throughout life and gives me comfort in times of difficulty. I believe in the power of faith and the power of good deeds. I'm religious because it gives me a sense of purpose and belonging.\",\n",
       "       \"index\": 14,\n",
       "       \"logprobs\": null,\n",
       "       \"finish_reason\": \"stop\"\n",
       "     },\n",
       "     {\n",
       "       \"text\": \"\\n\\nThe origin of clowns being seen as creepy and scary likely began in the late 1980s and early 1990s, when films such as IT and Killer Klowns From Outer Space featured disconcerting images of clowns. These movies, along with those that followed, have helped to create a horror trope where clowns are typically depicted as being sinister and threatening. In recent years, reports of so-called \\\"creepy clowns\\\" appearing in public places has further propagated the idea of clowns being sinister, and it has become a common trope in films and other forms of media.\",\n",
       "       \"index\": 15,\n",
       "       \"logprobs\": null,\n",
       "       \"finish_reason\": \"stop\"\n",
       "     },\n",
       "     {\n",
       "       \"text\": \"\\n\\nFalling asleep is not as simple as closing your eyes. It's a complex process and can be impacted by a variety of factors such as stress, anxiety, physical comfort, diet, lifestyle, and environment. Generally speaking, relaxation is key to falling asleep, so finding ways to relax the body and mind can help facilitate the process. Additionally, establishing a consistent bedtime and wake time, avoiding late-night eating, avoiding stimulating activities before bed, and creating a comfortable and calming sleep environment can help create a conducive sleeping environment.\",\n",
       "       \"index\": 16,\n",
       "       \"logprobs\": null,\n",
       "       \"finish_reason\": \"stop\"\n",
       "     },\n",
       "     {\n",
       "       \"text\": \"\\n\\nIt is unclear who first decided that boys should wear blue and girls should wear pink; however, this traditional color coding began in the United States in the 19th century when a clothing retailer called Febiger\\u2019s decided it would be best to use gender-specific color coding in its catalogs. It is possible, however, that the gender-specific color coding dates back even further.\",\n",
       "       \"index\": 17,\n",
       "       \"logprobs\": null,\n",
       "       \"finish_reason\": \"stop\"\n",
       "     },\n",
       "     {\n",
       "       \"text\": \"\\n\\nScammers love WhatsApp because it is a popular messaging platform with over two billion users worldwide. It is free to use and has a large user base, making it a very attractive platform for scammers to target. Additionally, WhatsApp offers a mobile app that allows users to communicate while on the go. This makes it easier for scammers to target potential victims since they do not necessarily have to be in the same geographic area.\",\n",
       "       \"index\": 18,\n",
       "       \"logprobs\": null,\n",
       "       \"finish_reason\": \"stop\"\n",
       "     },\n",
       "     {\n",
       "       \"text\": \"\\n\\nYes, it can be a normal reaction to try to shake off a particular thought or an intense feeling. It can be a way of releasing some of that energy and can even be helpful in regulating difficult emotions. If it's something that you find yourself doing often, it might be worth talking to a therapist to explore the source of the thought or feeling as well as how to best manage it.\",\n",
       "       \"index\": 19,\n",
       "       \"logprobs\": null,\n",
       "       \"finish_reason\": \"stop\"\n",
       "     }\n",
       "   ],\n",
       "   \"usage\": {\n",
       "     \"prompt_tokens\": 292,\n",
       "     \"completion_tokens\": 1481,\n",
       "     \"total_tokens\": 1773\n",
       "   }\n",
       " },\n",
       " <OpenAIObject text_completion id=cmpl-7ztz9zWMNmwiLtsZAsr1MeoPdVRNb at 0x1d703875610> JSON: {\n",
       "   \"warning\": \"This model version is deprecated. Migrate before January 4, 2024 to avoid disruption of service. Learn more https://platform.openai.com/docs/deprecations\",\n",
       "   \"id\": \"cmpl-7ztz9zWMNmwiLtsZAsr1MeoPdVRNb\",\n",
       "   \"object\": \"text_completion\",\n",
       "   \"created\": 1694987571,\n",
       "   \"model\": \"text-davinci-003\",\n",
       "   \"choices\": [\n",
       "     {\n",
       "       \"text\": \"\\n\\nA marriage proposal is usually a surprise because it is a significant and emotional moment that is meant to be a surprise to make the moment special. It is often not a discussion because it is more of a surprise, rather than a matter of negotiation.\",\n",
       "       \"index\": 0,\n",
       "       \"logprobs\": null,\n",
       "       \"finish_reason\": \"stop\"\n",
       "     },\n",
       "     {\n",
       "       \"text\": \"\\n\\nYes, it is possible to have asthma without ever having an asthma attack. Some people with asthma experience mild symptoms which are easily managed and they may never have an asthma attack. Without proper medical diagnosis and treatment, some people may be living with undiagnosed asthma and can go for years without experiencing an asthma attack.\",\n",
       "       \"index\": 1,\n",
       "       \"logprobs\": null,\n",
       "       \"finish_reason\": \"stop\"\n",
       "     },\n",
       "     {\n",
       "       \"text\": \"\\n\\nAnswer: Everyone has individual preferences, so the frequency with which people think about sex varies. Some people might think about sex multiple times a day, while others may only think about it occasionally.\",\n",
       "       \"index\": 2,\n",
       "       \"logprobs\": null,\n",
       "       \"finish_reason\": \"stop\"\n",
       "     },\n",
       "     {\n",
       "       \"text\": \"\\n\\nYes, it is possible to left handedly fold sheets. Start by folding the sheet in half, and turning the sheet 180 degrees so the folded side is pointing towards your left hand. Then, tuck the left side over with your left hand, and fold the right side over with your right hand. Firmly press down each fold with your hands until it stays crisp and even.\",\n",
       "       \"index\": 3,\n",
       "       \"logprobs\": null,\n",
       "       \"finish_reason\": \"stop\"\n",
       "     },\n",
       "     {\n",
       "       \"text\": \"\\n\\nNo, the US military did not establish no fly zones prior to 9/11. There were some agreements made between the United Nations and Iraq regarding the monitoring of air and sea traffic in the region, but these agreements were not enforced by the US military.\",\n",
       "       \"index\": 4,\n",
       "       \"logprobs\": null,\n",
       "       \"finish_reason\": \"stop\"\n",
       "     },\n",
       "     {\n",
       "       \"text\": \"\\n\\nExpect casual conversations, respect, and companionship. As a 66-year-old, beautiful woman, her life experience and wisdom will likely make her an interesting and engaging date. She may have preferences about how she likes to spend time on a date, and it\\u2019s best to get to know her and find out what those are. Make sure to give her your undivided attention and be respectful of her wishes. Some topics that she may find interesting for conversation include family, travel, current events, and hobbies. Be open to learning about her experiences and be prepared to share your own.\",\n",
       "       \"index\": 5,\n",
       "       \"logprobs\": null,\n",
       "       \"finish_reason\": \"stop\"\n",
       "     },\n",
       "     {\n",
       "       \"text\": \"\\n\\nThe way the British Empire is viewed today is complicated and largely shaped by historical events and attitudes. On the one hand, the British Empire is associated with oppressive colonization and exploitation of foreign lands. On the other hand, the British Empire is also remembered for its introduction of democracy, rule of law, and other principles of western modernity that many countries view positively. \\n\\nIn contrast, the Roman Empire is often remembered as a romantic period in history that is associated with grandeur and power. The Romans are credited with many influential architectural, engineering, and social achievements. Additionally, there is often a greater sense of distance and detachment from the Roman Empire than from the British Empire, as it was so long ago. This detachment provides more room for romanticization and admiration.\",\n",
       "       \"index\": 6,\n",
       "       \"logprobs\": null,\n",
       "       \"finish_reason\": \"stop\"\n",
       "     },\n",
       "     {\n",
       "       \"text\": \"\\n\\nNo, a DUI typically requires operating a motor vehicle. Mowing a lawn requires the use of a non-motorized vehicle - typically a push mower - so it is not considered operating a motor vehicle.\",\n",
       "       \"index\": 7,\n",
       "       \"logprobs\": null,\n",
       "       \"finish_reason\": \"stop\"\n",
       "     },\n",
       "     {\n",
       "       \"text\": \"\\n\\nThis depends on the individual situation. If both people are available and excited to plan a date, then two days to one week is usually the optimal amount of time that should pass. If either person is busy, it could take longer.\",\n",
       "       \"index\": 8,\n",
       "       \"logprobs\": null,\n",
       "       \"finish_reason\": \"stop\"\n",
       "     },\n",
       "     {\n",
       "       \"text\": \"\\n\\nIt's impossible to know for sure how much cocaine Ric Flair may have taken during his WWE career. Flair has publicly stated that he had a problem with drugs and alcohol in the past, but he has also denied any use of cocaine. If Ric Flair did, in fact, use cocaine during his WWE career, it would have been a very small amount, likely limited to social use.\",\n",
       "       \"index\": 9,\n",
       "       \"logprobs\": null,\n",
       "       \"finish_reason\": \"stop\"\n",
       "     },\n",
       "     {\n",
       "       \"text\": \"\\n\\nIt is difficult to point to one specific person who \\\"ruined\\\" vampire lore. Over the years, it has been subject to various interpretations and reinterpretations in the media, and what may be considered a terrible portrayal to one person may be beloved to another. Some individuals have popularized characters and stories that have widely become associated with vampires, such as novelist Bram Stoker and his novel Dracula, and film director Francis Ford Coppola and his 1992 adaptation of the same.\",\n",
       "       \"index\": 10,\n",
       "       \"logprobs\": null,\n",
       "       \"finish_reason\": \"stop\"\n",
       "     },\n",
       "     {\n",
       "       \"text\": \"\\n\\nPig-let is a form of apocopation, which is the process of shortening a word by removing a letter or sound at the end. It is usually used when the word is excessive in syllables or its meaning is clear without the full word. Pig-let is most often used with longer words, such as \\\"don't\\\" becoming \\\"don't-let,\\\" \\\"dontcha\\\" becoming \\\"dontch-let,\\\" or \\\"can't\\\" becoming \\\"cant-let.\\\"\",\n",
       "       \"index\": 11,\n",
       "       \"logprobs\": null,\n",
       "       \"finish_reason\": \"stop\"\n",
       "     },\n",
       "     {\n",
       "       \"text\": \"\\n\\nThere is no definitive answer for this question, but some possible reasons may include that it may be too much of a hassle to go through the legal process of changing one's official name or that the spouse may not want to lose the identity they had before marriage (or that was given by their parents). Additionally, for celebrities, it may be a way to maintain a degree of individual privacy or to distinguish themselves from their partner.\",\n",
       "       \"index\": 12,\n",
       "       \"logprobs\": null,\n",
       "       \"finish_reason\": \"stop\"\n",
       "     },\n",
       "     {\n",
       "       \"text\": \"\\n\\n1. I expected to have more disposable income.\\n2. I expected to have more freedom and autonomy in my career choices and decisions.\\n3. I expected to be able to move out and live independently.\\n4. I expected to be able to travel and experience the world more.\\n5. I expected to own a nice home.\",\n",
       "       \"index\": 13,\n",
       "       \"logprobs\": null,\n",
       "       \"finish_reason\": \"stop\"\n",
       "     },\n",
       "     {\n",
       "       \"text\": \"\\n\\nMany people struggle with personality tests. It is important to remember that most tests have flaws and may not accurately represent one's true personality. It is important to be honest and open when answering questions, but to also take personal biases into account. Personality tests can be helpful for understanding oneself, but they should not be taken too seriously.\",\n",
       "       \"index\": 14,\n",
       "       \"logprobs\": null,\n",
       "       \"finish_reason\": \"stop\"\n",
       "     },\n",
       "     {\n",
       "       \"text\": \"\\n\\nIt is considered bad practice to make tea in the microwave because microwave ovens can\\u2019t reach the desired temperature required for brewing tea. The boiling point of water is 212\\u00b0F (100\\u00b0C), whereas the temperature of water in a microwave is usually much lower. This means that the tea will not steep properly, resulting in a weak and unsatisfactory cup of tea. Furthermore, microwaving tea can also affect the taste and flavor of the tea since it reduces the essential oils and flavors.\",\n",
       "       \"index\": 15,\n",
       "       \"logprobs\": null,\n",
       "       \"finish_reason\": \"stop\"\n",
       "     },\n",
       "     {\n",
       "       \"text\": \"\\n\\nThat depends on the circumstances and the nature of the relationship between myself and my partner. If my partner is trying to control me or make me feel like I need to answer to them, then it is not okay for them to want to install a tracking app and it is certainly not okay for me to want to track them. However, if our relationship has developed to a point where trust is mutual and we both want to feel a greater level of closeness, then tracking each other's locations might be something we would mutually agree to.\",\n",
       "       \"index\": 16,\n",
       "       \"logprobs\": null,\n",
       "       \"finish_reason\": \"stop\"\n",
       "     },\n",
       "     {\n",
       "       \"text\": \"\\n\\nIn the United States, the legal drinking age is 21 because of the National Minimum Drinking Age Act of 1984. This act was established in reaction to the increase of drunk driving fatalities that occurred during the 1970s. By setting a legal drinking age of 21, the government hopes to reduce incidents of drunk driving and related fatalities by making it more difficult for young people to purchase alcohol.\",\n",
       "       \"index\": 17,\n",
       "       \"logprobs\": null,\n",
       "       \"finish_reason\": \"stop\"\n",
       "     },\n",
       "     {\n",
       "       \"text\": \"\\n\\nThe reasoning behind the removal of awards on Reddit is to simplify the user experience and reduce the amount of clutter on the platform. Awards can create a sense of competition and, ultimately, could potentially create animosity between users, which is not conducive to creating a positive community. Removing awards makes Reddit less competitive and helps create a more collaborative environment.\",\n",
       "       \"index\": 18,\n",
       "       \"logprobs\": null,\n",
       "       \"finish_reason\": \"stop\"\n",
       "     },\n",
       "     {\n",
       "       \"text\": \"\\n\\n1. Set a daily routine: Pick times of the day to shower and brush your teeth and stick with it. This could be when you wake up, before bed, or right after meals.\\n\\n2. Put it in your schedule: If it helps, note it down in your calendar or planner so it\\u2019s easier to remember to do it.\\n\\n3. Have all the supplies: Make sure you have all the necessary supplies like a toothbrush, toothpaste, soap, and a towel in the bathroom so you\\u2019re ready to go.\\n\\n4. Make it fun: Play music while you shower or find some new toothpaste flavours to try.\\n\\n5. Use a timer: Set a timer for two minutes while you brush your teeth so you know you\\u2019re getting a full clean.\\n\\n6. Find an accountability partner: Ask a friend or family member to help you stay on track with your routine and also give you a little reminder when needed.\",\n",
       "       \"index\": 19,\n",
       "       \"logprobs\": null,\n",
       "       \"finish_reason\": \"stop\"\n",
       "     }\n",
       "   ],\n",
       "   \"usage\": {\n",
       "     \"prompt_tokens\": 280,\n",
       "     \"completion_tokens\": 1738,\n",
       "     \"total_tokens\": 2018\n",
       "   }\n",
       " },\n",
       " <OpenAIObject text_completion id=cmpl-7ztzDCPpIGzgHY2epclnhZNaovQk3 at 0x1d7036429f0> JSON: {\n",
       "   \"warning\": \"This model version is deprecated. Migrate before January 4, 2024 to avoid disruption of service. Learn more https://platform.openai.com/docs/deprecations\",\n",
       "   \"id\": \"cmpl-7ztzDCPpIGzgHY2epclnhZNaovQk3\",\n",
       "   \"object\": \"text_completion\",\n",
       "   \"created\": 1694987575,\n",
       "   \"model\": \"text-davinci-003\",\n",
       "   \"choices\": [\n",
       "     {\n",
       "       \"text\": \"\\n\\nHey there, thanks so much for thinking of me. It's really nice to hear from you after all these years. Unfortunately, I'm unable to commit to the group chat due to my current workload and time constraints. Wishing you all the best though! \",\n",
       "       \"index\": 0,\n",
       "       \"logprobs\": null,\n",
       "       \"finish_reason\": \"stop\"\n",
       "     },\n",
       "     {\n",
       "       \"text\": \"\\n\\nSports fandom is often seen as a way of finding affiliation and a sense of belonging in a group. When a rival team is seen as a threat to one\\u2019s team, irrational reactions are often seen as a result of feeling attacked in some way. Sports rivalries also often tap into ties to towns, cities, and regions, which produce even stronger reactions. These reactions can be rooted in deeper socio-political reasons, such as a history of animosity or a sense of competition. On a more basic level, it may also be that the fan is just very passionate about their team and protective when it comes to perceived threats.\",\n",
       "       \"index\": 1,\n",
       "       \"logprobs\": null,\n",
       "       \"finish_reason\": \"stop\"\n",
       "     },\n",
       "     {\n",
       "       \"text\": \" \\n\\nIt would depend on the size of the local ecosystem and the water-usage patterns of its inhabitants. Generally speaking, hoarding a significant amount of water (tens or even hundreds of thousands of gallons) could have a noticeable impact on the local ecosystem. However, the exact amount would need to be evaluated on a case-by-case basis.\",\n",
       "       \"index\": 2,\n",
       "       \"logprobs\": null,\n",
       "       \"finish_reason\": \"stop\"\n",
       "     },\n",
       "     {\n",
       "       \"text\": \"\\n\\nPeople typically think about the quality, brand recognition, fashionable style, and exclusivity when considering buying expensive designer items. For those with the means to purchase luxury items, they may also think about the feeling of status and extravagance that comes with owning these products. They may also consider the reputation of the designer and the perceived value they get out of investing in that specific product.\",\n",
       "       \"index\": 3,\n",
       "       \"logprobs\": null,\n",
       "       \"finish_reason\": \"stop\"\n",
       "     },\n",
       "     {\n",
       "       \"text\": \"\\n\\nWhen living organisms die, the energy that was sustaining them is released back into the environment in various forms such as heat, light, and sound. This energy is then recycled in the ecosystem, briefly stored in other organisms or simply dissipated as heat. Ultimately, no energy is lost, but it is constantly redistributed.\",\n",
       "       \"index\": 4,\n",
       "       \"logprobs\": null,\n",
       "       \"finish_reason\": \"stop\"\n",
       "     },\n",
       "     {\n",
       "       \"text\": \"\\n\\nYes, I would hope so.\",\n",
       "       \"index\": 5,\n",
       "       \"logprobs\": null,\n",
       "       \"finish_reason\": \"stop\"\n",
       "     },\n",
       "     {\n",
       "       \"text\": \"\\n\\nYes, I think many people feel this way. Phone calls can sometimes be inconvenient and hard to fit into a busy schedule. Texting or chatting in person can provide the same connection without feeling as rushed or needing to be available at a certain time.\",\n",
       "       \"index\": 6,\n",
       "       \"logprobs\": null,\n",
       "       \"finish_reason\": \"stop\"\n",
       "     },\n",
       "     {\n",
       "       \"text\": \"\\n\\nLoft apartments typically have high ceilings and lots of windows and do not have insulation like other types of buildings. When it rains, the windows trap in heat because of the increased moisture in the air and the rain acts like a barrier to prevent the warm air from escaping. This traps the heat inside your loft and makes the space hotter.\",\n",
       "       \"index\": 7,\n",
       "       \"logprobs\": null,\n",
       "       \"finish_reason\": \"stop\"\n",
       "     },\n",
       "     {\n",
       "       \"text\": \"\\n\\n1. Group together similar types of cables and wires.\\n2. Secure cables and wires to the walls, floors, or ceilings using wall clips, cable straps, or metal conduits.\\n3. Label or colour code different cables and wires to make it easier to identify them.\\n4. Place larger cables and wires along the bottom of the group, and secure them in place with cable ties.\\n5. Arrange the wires and cables in a neat pattern to make them look more orderly and less cluttered.\\n6. Use cable winders or plastic corrugated sleeves to bundle multiple wires together.\\n7. Employ network rack systems to neatly organise and store multiple cables and wires.\",\n",
       "       \"index\": 8,\n",
       "       \"logprobs\": null,\n",
       "       \"finish_reason\": \"stop\"\n",
       "     },\n",
       "     {\n",
       "       \"text\": \" \\n\\nIf you hit the woman, you could be charged with battery. Even if you were protecting your property, it is illegal to use physical force against another person. There is no \\\"getting away\\\" with it, and even if it is ruled that the action was justified, you may still face criminal charges.\",\n",
       "       \"index\": 9,\n",
       "       \"logprobs\": null,\n",
       "       \"finish_reason\": \"stop\"\n",
       "     },\n",
       "     {\n",
       "       \"text\": \"\\n\\nThe airfryer works by circulating hot air around the food, and the temperature of the air is much higher than in a traditional oven. This can lead to the food cooking more quickly, and not having enough time to absorb all of the flavors and ingredients. It can also be due to the size and quantity of the food that you are cooking, as a full airfryer may not cook as evenly as a smaller batch. Additionally, some airfryers may require different cooking times than traditional ovens, so make sure that you are following the instructions for the particular make and model of airfryer that you have.\",\n",
       "       \"index\": 10,\n",
       "       \"logprobs\": null,\n",
       "       \"finish_reason\": \"stop\"\n",
       "     },\n",
       "     {\n",
       "       \"text\": \"\\n\\nSelf defense courses teach more than just physical skills. They teach students to recognize the signs of a potentially violent situation and to use strategies to avoid and de-escalate violent situations. Weightlifting alone will not equip a person with the proper skills to handle social and physical confrontations. Self defense courses also focus on teaching students mental and psychological skills such as self-confidence, situational awareness, how to read people, and negotiation techniques which cannot be acquired through physical training alone. By using multiple years of self defense courses, students can learn more advanced physical techniques such as weapon defense, ground defense, and submissions in addition to mental and psychological skills.\",\n",
       "       \"index\": 11,\n",
       "       \"logprobs\": null,\n",
       "       \"finish_reason\": \"stop\"\n",
       "     },\n",
       "     {\n",
       "       \"text\": \"\\n\\nYes, it is illegal to sell malware-infected USB sticks for any purpose. Furthermore, many countries have laws and regulations around the sale and distribution of malicious software, such as malware, and doing so can result in serious consequences.\",\n",
       "       \"index\": 12,\n",
       "       \"logprobs\": null,\n",
       "       \"finish_reason\": \"stop\"\n",
       "     },\n",
       "     {\n",
       "       \"text\": \"\\n\\nThe Massachusetts Health Care Reform Law of 2006 provides a number of insurance options for residents of the state. All Massachusetts residents are required to have health insurance in order to comply with the law. The types of health insurance available in the state include employer-sponsored plans, Medicaid, Medicare, the Health Connector, and private insurance plans. Employer-sponsored plans are available in Massachusetts through employers who offer them to their employees. Medicaid is a free health insurance program for low-income individuals and families. Medicare is a Federal insurance program for people age 65 and older, people with disabilities, and some with specific medical conditions. The Health Connector is an online health insurance marketplace where residents can purchase health plans from private insurance companies. Private insurance plans are available through insurance companies, agents, and brokers. They generally require premiums and may also require copays and deductibles.\",\n",
       "       \"index\": 13,\n",
       "       \"logprobs\": null,\n",
       "       \"finish_reason\": \"stop\"\n",
       "     },\n",
       "     {\n",
       "       \"text\": \"\\n\\nThis is a subjective question, and the answer will depend on the individual and their unique circumstances. Some people may prefer a modern urban lifestyle in states like California or New York, while others may prefer a more rural lifestyle in states like Idaho or Wyoming. Ultimately, the best state for someone to live in is a matter of personal preference.\",\n",
       "       \"index\": 14,\n",
       "       \"logprobs\": null,\n",
       "       \"finish_reason\": \"stop\"\n",
       "     },\n",
       "     {\n",
       "       \"text\": \"\\n\\nIt is not enjoyable in any way to slander your coworkers and make their lives hell. Doing so will only damage any potential relationships at work and create a tense and hostile work environment. It is also wrong and unethical to do this and can have serious consequences for both you and your coworkers.\",\n",
       "       \"index\": 15,\n",
       "       \"logprobs\": null,\n",
       "       \"finish_reason\": \"stop\"\n",
       "     },\n",
       "     {\n",
       "       \"text\": \"\\n\\nYes, it is safe to eat frozen vegetables microwaved in a bag that you didn't open and then stored in the refrigerator. However, the quality and taste of the vegetables may not be as good as fresh vegetables. It's best to eat them within a couple of days.\",\n",
       "       \"index\": 16,\n",
       "       \"logprobs\": null,\n",
       "       \"finish_reason\": \"stop\"\n",
       "     },\n",
       "     {\n",
       "       \"text\": \"\\n\\nMore than anything, it's important to remember that it's completely natural to still feel connected to your ex after a long time \\u2013 it's a sign that you had something special, and it doesn't have to mean anything bad. Take some time to yourself to think through your feelings and be honest with yourself as to why you miss your ex. Maybe you can write in a journal or find a creative outlet like drawing or painting to express these emotions. If you're feeling particularly overwhelmed, it can also help to talk to a trusted friend or professional about your feelings.\",\n",
       "       \"index\": 17,\n",
       "       \"logprobs\": null,\n",
       "       \"finish_reason\": \"stop\"\n",
       "     },\n",
       "     {\n",
       "       \"text\": \"\\n\\nNo, not to our knowledge. There are edible items that may have a similar texture to skin, such as certain all-natural gummies, but nothing specifically designed for dogs that has the same texture.\",\n",
       "       \"index\": 18,\n",
       "       \"logprobs\": null,\n",
       "       \"finish_reason\": \"stop\"\n",
       "     },\n",
       "     {\n",
       "       \"text\": \"\\n\\nRobots cannot pass Captcha tests because they lack the ability to interpret the text and image content the same way a human would. Captcha tests are designed to be resistant to automated bots in order to protect websites from malicious actors.\",\n",
       "       \"index\": 19,\n",
       "       \"logprobs\": null,\n",
       "       \"finish_reason\": \"stop\"\n",
       "     }\n",
       "   ],\n",
       "   \"usage\": {\n",
       "     \"prompt_tokens\": 368,\n",
       "     \"completion_tokens\": 1611,\n",
       "     \"total_tokens\": 1979\n",
       "   }\n",
       " },\n",
       " <OpenAIObject text_completion id=cmpl-7ztzHbwWUxZ36TUILafwixg7f2Yau at 0x1d703833cb0> JSON: {\n",
       "   \"warning\": \"This model version is deprecated. Migrate before January 4, 2024 to avoid disruption of service. Learn more https://platform.openai.com/docs/deprecations\",\n",
       "   \"id\": \"cmpl-7ztzHbwWUxZ36TUILafwixg7f2Yau\",\n",
       "   \"object\": \"text_completion\",\n",
       "   \"created\": 1694987579,\n",
       "   \"model\": \"text-davinci-003\",\n",
       "   \"choices\": [\n",
       "     {\n",
       "       \"text\": \"\\n\\nThe concept of \\\"being a fan\\\" of a particular college football team is a strong source of pride and identity for many people, and even those who have no direct relation to the school or team often feel a certain degree of loyalty and admiration for its players and coaches. In addition, there are often deep ties between certain schools and particular regions or communities, creating a shared sense of community that is expressed and celebrated through support for the school's team. Additionally, college football culture is heavily embedded into many traditional and social activities, making it a highly visible and popular sport, which further encourages people to become involved with the team.\",\n",
       "       \"index\": 0,\n",
       "       \"logprobs\": null,\n",
       "       \"finish_reason\": \"stop\"\n",
       "     },\n",
       "     {\n",
       "       \"text\": \"\\n\\nYes, I think children should be featured in commercials and packages if they are age-appropriate. When a child is used, the product is more appealing and inviting, encouraging the viewer or buyer to take action. Furthermore, children bring a sense of innocence, energy and playfulness to any commercial or package, which can be used to promote family-friendly products and services.\",\n",
       "       \"index\": 1,\n",
       "       \"logprobs\": null,\n",
       "       \"finish_reason\": \"stop\"\n",
       "     },\n",
       "     {\n",
       "       \"text\": \"\\n\\nYes. Like any other addiction, women can develop a compulsive need to masturbate that interferes with their ability to regulate their behavior and live a healthy, fulfilling life.\",\n",
       "       \"index\": 2,\n",
       "       \"logprobs\": null,\n",
       "       \"finish_reason\": \"stop\"\n",
       "     },\n",
       "     {\n",
       "       \"text\": \"\\n\\nSubwoofers are typically the best type of speaker for handling high volumes of brown noise. If you are looking for a speaker that can reach a high volume, then look for a subwoofer with a high power rating.\",\n",
       "       \"index\": 3,\n",
       "       \"logprobs\": null,\n",
       "       \"finish_reason\": \"stop\"\n",
       "     },\n",
       "     {\n",
       "       \"text\": \"\\n\\nSoaps have different scents, and many may be unpleasant if used in the groin area. This could be due to the fact that the skin in this area is more sensitive, so it may be reacting to the ingredients in the soap. It is also possible that the harshness of the soap is causing an unpleasant smell. If you have sensitive skin, it's best to use a mild soap specifically designed for the groin area.\",\n",
       "       \"index\": 4,\n",
       "       \"logprobs\": null,\n",
       "       \"finish_reason\": \"stop\"\n",
       "     },\n",
       "     {\n",
       "       \"text\": \"\\n\\nAs a mortician, it is important to be aware of the psychological impact of any death. Embalming the body of a child or a teenager can feel like an unbearable burden, as these stages of life have not yet reached emotional maturity. I have to be particularly sensitive when a parent must say their final goodbyes to a child or a young person. Likewise, elderly people can often seem like innocent victims of life\\u2019s events and can be emotionally difficult to work with. It is important to remember that you did not cause these deaths, only the deceased\\u2019s Creator can do that. Embalming children and elderly people forces me to confront life\\u2019s fragility, mortality, and the sobering reminder that despite our efforts, life is fleeting. It is a very sensitive and emotional process, and one that I take very seriously.\",\n",
       "       \"index\": 5,\n",
       "       \"logprobs\": null,\n",
       "       \"finish_reason\": \"stop\"\n",
       "     },\n",
       "     {\n",
       "       \"text\": \"\\n\\nIf the US went back on the gold standard, the US dollar would be pegged to the stable market price of gold, meaning its value would be tied to the value of gold. This would limit the money supply, making it more difficult for the Federal Reserve to respond to economic crisis and adjust to economic cycles, as the gold standard requires a fixed amount of money in circulation. Additionally, the cost of holding and trading gold would likely drive the cost of goods and services up, making things more expensive for everyday Americans.\",\n",
       "       \"index\": 6,\n",
       "       \"logprobs\": null,\n",
       "       \"finish_reason\": \"stop\"\n",
       "     },\n",
       "     {\n",
       "       \"text\": \"\\n\\nGender pronouns are a bigger issue in the United States and Canada because there is a larger social movement to recognize and respect gender identity and combat transgender discrimination. For many people, being referred to by the wrong pronoun or having their identity denied can be very hurtful and can have serious consequences for their mental and emotional well-being. In other parts of the world, transgender discrimination is still an issue, but the discussion surrounding it may not be as prominent or widespread as it is in the United States and Canada.\",\n",
       "       \"index\": 7,\n",
       "       \"logprobs\": null,\n",
       "       \"finish_reason\": \"stop\"\n",
       "     },\n",
       "     {\n",
       "       \"text\": \"\\n\\nIt depends on what kind of relationship you have with your girlfriend. If you feel comfortable with taking the lead and asking her out, then go ahead. However, if you would like her to demonstrate interest in taking initiative, then you can talk to her and see if she might be interested in going out on a date. If she's not, then maybe you can suggest an activity or occasion that both of you can share instead of a formal date.\",\n",
       "       \"index\": 8,\n",
       "       \"logprobs\": null,\n",
       "       \"finish_reason\": \"stop\"\n",
       "     },\n",
       "     {\n",
       "       \"text\": \"\\n\\nYes, a tenant can refute the proposed rent increase by providing the landlord with proof that their current rent is within the legal rent cap set by their local municipality. In some cases, a tenant may also be able to challenge the proposed rent increase in court or make an official appeal to their city's rent arbitration board. In addition, the tenant can try to negotiate with the landlord for a smaller rent increase or other concessions.\",\n",
       "       \"index\": 9,\n",
       "       \"logprobs\": null,\n",
       "       \"finish_reason\": \"stop\"\n",
       "     },\n",
       "     {\n",
       "       \"text\": \"\\n\\n1. Start by learning some basic cooking terminology.\\n\\n2. Check out online recipes and practice the techniques.\\n\\n3. Read cookbooks and watch cooking shows to find out the ins and outs.\\n\\n4. Talk to experienced cooks to learn more tips and tricks.\\n\\n5. Use practice and experimentation to hone your skills.\\n\\n6. Stop worrying about perfection and learn to love the process.\",\n",
       "       \"index\": 10,\n",
       "       \"logprobs\": null,\n",
       "       \"finish_reason\": \"stop\"\n",
       "     },\n",
       "     {\n",
       "       \"text\": \"\\n\\nPeople with tattoos can be seen as intimidating for a variety of reasons. Some think tattoos are a sign of strength and confidence, while others consider them to be a sign of rebellion or aggression. People with tattoos often have a tough outward appearance, which can make them seem intimidating to some. Tattoos may also represent certain values, ideals, and cultures, which could be off-putting to those who don\\u2019t understand or relate to them.\",\n",
       "       \"index\": 11,\n",
       "       \"logprobs\": null,\n",
       "       \"finish_reason\": \"stop\"\n",
       "     },\n",
       "     {\n",
       "       \"text\": \" It's understandable that some people may enjoy the status, recognition, and social capital that comes along with fame, but with it comes a great amount of scrutiny and criticism, and can even lead to a loss of privacy. It's important to consider the pros and cons before seeking fame.\",\n",
       "       \"index\": 12,\n",
       "       \"logprobs\": null,\n",
       "       \"finish_reason\": \"stop\"\n",
       "     },\n",
       "     {\n",
       "       \"text\": \"\\n\\nEurope is the smallest continent in the world, with a landmass of 10.180 million km\\u00b2, compared to 28.7 million km\\u00b2 for Asia, 42.1 million km\\u00b2 for Africa, and 28.7 million km\\u00b2 for North America. As a result, the subregions of Europe tend to be much smaller than the subregions of the other continents due to Europe's limited landmass.\",\n",
       "       \"index\": 13,\n",
       "       \"logprobs\": null,\n",
       "       \"finish_reason\": \"stop\"\n",
       "     },\n",
       "     {\n",
       "       \"text\": \"\\n\\nIt sounds like the two of you may need to have a discussion about boundaries and expectations in your relationship. You should talk to your partner about why they feel the need to keep the list from you and make sure that you both feel comfortable and respected in the relationship.\",\n",
       "       \"index\": 14,\n",
       "       \"logprobs\": null,\n",
       "       \"finish_reason\": \"stop\"\n",
       "     },\n",
       "     {\n",
       "       \"text\": \"\\n\\nThe equivalent of \\u201csober\\u201d when it comes to weed and drugs is \\u201cclean\\u201d or \\u201cdrug-free\\u201d.\",\n",
       "       \"index\": 15,\n",
       "       \"logprobs\": null,\n",
       "       \"finish_reason\": \"stop\"\n",
       "     },\n",
       "     {\n",
       "       \"text\": \"\\n\\nIt is not possible to breed the anxiety out of cheetahs. Anxiety is a natural behavior that serves an important purpose for the animal. Cheetahs need to be alert for predators and carefully assess situations before making decisions about when to run or stand their ground. Additionally, cheetah behavior is largely decided by their genetic makeup, and a majority of their anxiety levels cannot be altered through breeding.\",\n",
       "       \"index\": 16,\n",
       "       \"logprobs\": null,\n",
       "       \"finish_reason\": \"stop\"\n",
       "     },\n",
       "     {\n",
       "       \"text\": \"\\n\\nUnfortunately, Reddit has built up somewhat of a reputation for being overly opinionated and sometimes dismissive of wider conversations about relationships and interpersonal issues. It can be a double-edged sword in a way because it means that many members have an extreme opinion on many topics. \\n\\nAt the same time, this \\\"divorce/break up with that person\\\" mentality can be driven by the desire to ensure that people are not taken advantage of, abused, or enabling toxic behavior. People may jump so quickly to this solution because they simply don't know the other person's situation and feel a sense of urgency to protect them from it. Thus, they make a blanket statement of the \\\"solution\\\" which is often not the best option.\\n\\nWhen it comes to interpersonal relationships, it really isn't a simple black and white answer. Everyone's circumstances are different and can be complex. It is important to remember that there are always other available options, and that the decision to stay in or end a relationship is a tough one that should not be taken lightly.\",\n",
       "       \"index\": 17,\n",
       "       \"logprobs\": null,\n",
       "       \"finish_reason\": \"stop\"\n",
       "     },\n",
       "     {\n",
       "       \"text\": \"\\n\\nWhat is the energy of a 10-kg ball travelling at 10 m/s?\\n\\nThe energy of a 10 kg ball travelling at 10 m/s is 500 joules (J). This can be calculated by multiplying the mass of the ball (10 kg) by the square of its velocity (10 m/s) and then dividing the result by two (E=1/2mv2).\",\n",
       "       \"index\": 18,\n",
       "       \"logprobs\": null,\n",
       "       \"finish_reason\": \"stop\"\n",
       "     },\n",
       "     {\n",
       "       \"text\": \"\\n\\nIt is impossible to say who would win this fight, as it would depend largely on the size and strength of the individual animals, as well as their levels of aggression and training. Both species are strong and powerful, and neither would likely back down without a fight.\",\n",
       "       \"index\": 19,\n",
       "       \"logprobs\": null,\n",
       "       \"finish_reason\": \"stop\"\n",
       "     }\n",
       "   ],\n",
       "   \"usage\": {\n",
       "     \"prompt_tokens\": 363,\n",
       "     \"completion_tokens\": 1785,\n",
       "     \"total_tokens\": 2148\n",
       "   }\n",
       " },\n",
       " <OpenAIObject text_completion id=cmpl-7ztzKGxlKwPxHejh49lJJopXEMbGT at 0x1d703833410> JSON: {\n",
       "   \"warning\": \"This model version is deprecated. Migrate before January 4, 2024 to avoid disruption of service. Learn more https://platform.openai.com/docs/deprecations\",\n",
       "   \"id\": \"cmpl-7ztzKGxlKwPxHejh49lJJopXEMbGT\",\n",
       "   \"object\": \"text_completion\",\n",
       "   \"created\": 1694987582,\n",
       "   \"model\": \"text-davinci-003\",\n",
       "   \"choices\": [\n",
       "     {\n",
       "       \"text\": \"\\n\\nNo, it is not normal for overuse of Reddit to lead to feelings of despair. It is possible for someone to become overly consumed in an activity, like Reddit, and as a result feel overwhelmed and depressed. If this is occurring, it may be advisable to take a break from Reddit, and instead focus on activities that can help restore balance.\",\n",
       "       \"index\": 0,\n",
       "       \"logprobs\": null,\n",
       "       \"finish_reason\": \"stop\"\n",
       "     },\n",
       "     {\n",
       "       \"text\": \"\\n\\nYes, dating apps can be a good option, depending on what kind of relationship you're looking for. Dating apps can be a great way to expand your social circle, so they're especially good for people who are new to an area or are looking for casual hookups. However, if you're hoping to find something serious, dating apps may not always be the best option. There's no guarantee that people are looking for the same things, so it's important to communicate your intentions upfront.\",\n",
       "       \"index\": 1,\n",
       "       \"logprobs\": null,\n",
       "       \"finish_reason\": \"stop\"\n",
       "     },\n",
       "     {\n",
       "       \"text\": \"\\n\\nIt is difficult to definitively answer this question, as there are many different definitions of what constitutes a successful capitalist system. Some economists and scholars contend that capitalism has been successful in some countries, while others suggest it has not been successful in any country. It is also important to consider that economic success is not the only measure of a successful system. Capitalism can lead to varying degrees of economic and social outcomes, and the success of a system must be judged in terms of its overall impacts.\",\n",
       "       \"index\": 2,\n",
       "       \"logprobs\": null,\n",
       "       \"finish_reason\": \"stop\"\n",
       "     },\n",
       "     {\n",
       "       \"text\": \"\\n\\nCarne Asada is a classic Mexican dish made of marinated, grilled, and sliced steak. The marinated steak is often served on a tortilla with onion, cilantro, lime, guacamole, and Mexican hot sauces. It is typically served at Mexican restaurants, but can be made in the home as well. Carne Asada is a popular dish in the US Southwest, Mexico, and Latin American countries.\",\n",
       "       \"index\": 3,\n",
       "       \"logprobs\": null,\n",
       "       \"finish_reason\": \"stop\"\n",
       "     },\n",
       "     {\n",
       "       \"text\": \"\\n\\nRon DeSantis ran for Governor of Florida in 2018 because he believed he had the necessary experience and qualifications to be successful in the role. He had served in the US House of Representatives since 2013, bringing with him a background in law, the military, government, and business. Additionally, he was backed by President Donald Trump, who endorsed DeSantis and held multiple rallies for him during the campaign. Ultimately, DeSantis won the election and was sworn into office in January 2019.\",\n",
       "       \"index\": 4,\n",
       "       \"logprobs\": null,\n",
       "       \"finish_reason\": \"stop\"\n",
       "     },\n",
       "     {\n",
       "       \"text\": \"\\n\\nI wish for a world where everyone is free, equal, and safe; where we can all strive to achieve our dreams without fear or obstruction.\",\n",
       "       \"index\": 5,\n",
       "       \"logprobs\": null,\n",
       "       \"finish_reason\": \"stop\"\n",
       "     },\n",
       "     {\n",
       "       \"text\": \"\\n\\nBeing religious is an individual's personal set of beliefs, practices, and values that are based on the teachings of a particular religion. It is the majority of individuals embracing a spiritual or philosophical belief system and following those teachings with dedication and commitment. Being religious is generally accepted to include the practice of rituals, meditation, prayer, and other practices meant to deepen an individual\\u2019s connection with their faith and spiritual beliefs.\",\n",
       "       \"index\": 6,\n",
       "       \"logprobs\": null,\n",
       "       \"finish_reason\": \"stop\"\n",
       "     },\n",
       "     {\n",
       "       \"text\": \"\\n\\nIt is best to phrase your request in a way that emphasizes that you value her and the relationship. Making your request in a gentle and caring manner is important. You could say, \\\"I really value our relationship and hope you understand that I would really appreciate it if you could shave/clean yourself. Would you be able to do that for me?\\\"\",\n",
       "       \"index\": 7,\n",
       "       \"logprobs\": null,\n",
       "       \"finish_reason\": \"stop\"\n",
       "     },\n",
       "     {\n",
       "       \"text\": \"\\n\\nCults and extremist groups have typically been formed by people seeking acceptance and belonging. Over the years, different cults and extremist groups have gained traction, either due to their unique beliefs or ideas, or as a response to a particular social or political situation. Unfortunately, in some cases these groups have ended up becoming dangerous, engaging in illegal activities or promoting hatred and violence. Therefore, it has become more difficult to join these groups as law enforcement agencies have become increasingly vigilant in monitoring them.\",\n",
       "       \"index\": 8,\n",
       "       \"logprobs\": null,\n",
       "       \"finish_reason\": \"stop\"\n",
       "     },\n",
       "     {\n",
       "       \"text\": \"\\n\\nIt's likely that the dress is actually a combination of both gold and white, but in certain lighting conditions, such as lower levels of artificial or natural light, the white appears more navy blue, and the gold may appear darker, like a black color.\",\n",
       "       \"index\": 9,\n",
       "       \"logprobs\": null,\n",
       "       \"finish_reason\": \"stop\"\n",
       "     },\n",
       "     {\n",
       "       \"text\": \"\\n\\nIt is possible for lightning to chain on a roof covered in lightning rods, but the amount of potential chaining would depend on the nature of the structure and the distance between the lightning rods. It is generally recommended to space lightning rods as far apart as possible to reduce the potential for lightning chaining.\",\n",
       "       \"index\": 10,\n",
       "       \"logprobs\": null,\n",
       "       \"finish_reason\": \"stop\"\n",
       "     },\n",
       "     {\n",
       "       \"text\": \"\\n\\nThere are a variety of reasons why American cities may not be as big on tourism as other countries or cities. Reasons include a lack of infrastructure for tourists such as hotels, restaurants, or transportation; certain cities not having unique attractions or experiences that draw tourists; a high crime rate; or a location that is inconvenient for travelers to reach. Additionally, some American cities may not have invested time and resources into marketing their destination to potential tourists.\",\n",
       "       \"index\": 11,\n",
       "       \"logprobs\": null,\n",
       "       \"finish_reason\": \"stop\"\n",
       "     },\n",
       "     {\n",
       "       \"text\": \"\\n\\nThe emptiness is a natural part of life that never really goes away. It's important to accept it and learn to cope with it in healthy ways \\u2014 such as through self-care or support from friends and family. We all experience periods of emptiness, and it can become a powerful source of motivation and inspiration. Emptiness can be seen as a space to invite in more meaningful and fulfilling experiences.\",\n",
       "       \"index\": 12,\n",
       "       \"logprobs\": null,\n",
       "       \"finish_reason\": \"stop\"\n",
       "     },\n",
       "     {\n",
       "       \"text\": \"\\n\\nRaycon earphones are likely being bought by people looking for quality sound at an affordable price. They are popular with music lovers, gamers, and travelers. Some of their more popular models are the Raycon E50 and the Raycon E25, both of which feature Bluetooth capability and hands-free calling.\",\n",
       "       \"index\": 13,\n",
       "       \"logprobs\": null,\n",
       "       \"finish_reason\": \"stop\"\n",
       "     },\n",
       "     {\n",
       "       \"text\": \"\\n\\nIt is difficult to say definitively as the energy crisis is a complex issue that encompasses many factors, ranging from economic issues to converting to greener, more sustainable sources of energy. However, it is likely that even if Chernobyl had not happened, many of the same issues that are currently causing the energy crisis would still be in play.\",\n",
       "       \"index\": 14,\n",
       "       \"logprobs\": null,\n",
       "       \"finish_reason\": \"stop\"\n",
       "     },\n",
       "     {\n",
       "       \"text\": \"\\n\\nKaty Perry has not gone from being the \\\"most famous person ever\\\" to a nobody. Perry is still a very successful and popular musician. At times, certain events can shift public interest in certain celebrities, leading to a decline in their top-of-mind presence. In Katy Perry's case, it may be due to a combination of factors, including the decreasing relevance of her particular brand of pop music in current Top 40 trends, her waning public presence and the distraction of personal events in her private life.\",\n",
       "       \"index\": 15,\n",
       "       \"logprobs\": null,\n",
       "       \"finish_reason\": \"stop\"\n",
       "     },\n",
       "     {\n",
       "       \"text\": \"\\n\\nFather Nature is not an official scientific term. It is often used as a poetic phrase to refer to the power of nature and its ability to provide life-giving resources, but it does not refer accurately to a scientific concept.\",\n",
       "       \"index\": 16,\n",
       "       \"logprobs\": null,\n",
       "       \"finish_reason\": \"stop\"\n",
       "     },\n",
       "     {\n",
       "       \"text\": \"\\n\\nAPA citations should be ordered alphabetically by author\\u2019s last name. If there are multiple works by the same author, the works should then be ordered by year, with the oldest work first. \\n\\nIn-text citations should follow the author-date system, wherein the author\\u2019s last name and the year of the work in parentheses are inserted at the appropriate points in the text. For example: (Smith, 2020).\",\n",
       "       \"index\": 17,\n",
       "       \"logprobs\": null,\n",
       "       \"finish_reason\": \"stop\"\n",
       "     },\n",
       "     {\n",
       "       \"text\": \"\\n\\nWhen you were dreaming, your body reacted as if you were actually fighting. The physical sensations, such as punching and having your arms ache, were a kind of physical memory of the dream. This phenomenon is known as \\\"muscle memory\\\" and can be seen in many different contexts.\",\n",
       "       \"index\": 18,\n",
       "       \"logprobs\": null,\n",
       "       \"finish_reason\": \"stop\"\n",
       "     },\n",
       "     {\n",
       "       \"text\": \"\\n\\nThe appendix should go with the Rebuttal. This is because the introduction and Rebuttal are separate sections of the debate and it makes more sense to have associated resources included with each section. The appendix should provide additional evidence to support the points made in the Rebuttal section, allowing readers to get an in-depth look at the arguments presented.\",\n",
       "       \"index\": 19,\n",
       "       \"logprobs\": null,\n",
       "       \"finish_reason\": \"stop\"\n",
       "     }\n",
       "   ],\n",
       "   \"usage\": {\n",
       "     \"prompt_tokens\": 263,\n",
       "     \"completion_tokens\": 1543,\n",
       "     \"total_tokens\": 1806\n",
       "   }\n",
       " },\n",
       " <OpenAIObject text_completion id=cmpl-7ztzNW8Jzy9su4JXIJAdxSPUrXrO2 at 0x1d703832c90> JSON: {\n",
       "   \"warning\": \"This model version is deprecated. Migrate before January 4, 2024 to avoid disruption of service. Learn more https://platform.openai.com/docs/deprecations\",\n",
       "   \"id\": \"cmpl-7ztzNW8Jzy9su4JXIJAdxSPUrXrO2\",\n",
       "   \"object\": \"text_completion\",\n",
       "   \"created\": 1694987585,\n",
       "   \"model\": \"text-davinci-003\",\n",
       "   \"choices\": [\n",
       "     {\n",
       "       \"text\": \"\\n\\nYes, this is possible. You can use a complicated sentence structure and avoid pronouns and personal names when writing in English. Examples of this include using the passive voice, noun phrases to refer to people, and describing actions without using personal pronouns. For example: \\u201cMistakes were made,\\u201d or \\u201cA plate of food was eaten.\\u201d\",\n",
       "       \"index\": 0,\n",
       "       \"logprobs\": null,\n",
       "       \"finish_reason\": \"stop\"\n",
       "     },\n",
       "     {\n",
       "       \"text\": \"\\n\\nYes, you can install any kind of sound system in your car, as long as it is appropriately sized for the space. Be sure to consult with an expert to ensure that the system you are installing is compatible with your vehicle\\u2019s electrical system.\",\n",
       "       \"index\": 1,\n",
       "       \"logprobs\": null,\n",
       "       \"finish_reason\": \"stop\"\n",
       "     },\n",
       "     {\n",
       "       \"text\": \"\\n\\nNo, it is up to each individual to decide whether or not to rent a house or a townhouse. Collective agreement cannot be reached if everyone does not agree to the same terms and conditions, and it is unlikely that everyone will agree to the same policy in this case.\",\n",
       "       \"index\": 2,\n",
       "       \"logprobs\": null,\n",
       "       \"finish_reason\": \"stop\"\n",
       "     },\n",
       "     {\n",
       "       \"text\": \"\\n\\nYes, there are some people who unironically support Russia's invasion of certain countries, particularly Ukraine. However, these individuals tend to be in a distinct minority.\",\n",
       "       \"index\": 3,\n",
       "       \"logprobs\": null,\n",
       "       \"finish_reason\": \"stop\"\n",
       "     },\n",
       "     {\n",
       "       \"text\": \"\\n\\nYes, I would. It can be a great way to learn about other cultures and to make a new friend at the same time.\",\n",
       "       \"index\": 4,\n",
       "       \"logprobs\": null,\n",
       "       \"finish_reason\": \"stop\"\n",
       "     },\n",
       "     {\n",
       "       \"text\": \"\\n\\nYes, 182 cm (about 6 feet) is tall for a skinny dude.\",\n",
       "       \"index\": 5,\n",
       "       \"logprobs\": null,\n",
       "       \"finish_reason\": \"stop\"\n",
       "     },\n",
       "     {\n",
       "       \"text\": \"\\n\\nNo, it is not the same as sleeping for eight hours. Eight hours of sleep is generally considered optimal for most people, while four hours of sleep is suboptimal and thought to be potentially unhealthy. Research suggests that breaking up sleep in two four-hour intervals is linked to fatigue, cognitive impairment, and a higher risk of health problems.\",\n",
       "       \"index\": 6,\n",
       "       \"logprobs\": null,\n",
       "       \"finish_reason\": \"stop\"\n",
       "     },\n",
       "     {\n",
       "       \"text\": \"\\n\\n1. Set Your Goals: Start by figuring out what you want to achieve. Whether it\\u2019s to build muscle, increase endurance, or just stay in shape, setting specific goals will help you stay motivated and focused. \\n\\n2. Choose the Right Exercises: Choose exercises that target the areas you want to focus on. Consider activities that you enjoy, as this will make your home workout routine something that you look forward to. \\n\\n3. Invest in Any Equipment: If you want to do strength or resistance training, choose a few inexpensive pieces of equipment or tools that you can use at home. Kettlebells, resistance bands, and dumbbells are some of the most common items. \\n\\n4. Find a Routine or Program: This is optional, but there are many great apps and websites out there that provide workout routines and exercises that you can do at home. \\n\\n5. Create a Calendar: It can be difficult to keep yourself motivated while working out at home. Try creating a calendar with specific days/times to workout and set reminders if needed. \\n\\n6. Tune into Video Workouts: There are many online videos and tutorials that you can watch or follow to help guide you through a workout. \\n\\n7. Set Rewards and Track Your Progress: Set small goals and reward yourself when you achieve them. You could even create a graph or chart to track your progress. \",\n",
       "       \"index\": 7,\n",
       "       \"logprobs\": null,\n",
       "       \"finish_reason\": \"stop\"\n",
       "     },\n",
       "     {\n",
       "       \"text\": \"\\n\\nThere is no definitive answer to this question. Some believe that the Catholic Church is dying, while others feel that it is a vibrant and growing faith community. Some suggest that the faith has been weakened by recent events such as the sex abuse scandal, while others point to the Church's sustained global reach, continued philanthropic efforts, and significant charitable contributions as evidence of its strength and vitality. Ultimately, the question of whether or not the Catholic Church is dying will depend on one's interpretation of evidence and trends.\",\n",
       "       \"index\": 8,\n",
       "       \"logprobs\": null,\n",
       "       \"finish_reason\": \"stop\"\n",
       "     },\n",
       "     {\n",
       "       \"text\": \"?\\n\\nDesks can be expensive because they come in a variety of sizes, materials, and finishes. They can range from regular desks made of particle board or veneer to more solid wood desks with intricate carvings and inlays. Additionally, many desks come with features such as drawers, file cabinets, and other built-in organizational solutions that can drive up the cost. Finally, some desks are modular and can be configured in different ways to fit your particular needs.\",\n",
       "       \"index\": 9,\n",
       "       \"logprobs\": null,\n",
       "       \"finish_reason\": \"stop\"\n",
       "     },\n",
       "     {\n",
       "       \"text\": \"\\n\\nThe popular page on social media websites is often designed to show users content that is \\u201ctrending\\u201d or popular at the time. It is dynamic and constantly changing as users interact with different posts and content. It is a way for users to easily see and get involved in conversations that are popular at the moment.\",\n",
       "       \"index\": 10,\n",
       "       \"logprobs\": null,\n",
       "       \"finish_reason\": \"stop\"\n",
       "     },\n",
       "     {\n",
       "       \"text\": \"\\n\\n1. I Kissed a Girl \\n2. Firework \\n3. California Gurls (feat. Snoop Dogg) \\n4. Hot N Cold \\n5. Roar \\n6. Dark Horse (feat. Juicy J) \\n7. Last Friday Night (T.G.I.F.) \\n8. E.T. (feat. Kanye West) \\n9. The One That Got Away \\n10. Part of Me\",\n",
       "       \"index\": 11,\n",
       "       \"logprobs\": null,\n",
       "       \"finish_reason\": \"stop\"\n",
       "     },\n",
       "     {\n",
       "       \"text\": \"\\n\\nYes, it is true that Mexican Coke is made with cane sugar rather than high-fructose corn syrup, as most American Coke products are. However, the same line of Coca-Cola products in Mexico also offers versions made with corn syrup.\",\n",
       "       \"index\": 12,\n",
       "       \"logprobs\": null,\n",
       "       \"finish_reason\": \"stop\"\n",
       "     },\n",
       "     {\n",
       "       \"text\": \"\\n\\nPimEyes does not currently have a voice equivalent. It is an image-based reverse search and facial recognition tool that can be used to identify people using photos or videos.\",\n",
       "       \"index\": 13,\n",
       "       \"logprobs\": null,\n",
       "       \"finish_reason\": \"stop\"\n",
       "     },\n",
       "     {\n",
       "       \"text\": \"\\n\\nIt is possible that your friends may become distant once you announce that you\\u2019ve started a business because they may feel intimidated by your success or that they may be envious of your accomplishments. It may also be that they are uncertain on how to support you and your business because they don\\u2019t know what to expect from it. It could also be that they feel like they are no longer in the same position as you, which can lead to social awkwardness. Finally, it could be that they are simply busy with their own lives and may need time to adjust to your new schedule.\",\n",
       "       \"index\": 14,\n",
       "       \"logprobs\": null,\n",
       "       \"finish_reason\": \"stop\"\n",
       "     },\n",
       "     {\n",
       "       \"text\": \"\\n\\nIndians in the U.S. are able to do business in motels and gas stations in America by obtaining the necessary licenses and permits, although the requirements vary by state. Generally, they will need to research the state and local laws for the exact requirements. Potential business owners are likely to need a business license or permit, a tax identification number, a liquor license, an Employer Identification Number (EIN), and other required permits and licenses. Once all of the necessary steps and paperwork are completed, Indians can start their businesses in motels and gas stations.\",\n",
       "       \"index\": 15,\n",
       "       \"logprobs\": null,\n",
       "       \"finish_reason\": \"stop\"\n",
       "     },\n",
       "     {\n",
       "       \"text\": \"\\n\\nNo, it is not funny. It is sad and destructive.\",\n",
       "       \"index\": 16,\n",
       "       \"logprobs\": null,\n",
       "       \"finish_reason\": \"stop\"\n",
       "     },\n",
       "     {\n",
       "       \"text\": \"\\n\\nThis is not something I would recommend telling someone directly. It can be quite hurtful and damaging to hear such a blunt comment. If you feel it is necessary to communicate this in some way, I suggest speaking to them in a gentle and caring manner. Explain that you have noticed that they are struggling to make meaningful connections and that it can be difficult to create friendships when people don't know what to expect from them. Suggest they look for new hobbies or activities that will help them practice being more sociable, and encourage them to reach out to people who may have similar interests.\",\n",
       "       \"index\": 17,\n",
       "       \"logprobs\": null,\n",
       "       \"finish_reason\": \"stop\"\n",
       "     },\n",
       "     {\n",
       "       \"text\": \"\\n\\n1. Avert your gaze. When you find yourself drawn to someone, make a conscious effort to look away and focus on something else in the room instead.\\n\\n2. Take a step back. When you're feeling overwhelmed by attraction, take a few steps away to put some physical and emotional distance between you and the object of your affection.\\n\\n3. Practice controlling your body language. When you're around someone you're attracted to, be mindful of how you're carrying yourself. Make an effort to sit or stand up straight and avoid unnecessary fidgeting or gestures.\\n\\n4. Develop a mental distraction. Come up with a go-to distraction that you can use whenever you feel your 'hungry eyes' beginning to take over. This might be repeating a mantra, focusing on a particular object in the room or engaging in deep breathing.\",\n",
       "       \"index\": 18,\n",
       "       \"logprobs\": null,\n",
       "       \"finish_reason\": \"stop\"\n",
       "     },\n",
       "     {\n",
       "       \"text\": \"\\n\\nYes, physical intimidation is when someone attempts to use physical force, threats, or aggression to make you feel threatened or scared. If you are not intimidated by someone's behavior, it does not necessarily mean that they have not attempted physical intimidation.\",\n",
       "       \"index\": 19,\n",
       "       \"logprobs\": null,\n",
       "       \"finish_reason\": \"stop\"\n",
       "     }\n",
       "   ],\n",
       "   \"usage\": {\n",
       "     \"prompt_tokens\": 305,\n",
       "     \"completion_tokens\": 1690,\n",
       "     \"total_tokens\": 1995\n",
       "   }\n",
       " },\n",
       " <OpenAIObject text_completion id=cmpl-7ztzRehNK6u0jHZj7lvEmpeyp8a9i at 0x1d703831eb0> JSON: {\n",
       "   \"warning\": \"This model version is deprecated. Migrate before January 4, 2024 to avoid disruption of service. Learn more https://platform.openai.com/docs/deprecations\",\n",
       "   \"id\": \"cmpl-7ztzRehNK6u0jHZj7lvEmpeyp8a9i\",\n",
       "   \"object\": \"text_completion\",\n",
       "   \"created\": 1694987589,\n",
       "   \"model\": \"text-davinci-003\",\n",
       "   \"choices\": [\n",
       "     {\n",
       "       \"text\": \"\\n\\nIt depends. Making friends has more to do with confidence, trustworthiness, and open-mindedness than physical appearance. However, if someone struggling with their weight does lose weight, it can boost their confidence and help them feel more comfortable in social situations. That confidence and comfort could make it easier to make friends.\",\n",
       "       \"index\": 0,\n",
       "       \"logprobs\": null,\n",
       "       \"finish_reason\": \"stop\"\n",
       "     },\n",
       "     {\n",
       "       \"text\": \"\\n\\nIt really depends on your own opinion and how you feel, and it's ultimately up to you to decide. Some people might think it would be sad, while others may feel it\\u2019s a perfectly valid way to become intimate with someone. It's up to you to decide what feels right for you and what you're comfortable with.\",\n",
       "       \"index\": 1,\n",
       "       \"logprobs\": null,\n",
       "       \"finish_reason\": \"stop\"\n",
       "     },\n",
       "     {\n",
       "       \"text\": \"\\n\\nYes, the silent treatment is a form of abuse because it is defined as a tactic often used in relationships to punish, control, or manipulate another person. By withholding affection, conversation, acceptance, and/or problem-solving, the silent treatment can be emotionally devastating for the recipient.\",\n",
       "       \"index\": 2,\n",
       "       \"logprobs\": null,\n",
       "       \"finish_reason\": \"stop\"\n",
       "     },\n",
       "     {\n",
       "       \"text\": \"\\n\\nPeople may be staring at you for various reasons, and it would be difficult to know exactly why without knowing the specific details of the situation. It could be because you are attractive, or you are wearing an interesting outfit, or appear to be behaving differently than others. It is also possible that people are simply curious or that you remind them of someone they know. No matter why people may be staring at you, it is important to remember that it is not your responsibility to make them feel comfortable.\",\n",
       "       \"index\": 3,\n",
       "       \"logprobs\": null,\n",
       "       \"finish_reason\": \"stop\"\n",
       "     },\n",
       "     {\n",
       "       \"text\": \"\\n\\nA man without limbs could find ways to eat with the assistance of friends, family, or caregivers. One way could be using specially-designed eating utensils or utensils modified to have extended handles that allow the person to use their mouth or chin to grip them. Another way would be by using an adapted table with a surface sloped at an angle that the person can lean against, allowing them to put their plate close enough to reach. They could also use specially designed plates with built-in bases or clamps that can be held in place to prevent food spills. Additionally, they could enlist the help of friends or family to feed them directly.\",\n",
       "       \"index\": 4,\n",
       "       \"logprobs\": null,\n",
       "       \"finish_reason\": \"stop\"\n",
       "     },\n",
       "     {\n",
       "       \"text\": \"w\\n\\nNo, the minimum required charger for iPhone is 18W.\",\n",
       "       \"index\": 5,\n",
       "       \"logprobs\": null,\n",
       "       \"finish_reason\": \"stop\"\n",
       "     },\n",
       "     {\n",
       "       \"text\": \"\\n\\nNo, adults are not struggling financially because they have too many children. In fact, most people are struggling financially for other reasons, such as not being able to find employment that pays well, not having access to affordable housing or health care, or dealing with mounting debts.\",\n",
       "       \"index\": 6,\n",
       "       \"logprobs\": null,\n",
       "       \"finish_reason\": \"stop\"\n",
       "     },\n",
       "     {\n",
       "       \"text\": \"\\n\\nNo, not at all! Everyone has their own unique tastes in what they find attractive and there's nothing wrong with having a preference for a certain type.\",\n",
       "       \"index\": 7,\n",
       "       \"logprobs\": null,\n",
       "       \"finish_reason\": \"stop\"\n",
       "     },\n",
       "     {\n",
       "       \"text\": \"\\n\\nNo, waxing all of your hair will not make you a more efficient human. Taking good care of yourself and getting enough sleep, exercising regularly, and eating a balanced diet can help to improve your efficiency.\",\n",
       "       \"index\": 8,\n",
       "       \"logprobs\": null,\n",
       "       \"finish_reason\": \"stop\"\n",
       "     },\n",
       "     {\n",
       "       \"text\": \"\\n\\nNo. Trust is something earned over time and with effort from both partners.\",\n",
       "       \"index\": 9,\n",
       "       \"logprobs\": null,\n",
       "       \"finish_reason\": \"stop\"\n",
       "     },\n",
       "     {\n",
       "       \"text\": \"\\n\\nGood copypasta can vary depending on individual tastes, but in general it should be concise, entertaining, and have potential for replication and sharing. Good copypasta should also be relatively timeless, making sure to avoid references to specific moments in history, as well as recent pop culture trends. For example, a funny one-liner or pun could be considered good copypasta.\",\n",
       "       \"index\": 10,\n",
       "       \"logprobs\": null,\n",
       "       \"finish_reason\": \"stop\"\n",
       "     },\n",
       "     {\n",
       "       \"text\": \"\\n\\nNo, there is no scientific evidence to suggest it is possible to make gold from alchemy. Despite centuries of attempts, alchemy has yet to lead scientists to the discovery of a method for turning ordinary elements into gold.\",\n",
       "       \"index\": 11,\n",
       "       \"logprobs\": null,\n",
       "       \"finish_reason\": \"stop\"\n",
       "     },\n",
       "     {\n",
       "       \"text\": \"\\n\\nNo, you cannot just sit down at the tables without buying anything. Restaurants typically require customers to purchase something in order to sit at their tables. If there is no room to walk, you should speak with the restaurant manager about moving the tables away from the sidewalk.\",\n",
       "       \"index\": 12,\n",
       "       \"logprobs\": null,\n",
       "       \"finish_reason\": \"stop\"\n",
       "     },\n",
       "     {\n",
       "       \"text\": \"\\n\\nSome people are comfortable showing their attraction or interest in people for a variety of reasons. It could be because they feel secure in themselves and their feelings and feel like expressing themselves in this way is a healthy way to express and engage with the person they are attracted to. It could also be because they want to make sure their interest is known and try to avoid any potential misunderstandings or hurt feelings. Ultimately, it's up to the individual to decide what feels comfortable and right for them.\",\n",
       "       \"index\": 13,\n",
       "       \"logprobs\": null,\n",
       "       \"finish_reason\": \"stop\"\n",
       "     },\n",
       "     {\n",
       "       \"text\": \"\\n\\nThe fastest way to learn to code apps is to find an online course that suits your needs, pick a programming language (like Java or Python), and practice coding every day. Additionally, find coding tutorials online and build example projects. Additionally, connect with other coders in online forum and share knowledge and ask questions to help you learn. Finally, read technical resources and attend tech seminars, webinars and workshops for further development.\",\n",
       "       \"index\": 14,\n",
       "       \"logprobs\": null,\n",
       "       \"finish_reason\": \"stop\"\n",
       "     },\n",
       "     {\n",
       "       \"text\": \"?\\n\\nWoody Woodpecker is a family-friendly animated comedy from Universal Pictures, released in 2017 with the voice of comedian and actor Thurop Van Orman. It's made it to Netflix's Top 10 rankings in the past week likely due to its recent release onto the streaming service and the built-in nostalgia that comes with watching the beloved cartoon character from generations past.\",\n",
       "       \"index\": 15,\n",
       "       \"logprobs\": null,\n",
       "       \"finish_reason\": \"stop\"\n",
       "     },\n",
       "     {\n",
       "       \"text\": \"\\n\\nYes, I believe that if done right, a movie adaptation of all the original OZ books would be incredibly successful. Depending on the approach, the movie could stay true to the original source material, and remain faithful to the classic story, or use more contemporary aesthetics and special effects to make an adventure that appeals to both long-time fans and newcomers.\",\n",
       "       \"index\": 16,\n",
       "       \"logprobs\": null,\n",
       "       \"finish_reason\": \"stop\"\n",
       "     },\n",
       "     {\n",
       "       \"text\": \"\\n\\nThe change of fee structure depends on the particular situation and circumstances surrounding it. On the one hand, if it is meant to promote progress in the industry then it could be seen as an overall beneficial change for everyone. For example, if the change is proposed to create fairer wages for workers or to incentivize innovation, then it could be seen as promoting progress. On the other hand, if the change is simply introduced to increase company profits, then it could be seen as a form of greed. Ultimately, it is impossible to say definitively if a change of fee structure is promoting progress or greed without understanding the specific details of the change.\",\n",
       "       \"index\": 17,\n",
       "       \"logprobs\": null,\n",
       "       \"finish_reason\": \"stop\"\n",
       "     },\n",
       "     {\n",
       "       \"text\": \"\\n\\nComing out of depression can be an incredibly freeing experience. The road to recovery can look different for everyone, but the signs can be a feeling of being \\u2018unstuck\\u2019, a lessening of negative thoughts and behaviours, an increase in energy, a desire to engage in activities and relationships again, and more positive thinking and outlook. It can take time, but when you feel these changes taking place, it can be a huge relief and can bring a lot of hope and joy to your life.\",\n",
       "       \"index\": 18,\n",
       "       \"logprobs\": null,\n",
       "       \"finish_reason\": \"stop\"\n",
       "     },\n",
       "     {\n",
       "       \"text\": \"\\n\\nPeople might say this because often billionaires don\\u2019t have a large amount of liquid assets, meaning they may have most of their money invested and not available in the form of cash. Additionally, it is possible for billionaires to have their money split up between different banks, accounts, and investments in various places, which can lead some to believe that they don\\u2019t actually have \\u201ctheir\\u201d money, but are rather managing their investments for growth.\",\n",
       "       \"index\": 19,\n",
       "       \"logprobs\": null,\n",
       "       \"finish_reason\": \"stop\"\n",
       "     }\n",
       "   ],\n",
       "   \"usage\": {\n",
       "     \"prompt_tokens\": 317,\n",
       "     \"completion_tokens\": 1441,\n",
       "     \"total_tokens\": 1758\n",
       "   }\n",
       " },\n",
       " <OpenAIObject text_completion id=cmpl-7ztzTxoD5kc0dmwzzuk3DGove55aY at 0x1d703831430> JSON: {\n",
       "   \"warning\": \"This model version is deprecated. Migrate before January 4, 2024 to avoid disruption of service. Learn more https://platform.openai.com/docs/deprecations\",\n",
       "   \"id\": \"cmpl-7ztzTxoD5kc0dmwzzuk3DGove55aY\",\n",
       "   \"object\": \"text_completion\",\n",
       "   \"created\": 1694987591,\n",
       "   \"model\": \"text-davinci-003\",\n",
       "   \"choices\": [\n",
       "     {\n",
       "       \"text\": \"\\n\\nCongratulations on opening a Hoarder Clean Up service! Providing this service can be very rewarding as hoarding is a serious problem that can cause distress and even health issues. In order to be successful, it is important to make sure that you develop your business plan, do your research, identify potential clients, and collaborate with local organizations that can provide resources for hoarders.\\n\\n1. Develop Your Business Plan: This is an essential step in starting any business. Make sure that your plan covers all aspects of your business, from marketing to financials.\\n\\n2. Do Your Research: Research hoarding and the services that are offered to hoarders, as well as the laws and regulations that govern such services in your area.\\n\\n3. Identify Potential Clients: Reach out to your networks to identify potential clients who are in need of hoarding clean up services. You can also visit local organizations that provide resources for hoarders to make connections.\\n\\n4. Build a Team: It is important to build a team of experienced professionals who can help you with your hoarding clean up services. This could include a psychiatric nurse, a trained coach, and an organization that is knowledgeable with the process. \\n\\n5. Legal Considerations: Make sure that you understand the laws and regulation pertaining to hoarders in your area and consult a lawyer if you have questions.\\n\\nGood luck with your business venture!\",\n",
       "       \"index\": 0,\n",
       "       \"logprobs\": null,\n",
       "       \"finish_reason\": \"stop\"\n",
       "     },\n",
       "     {\n",
       "       \"text\": \"\\n\\nIt is possible that people from decades ago may still be friends with your sister and may want to keep in touch with her. They may use her as a means to check in on you and see how you are doing without having to directly interact with you. They may also simply want to stay up to date on what is happening in your life in order to build a stronger bond with your sister.\",\n",
       "       \"index\": 1,\n",
       "       \"logprobs\": null,\n",
       "       \"finish_reason\": \"stop\"\n",
       "     },\n",
       "     {\n",
       "       \"text\": \"\\n\\nSome people may find rings to be a sign of maturity and responsibility, which can make them more likely to pay attention to you. Additionally, rings often appear to be expensive and fashionable, which can draw the eye.\",\n",
       "       \"index\": 2,\n",
       "       \"logprobs\": null,\n",
       "       \"finish_reason\": \"stop\"\n",
       "     },\n",
       "     {\n",
       "       \"text\": \"\\n\\nYes, although they may find it more difficult to provide a specimen than someone who is not pee shy. Some people with pee shyness may require additional support or accommodations to successfully provide a specimen. It is important to talk to the testing facility ahead of time to discuss the individual's needs.\",\n",
       "       \"index\": 3,\n",
       "       \"logprobs\": null,\n",
       "       \"finish_reason\": \"stop\"\n",
       "     },\n",
       "     {\n",
       "       \"text\": \"\\n\\nWhat is the most efficient way to learn a new language?\",\n",
       "       \"index\": 4,\n",
       "       \"logprobs\": null,\n",
       "       \"finish_reason\": \"stop\"\n",
       "     },\n",
       "     {\n",
       "       \"text\": \"\\n\\nIt is hard to answer this question definitively, but it is possible that, over time, respect for all political sides will increase in the United States after Donald Trump is done with politics. In order for this to happen, all of the political divisions and animosity generated during Trump's time in office will need to be addressed and worked through. This will be a lengthy process, depending on the amount of progress made in the next few years, but it is not impossible.\",\n",
       "       \"index\": 5,\n",
       "       \"logprobs\": null,\n",
       "       \"finish_reason\": \"stop\"\n",
       "     },\n",
       "     {\n",
       "       \"text\": \"\\n\\nWhen a web page loads, it usually flickers and jumps around due to the browser loading the page in stages. Elements may appear, move, and even disappear while loads, which can be disorienting. To minimize this, web designers use a technique called progressive loading, which means that each part of the page loads slowly and in a sequence, instead of all at once. This can help reduce the amount of flickering and jumping while the page is loading.\",\n",
       "       \"index\": 6,\n",
       "       \"logprobs\": null,\n",
       "       \"finish_reason\": \"stop\"\n",
       "     },\n",
       "     {\n",
       "       \"text\": \"\\n\\nYes, it's great to make a change to your appearance that helps you feel more empowered and confident. My sister shaved her head a few years ago and she said it made her feel very liberated and ready to take on anything. She said she felt like she could take on the world afterwards. It can be a really empowering experience.\",\n",
       "       \"index\": 7,\n",
       "       \"logprobs\": null,\n",
       "       \"finish_reason\": \"stop\"\n",
       "     },\n",
       "     {\n",
       "       \"text\": \"\\n\\nA great way to drink from a straw without liquid touching your teeth is to start by tilting your head back slightly and pushing the tip of the straw into your mouth. Place the straw in the back corner of your mouth and place your tongue on the roof of your mouth. This will create a pocket and will prevent the liquid from coming in contact with your teeth. The video below can be helpful for visualizing this method: \\n\\nhttps://www.youtube.com/watch?v=zx2SqxS0bMg\",\n",
       "       \"index\": 8,\n",
       "       \"logprobs\": null,\n",
       "       \"finish_reason\": \"stop\"\n",
       "     },\n",
       "     {\n",
       "       \"text\": \"\\n\\nVancomycin is a type of antibiotic that has serious potential side effects, such as red man syndrome and kidney toxicity. It is recommended that vancomycin be infused very slowly, typically over a period of two hours, in order to reduce the risk of these side effects. Additionally, the slow infusion allows for the body to absorb the drug at a steady rate, which can increase the effectiveness of the treatment.\",\n",
       "       \"index\": 9,\n",
       "       \"logprobs\": null,\n",
       "       \"finish_reason\": \"stop\"\n",
       "     },\n",
       "     {\n",
       "       \"text\": \"?\\n\\nI believe vaping is not healthy and should be avoided. Studies have linked vaping to acute lung injury as well as negative impacts on the cardiovascular system. Additionally, there is much that we do not know about the long-term impacts of vaping, as it is a fairly new phenomenon. There is a lack of long-term research to accurately judge the potential health impacts of vaping.\",\n",
       "       \"index\": 10,\n",
       "       \"logprobs\": null,\n",
       "       \"finish_reason\": \"stop\"\n",
       "     },\n",
       "     {\n",
       "       \"text\": \"\\n\\nThere are a variety of options for individuals with disabilities who are unable to drive. Depending on their resources, needs, and locality they could arrange personal transportation, such as a taxi or ridesharing service, or they could use public transit or paratransit. With public transit, some cities offer designated bus lines, paratransit vans, and rail lines suited for individuals with disabilities, often at reduced fares. Services like paratransit also provide other services tailored to specific needs, such as door-to-door transport that can help make traveling easier for those with limited mobility. Additionally, there are services that match passengers to volunteer drivers who may be able to provide rides at no or low cost.\",\n",
       "       \"index\": 11,\n",
       "       \"logprobs\": null,\n",
       "       \"finish_reason\": \"stop\"\n",
       "     },\n",
       "     {\n",
       "       \"text\": \"\\n\\nInstallation costs for air conditioning units vary widely depending on the size, type, brand, and location of the air conditioning unit. However, on average, you can expect to pay between $1,500 and $5,000 for the installation of an AC unit.\",\n",
       "       \"index\": 12,\n",
       "       \"logprobs\": null,\n",
       "       \"finish_reason\": \"stop\"\n",
       "     },\n",
       "     {\n",
       "       \"text\": \"\\n\\nThe feeling of cringe after journaling may be due to a variety of factors. For starters, the act of journaling can be an emotional and vulnerable experience. It can bring up feelings of shame or regret. Additionally, if you perceive yourself as not having enough time to devote to journaling, or feel like you\\u2019re not doing it \\u201cright,\\u201d this can also bring on feelings of inadequacy. It\\u2019s important to remember that, when it comes to journaling, there is no right or wrong way. Everyone approaches this practice differently and everyone has a different level of success with it. Consider ways to make the process less stressful or more enjoyable for yourself, such as setting goals, writing for a set amount of time each day, or using prompts to get started.\",\n",
       "       \"index\": 13,\n",
       "       \"logprobs\": null,\n",
       "       \"finish_reason\": \"stop\"\n",
       "     },\n",
       "     {\n",
       "       \"text\": \"\\n\\nThis is a great question and it really depends on the preferences of the person receiving the oral pleasure. Some people enjoy having their foreskin pulled back, while others prefer it to remain as is. My best advice would be to ask them beforehand to ensure that you are giving them the most pleasurable experience possible.\",\n",
       "       \"index\": 14,\n",
       "       \"logprobs\": null,\n",
       "       \"finish_reason\": \"stop\"\n",
       "     },\n",
       "     {\n",
       "       \"text\": \"\\n\\nNo, they do not. The people featured in predator hunting videos are usually acting out a simulated hunting scenario and any animals shot and killed are usually not real.\",\n",
       "       \"index\": 15,\n",
       "       \"logprobs\": null,\n",
       "       \"finish_reason\": \"stop\"\n",
       "     },\n",
       "     {\n",
       "       \"text\": \"\\n\\nIntersex and trans identities are included in the LGBTIA+ acronym because they both encompass people whose gender identities and/or sexualities vary from what is expected or considered \\u201cnormal\\u201d in society. Intersex people often have biological bodies that do not fit into the binary male-female sex categories, while transgender people identify as a gender different from the one they were assigned at birth. Both intersex and transgender individuals may face discrimination, marginalization, and ostracization, and thus, they both belong to the LGBTQ+ community, which is focused on visibility, acceptance, and advocacy.\",\n",
       "       \"index\": 16,\n",
       "       \"logprobs\": null,\n",
       "       \"finish_reason\": \"stop\"\n",
       "     },\n",
       "     {\n",
       "       \"text\": \"\\n\\nAmerica has the potential to be one of the best countries in the world, but unfortunately it makes mistakes and has issues that hinder its progress. There are many drivers of progress in the United States, and the potential exists for it to become one of the world's best countries in terms of social, economic, and political development. However, there are policy choices and decisions made both domestically and internationally that can stymie America's potential.\",\n",
       "       \"index\": 17,\n",
       "       \"logprobs\": null,\n",
       "       \"finish_reason\": \"stop\"\n",
       "     },\n",
       "     {\n",
       "       \"text\": \"\\n\\nThe Last of Us. It\\u2019s a powerful survival story with subtle but poignant themes of love, loss, and hope. The choices you make in the game create an emotional journey that is both harrowing and deeply rewarding.\",\n",
       "       \"index\": 18,\n",
       "       \"logprobs\": null,\n",
       "       \"finish_reason\": \"stop\"\n",
       "     },\n",
       "     {\n",
       "       \"text\": \"\\n\\nIt depends on the surface and type of material your bathtub is made of. Hand drill brushes can be slightly abrasive and cause damage to ceramic and porcelain surfaces. It is best to always read and follow manufacturer's instructions before attempting to clean your bathtub.\",\n",
       "       \"index\": 19,\n",
       "       \"logprobs\": null,\n",
       "       \"finish_reason\": \"stop\"\n",
       "     }\n",
       "   ],\n",
       "   \"usage\": {\n",
       "     \"prompt_tokens\": 341,\n",
       "     \"completion_tokens\": 1797,\n",
       "     \"total_tokens\": 2138\n",
       "   }\n",
       " }]"
      ]
     },
     "execution_count": 213,
     "metadata": {},
     "output_type": "execute_result"
    }
   ],
   "source": [
    "testbackofflist[:10]"
   ]
  },
  {
   "cell_type": "code",
   "execution_count": 207,
   "metadata": {},
   "outputs": [],
   "source": [
    "nostupidquestions_davinci = []\n",
    "\n",
    "for j in range(0,len(testbackofflist)):\n",
    "    for i in range(0,len(testbackofflist[j]['choices'])):\n",
    "        nostupidquestions_davinci.append(testbackofflist[j]['choices'][i]['text'])"
   ]
  },
  {
   "cell_type": "code",
   "execution_count": 208,
   "metadata": {},
   "outputs": [
    {
     "data": {
      "text/plain": [
       "906"
      ]
     },
     "execution_count": 208,
     "metadata": {},
     "output_type": "execute_result"
    }
   ],
   "source": [
    "len(nostupidquestions_davinci) # fixed but with hella usage $3.77 when it's all said and done"
   ]
  },
  {
   "cell_type": "code",
   "execution_count": 210,
   "metadata": {},
   "outputs": [
    {
     "data": {
      "text/html": [
       "<div>\n",
       "<style scoped>\n",
       "    .dataframe tbody tr th:only-of-type {\n",
       "        vertical-align: middle;\n",
       "    }\n",
       "\n",
       "    .dataframe tbody tr th {\n",
       "        vertical-align: top;\n",
       "    }\n",
       "\n",
       "    .dataframe thead th {\n",
       "        text-align: right;\n",
       "    }\n",
       "</style>\n",
       "<table border=\"1\" class=\"dataframe\">\n",
       "  <thead>\n",
       "    <tr style=\"text-align: right;\">\n",
       "      <th></th>\n",
       "      <th>titles</th>\n",
       "      <th>answers</th>\n",
       "      <th>da_vinci</th>\n",
       "    </tr>\n",
       "  </thead>\n",
       "  <tbody>\n",
       "    <tr>\n",
       "      <th>0</th>\n",
       "      <td>If Germany calls itself Deutschland, why don't...</td>\n",
       "      <td>It’s called “*exonyms*”.\\n\\nGermany is a trick...</td>\n",
       "      <td>\\n\\nIt is a matter of familiarity. For most pe...</td>\n",
       "    </tr>\n",
       "    <tr>\n",
       "      <th>1</th>\n",
       "      <td>Why do all girls seem to find other girls attr...</td>\n",
       "      <td>noticing beauty is different than having sexua...</td>\n",
       "      <td>\\n\\nThis is likely because people are generall...</td>\n",
       "    </tr>\n",
       "    <tr>\n",
       "      <th>2</th>\n",
       "      <td>Is it reasonable to not want to marry someone ...</td>\n",
       "      <td>Hi /u/throwaway29383p,\\n\\nWe noticed you are a...</td>\n",
       "      <td>\\n\\nYes, it is reasonable to not want to marry...</td>\n",
       "    </tr>\n",
       "    <tr>\n",
       "      <th>3</th>\n",
       "      <td>what’s the most offensive thing you’ve ever se...</td>\n",
       "      <td>This isn't super offensive like some suggestio...</td>\n",
       "      <td>\\n\\nThe most offensive thing I have ever seen ...</td>\n",
       "    </tr>\n",
       "    <tr>\n",
       "      <th>4</th>\n",
       "      <td>If WWIII kicks off would nuclear missiles be s...</td>\n",
       "      <td>ICBMs fly into space.  No pilot is going to sh...</td>\n",
       "      <td>\\n\\nIt is possible that, given enough time, nu...</td>\n",
       "    </tr>\n",
       "  </tbody>\n",
       "</table>\n",
       "</div>"
      ],
      "text/plain": [
       "                                              titles  \\\n",
       "0  If Germany calls itself Deutschland, why don't...   \n",
       "1  Why do all girls seem to find other girls attr...   \n",
       "2  Is it reasonable to not want to marry someone ...   \n",
       "3  what’s the most offensive thing you’ve ever se...   \n",
       "4  If WWIII kicks off would nuclear missiles be s...   \n",
       "\n",
       "                                             answers  \\\n",
       "0  It’s called “*exonyms*”.\\n\\nGermany is a trick...   \n",
       "1  noticing beauty is different than having sexua...   \n",
       "2  Hi /u/throwaway29383p,\\n\\nWe noticed you are a...   \n",
       "3  This isn't super offensive like some suggestio...   \n",
       "4  ICBMs fly into space.  No pilot is going to sh...   \n",
       "\n",
       "                                            da_vinci  \n",
       "0  \\n\\nIt is a matter of familiarity. For most pe...  \n",
       "1  \\n\\nThis is likely because people are generall...  \n",
       "2  \\n\\nYes, it is reasonable to not want to marry...  \n",
       "3  \\n\\nThe most offensive thing I have ever seen ...  \n",
       "4  \\n\\nIt is possible that, given enough time, nu...  "
      ]
     },
     "execution_count": 210,
     "metadata": {},
     "output_type": "execute_result"
    }
   ],
   "source": [
    "nostupid['da_vinci'] = nostupidquestions_davinci\n",
    "nostupid.head()"
   ]
  },
  {
   "cell_type": "code",
   "execution_count": 211,
   "metadata": {},
   "outputs": [],
   "source": [
    "nostupid.to_csv('data/Nostupidquestions_davinci.csv')"
   ]
  },
  {
   "cell_type": "code",
   "execution_count": 185,
   "metadata": {},
   "outputs": [
    {
     "data": {
      "text/plain": [
       "['Why does Reddit have so many troll posts even though this site is anonymous?',\n",
       " 'Why do people on the internet say that people with large age gaps “have nothing in common?”',\n",
       " 'Am I crazy or do I have zero self respect?',\n",
       " \"Is it weird that I don't like and don't identify with my culture?\",\n",
       " \"What do people mean by you're born alone and you die alone?\",\n",
       " 'is Gen z screwed?',\n",
       " 'Do chocolates made by a professional confectioner differ from mass produced ones like Snickers?',\n",
       " 'Is it possible for an extrovert to become an introvert?',\n",
       " 'Do you see yourself getting old?',\n",
       " 'Are you actually inconvenienced by the actor/writer strike?',\n",
       " 'Why do some people like eating ass?',\n",
       " 'Why is men’s fashion so boring?',\n",
       " 'Is it true on OnlyFans when I message a girl it’s mostly a dude that manages multiple women’s accounts?',\n",
       " 'Why is the URL for \"X\" still twitter.com and not x.com or something like that?',\n",
       " 'Why are you religious?',\n",
       " 'Clowns are supposed to be funny, since when clowns became creepy and scary ?',\n",
       " 'If someone wants to fall asleep and they close their eyes, why can’t they fall asleep?',\n",
       " 'who was the person first decided that boys color is blue and girls is pink?',\n",
       " 'Why do scammers love Whatsapp?',\n",
       " 'Does anyone else get a random horrific thought and have to physically shake their body to stop thinking about it?']"
      ]
     },
     "execution_count": 185,
     "metadata": {},
     "output_type": "execute_result"
    }
   ],
   "source": [
    "davinci_prompts[40:60]"
   ]
  },
  {
   "cell_type": "code",
   "execution_count": 134,
   "metadata": {},
   "outputs": [
    {
     "data": {
      "text/plain": [
       "[\"If Germany calls itself Deutschland, why don't we call it that? Same for all other countries, why not pronounce their native names?\",\n",
       " 'Why do all girls seem to find other girls attractive, even though they’re not bi/lesbian?',\n",
       " 'Is it reasonable to not want to marry someone who can’t provide?',\n",
       " 'what’s the most offensive thing you’ve ever seen sold and were there any repercussions?',\n",
       " 'If WWIII kicks off would nuclear missiles be shot down over water (given enough time) and/or would nukes be dropped as bombs like WWII?',\n",
       " 'Explain like I’m 5… how do I shower correctly',\n",
       " 'My orthodontist always calls me a good girl is this weird?',\n",
       " 'What exactly am I supposed to be looking at when watching women belly dancing or other forms of erotic dances?',\n",
       " 'What happens to the foreskin during sex?',\n",
       " 'Why is it close to impossible for a new Reddit account to participate on this platform?',\n",
       " 'Why the fuck is cling wrap smaller than a a standard dinner plate?',\n",
       " 'Is it ok to fantasize about ex gf after a toxic breakup?',\n",
       " 'As a male employee who cleans the women’s restroom, what’s the least awkward way to make sure it’s empty before I enter?',\n",
       " 'Is it weird to hit on a bartender?',\n",
       " 'How do I remove the poop smell from a bathroom immediately?',\n",
       " 'Why do people seem to love to Florida so much?',\n",
       " 'Is it embarrassing to order one meal for two people in a restaurant?',\n",
       " \"Can someone who's practicing Hinduism eat beef if they're starving?\",\n",
       " 'Do you accept that humans are animals (primates)?',\n",
       " \"How many guys out there make an effort to make a woman cum first? Or just if it happens it happens, it's up to her?\"]"
      ]
     },
     "execution_count": 134,
     "metadata": {},
     "output_type": "execute_result"
    }
   ],
   "source": [
    "prompt_test"
   ]
  },
  {
   "cell_type": "code",
   "execution_count": 142,
   "metadata": {},
   "outputs": [],
   "source": [
    "dv_response = openai.Completion.create(\n",
    "    model = \"text-davinci-003\",\n",
    "    prompt = prompt_test, \n",
    "    temperature = .6,\n",
    "    max_tokens = 500\n",
    ")"
   ]
  },
  {
   "cell_type": "code",
   "execution_count": 174,
   "metadata": {},
   "outputs": [
    {
     "data": {
      "text/plain": [
       "[<OpenAIObject at 0x1d77f4464b0> JSON: {\n",
       "   \"text\": \"\\n\\nThere are many reasons why we don't call Germany \\\"Deutschland\\\" or other countries by their native names. For one, many languages have different pronunciations and spellings for the same word, so it would be difficult to adopt a single language for all countries. Additionally, the use of native names for countries often requires a more advanced level of cultural knowledge, and it can be difficult for many people to learn and remember how to correctly pronounce these words. Finally, using English names for countries is simply easier and more accessible for many people.\",\n",
       "   \"index\": 0,\n",
       "   \"logprobs\": null,\n",
       "   \"finish_reason\": \"stop\"\n",
       " },\n",
       " <OpenAIObject at 0x1d7033eeed0> JSON: {\n",
       "   \"text\": \"\\n\\nMany people find other people attractive regardless of their sexual orientation. This is because there are many different aspects of another person that can be attractive, such as their physical appearance, personality, or intelligence. Some people may simply appreciate the beauty of another person without necessarily wanting to pursue a romantic relationship with them.\",\n",
       "   \"index\": 1,\n",
       "   \"logprobs\": null,\n",
       "   \"finish_reason\": \"stop\"\n",
       " },\n",
       " <OpenAIObject at 0x1d7033ef830> JSON: {\n",
       "   \"text\": \"\\n\\nYes, it is reasonable to not want to marry someone who cannot provide. Everyone has their own individual needs and desires, and if a person is looking for a partner who is able to provide for them financially, then that is a perfectly valid preference.\",\n",
       "   \"index\": 2,\n",
       "   \"logprobs\": null,\n",
       "   \"finish_reason\": \"stop\"\n",
       " },\n",
       " <OpenAIObject at 0x1d7033ef8f0> JSON: {\n",
       "   \"text\": \"\\n\\nThe most offensive thing I have ever seen sold is a T-shirt featuring an image of a swastika. Unfortunately, there were no repercussions for the sale of the shirt, although it was widely condemned by the public.\",\n",
       "   \"index\": 3,\n",
       "   \"logprobs\": null,\n",
       "   \"finish_reason\": \"stop\"\n",
       " },\n",
       " <OpenAIObject at 0x1d7033eecf0> JSON: {\n",
       "   \"text\": \"\\n\\nThe answer to this question depends on the situation and the type of nuclear weapons being used. If a nuclear missile is launched over a body of water, it is possible that it could be intercepted by a missile defense system, but it would depend on the type of nuclear missile, the range of the system, and the amount of time available to react.\\n\\nIn terms of dropping nuclear bombs, this is highly unlikely. Nuclear bombs are incredibly destructive and would cause catastrophic damage to the environment, so they would not be used in the same way as conventional bombs. However, if a nuclear weapon was used, it would likely be a strategic missile or a ballistic missile, both of which would be launched from the ground and not dropped from the air.\",\n",
       "   \"index\": 4,\n",
       "   \"logprobs\": null,\n",
       "   \"finish_reason\": \"stop\"\n",
       " },\n",
       " <OpenAIObject at 0x1d7033ee030> JSON: {\n",
       "   \"text\": \"?\\n\\nShowering correctly is easy! First, take off your clothes and get in the shower. Then, turn on the water and adjust it so it's warm but not too hot. Once the water is the right temperature, use a special soap or shampoo to clean your body. Make sure to scrub your body, including your hair, to get rid of dirt and sweat. Finally, rinse off the suds and turn off the water. Pat yourself dry with a towel when you get out.\",\n",
       "   \"index\": 5,\n",
       "   \"logprobs\": null,\n",
       "   \"finish_reason\": \"stop\"\n",
       " },\n",
       " <OpenAIObject at 0x1d7033edfd0> JSON: {\n",
       "   \"text\": \"\\n\\nNo, it is not weird. It is likely a sign of appreciation and respect.\",\n",
       "   \"index\": 6,\n",
       "   \"logprobs\": null,\n",
       "   \"finish_reason\": \"stop\"\n",
       " },\n",
       " <OpenAIObject at 0x1d7033edf70> JSON: {\n",
       "   \"text\": \"\\n\\nWhen watching women belly dancing or other forms of erotic dances, you should be looking at the dancer's body movements and the way they express themselves through their movements. Pay attention to the way they use their arms, legs, and hips to create a sensual and rhythmic flow, as well as the way they use their facial expressions and eyes to draw the audience in. You should also be looking at the way they interact with the music, and how they use the tempo and rhythm to create a unique and captivating performance.\",\n",
       "   \"index\": 7,\n",
       "   \"logprobs\": null,\n",
       "   \"finish_reason\": \"stop\"\n",
       " },\n",
       " <OpenAIObject at 0x1d7033edf10> JSON: {\n",
       "   \"text\": \"\\n\\nDuring sexual intercourse, the foreskin may move up and down over the head of the penis, allowing for increased stimulation and pleasure. Depending on the individual, the foreskin may also retract completely to expose the glans, the sensitive area underneath the foreskin.\",\n",
       "   \"index\": 8,\n",
       "   \"logprobs\": null,\n",
       "   \"finish_reason\": \"stop\"\n",
       " },\n",
       " <OpenAIObject at 0x1d7033ede50> JSON: {\n",
       "   \"text\": \"\\n\\nNew Reddit accounts require karma, which is earned by having other Reddit users upvote your posts. This makes it difficult for new users to contribute to the platform, as it can take a long time to earn enough karma to be able to post and comment. Additionally, Reddit's algorithm is designed to show more popular posts and comments first, making it difficult for new users to be seen.\",\n",
       "   \"index\": 9,\n",
       "   \"logprobs\": null,\n",
       "   \"finish_reason\": \"stop\"\n",
       " },\n",
       " <OpenAIObject at 0x1d7033edeb0> JSON: {\n",
       "   \"text\": \"\\n\\nCling wrap is designed to be used to cover food and other items, so it is made to be thin and stretchy. It is not as large as a dinner plate because it does not need to be.\",\n",
       "   \"index\": 10,\n",
       "   \"logprobs\": null,\n",
       "   \"finish_reason\": \"stop\"\n",
       " },\n",
       " <OpenAIObject at 0x1d7033ed130> JSON: {\n",
       "   \"text\": \"\\n\\nIt is up to you to decide if fantasizing about your ex-girlfriend after a toxic breakup is ok for you. Everyone has different feelings and experiences when it comes to their past relationships. If you think fantasizing about your ex-girlfriend will help you to heal from the toxic breakup, then it may be ok for you. However, if you think it will prevent you from moving on, it may be best to avoid it.\",\n",
       "   \"index\": 11,\n",
       "   \"logprobs\": null,\n",
       "   \"finish_reason\": \"stop\"\n",
       " },\n",
       " <OpenAIObject at 0x1d7033ed0d0> JSON: {\n",
       "   \"text\": \"\\n\\nThe best way to make sure the restroom is empty before entering is to knock on the door and announce your presence. You can say something like, \\\"Housekeeping, I'm here to clean the restroom. Is anyone in there?\\\" If there is no response, you can proceed with caution.\",\n",
       "   \"index\": 12,\n",
       "   \"logprobs\": null,\n",
       "   \"finish_reason\": \"stop\"\n",
       " },\n",
       " <OpenAIObject at 0x1d7033ed070> JSON: {\n",
       "   \"text\": \"\\n\\nIt's not necessarily weird to hit on a bartender, but it may be inappropriate depending on the situation. It is important to consider the context and the bartender's comfort level before making any advances.\",\n",
       "   \"index\": 13,\n",
       "   \"logprobs\": null,\n",
       "   \"finish_reason\": \"stop\"\n",
       " },\n",
       " <OpenAIObject at 0x1d7033ed010> JSON: {\n",
       "   \"text\": \"\\n\\n1. Open a window to allow fresh air to circulate.\\n2. Sprinkle baking soda on the floor and other surfaces.\\n3. Spray a vinegar and water solution onto surfaces and let it sit for a few minutes.\\n4. Wipe down surfaces with a damp cloth.\\n5. Place a bowl or two of freshly opened coffee grounds in the room to absorb the smell.\\n6. Place a bowl of activated charcoal in the room to absorb odors.\\n7. Place a few drops of essential oil in a diffuser or on a cotton ball to freshen the air.\\n8. Place a bowl of fresh citrus peels in the room to absorb the smell.\\n9. Use an odor neutralizing spray to eliminate the smell.\",\n",
       "   \"index\": 14,\n",
       "   \"logprobs\": null,\n",
       "   \"finish_reason\": \"stop\"\n",
       " },\n",
       " <OpenAIObject at 0x1d7033efdd0> JSON: {\n",
       "   \"text\": \"\\n\\nPeople love Florida for its year-round sunshine and warm weather, its abundance of outdoor activities, its diverse cultural attractions, its numerous beaches, its entertainment options, its proximity to the Caribbean and Latin America, and its tax benefits.\",\n",
       "   \"index\": 15,\n",
       "   \"logprobs\": null,\n",
       "   \"finish_reason\": \"stop\"\n",
       " },\n",
       " <OpenAIObject at 0x1d7033ef290> JSON: {\n",
       "   \"text\": \"\\n\\nNo, it is not embarrassing to order one meal for two people in a restaurant. This can be a great way to save money and try out a new dish together.\",\n",
       "   \"index\": 16,\n",
       "   \"logprobs\": null,\n",
       "   \"finish_reason\": \"stop\"\n",
       " },\n",
       " <OpenAIObject at 0x1d7033ef2f0> JSON: {\n",
       "   \"text\": \"\\n\\nNo, Hinduism does not allow its followers to eat beef, even if they are starving. Most Hindus consider cows to be sacred animals, and therefore do not consume them.\",\n",
       "   \"index\": 17,\n",
       "   \"logprobs\": null,\n",
       "   \"finish_reason\": \"stop\"\n",
       " },\n",
       " <OpenAIObject at 0x1d7033ef470> JSON: {\n",
       "   \"text\": \"\\n\\nYes, humans are primates, and are thus animals.\",\n",
       "   \"index\": 18,\n",
       "   \"logprobs\": null,\n",
       "   \"finish_reason\": \"stop\"\n",
       " },\n",
       " <OpenAIObject at 0x1d7033ef3b0> JSON: {\n",
       "   \"text\": \"\\n\\nIt really depends on the guy. Some guys make an effort to make a woman cum first, while others may be content if it happens naturally. Ultimately, it\\u2019s up to the woman to decide what she wants and the guy should respect her wishes.\",\n",
       "   \"index\": 19,\n",
       "   \"logprobs\": null,\n",
       "   \"finish_reason\": \"stop\"\n",
       " }]"
      ]
     },
     "execution_count": 174,
     "metadata": {},
     "output_type": "execute_result"
    }
   ],
   "source": [
    "dv_response['choices']"
   ]
  },
  {
   "cell_type": "code",
   "execution_count": 159,
   "metadata": {},
   "outputs": [],
   "source": [
    "import backoff \n",
    "@backoff.on_exception(backoff.expo, openai.error.RateLimitError)\n",
    "def completions_with_backoff(**kwargs):\n",
    "    return openai.Completion.create(**kwargs)\n",
    "testbackoff = completions_with_backoff(model=\"text-davinci-003\", prompt=prompt_test, max_tokens = 500)\n"
   ]
  },
  {
   "cell_type": "code",
   "execution_count": 161,
   "metadata": {},
   "outputs": [
    {
     "data": {
      "text/plain": [
       "'\\n\\nThe primary reason it is not common practice to use the native names for countries is because it can be difficult for English speakers to Pronounce unfamiliar foreign names. This is why people tend to use the English versions of the names to make it easier for people to understand. In addition, some names will also have regional variations depending on where you are located, so it is easier for everyone to use the standardized form.'"
      ]
     },
     "execution_count": 161,
     "metadata": {},
     "output_type": "execute_result"
    }
   ],
   "source": [
    "testbackoff['choices'][0]['text']"
   ]
  },
  {
   "cell_type": "code",
   "execution_count": 140,
   "metadata": {},
   "outputs": [
    {
     "data": {
      "text/plain": [
       "dict_keys(['warning', 'id', 'object', 'created', 'model', 'choices', 'usage'])"
      ]
     },
     "execution_count": 140,
     "metadata": {},
     "output_type": "execute_result"
    }
   ],
   "source": [
    "dv_response.keys()"
   ]
  },
  {
   "cell_type": "code",
   "execution_count": 141,
   "metadata": {},
   "outputs": [
    {
     "data": {
      "text/plain": [
       "<OpenAIObject at 0x1d701777890> JSON: {\n",
       "  \"prompt_tokens\": 195,\n",
       "  \"completion_tokens\": 834,\n",
       "  \"total_tokens\": 1029\n",
       "}"
      ]
     },
     "execution_count": 141,
     "metadata": {},
     "output_type": "execute_result"
    }
   ],
   "source": [
    "dv_response['usage']"
   ]
  },
  {
   "cell_type": "code",
   "execution_count": null,
   "metadata": {},
   "outputs": [],
   "source": []
  }
 ],
 "metadata": {
  "kernelspec": {
   "display_name": "base",
   "language": "python",
   "name": "python3"
  },
  "language_info": {
   "codemirror_mode": {
    "name": "ipython",
    "version": 3
   },
   "file_extension": ".py",
   "mimetype": "text/x-python",
   "name": "python",
   "nbconvert_exporter": "python",
   "pygments_lexer": "ipython3",
   "version": "3.11.4"
  },
  "orig_nbformat": 4
 },
 "nbformat": 4,
 "nbformat_minor": 2
}
